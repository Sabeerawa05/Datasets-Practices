{
  "cells": [
    {
      "cell_type": "markdown",
      "metadata": {
        "id": "view-in-github",
        "colab_type": "text"
      },
      "source": [
        "<a href=\"https://colab.research.google.com/github/Sabeerawa05/Datasets-Practices/blob/main/poverty_pred_cnn.ipynb\" target=\"_parent\"><img src=\"https://colab.research.google.com/assets/colab-badge.svg\" alt=\"Open In Colab\"/></a>"
      ]
    },
    {
      "cell_type": "code",
      "execution_count": null,
      "metadata": {
        "id": "QRussLXNis_h"
      },
      "outputs": [],
      "source": [
        "import numpy as np\n",
        "import cv2\n",
        "import os\n",
        "from imutils import paths\n",
        "import random\n",
        "import h5py\n",
        "from sklearn.preprocessing import LabelEncoder\n",
        "from sklearn.model_selection import train_test_split\n",
        "from sklearn.metrics import classification_report\n",
        "from keras.utils import to_categorical\n",
        "import progressbar\n",
        "import matplotlib.pyplot as plt"
      ],
      "id": "QRussLXNis_h"
    },
    {
      "cell_type": "code",
      "execution_count": null,
      "metadata": {
        "id": "7K8Py4jyQzDh"
      },
      "outputs": [],
      "source": [
        "class HDF5DatasetWriter:\n",
        "    def __init__(self, dims, outputPath, dataKey=\"images\",bufSize=1000):\n",
        "        # check to see if the output path exists, and if so, raise\n",
        "        # an exception\n",
        "        if os.path.exists(outputPath):\n",
        "            raise ValueError(\"The supplied ‘outputPath‘ already \"\n",
        "                             \"exists and cannot be overwritten. Manually delete \"\n",
        "                             \"the file before continuing.\", outputPath)\n",
        "\n",
        "        # open the HDF5 database for writing and create two datasets:\n",
        "        # one to store the images/features and another to store the\n",
        "        # class labels\n",
        "        self.db = h5py.File(outputPath, \"w\")\n",
        "        self.data = self.db.create_dataset(dataKey, dims,\n",
        "                                           dtype=\"float\")\n",
        "        self.labels = self.db.create_dataset(\"labels\", (dims[0], 4),\n",
        "                                             dtype=\"float\")\n",
        "\n",
        "        # store the buffer size, then initialize the buffer itself\n",
        "        # along with the index into the datasets\n",
        "        self.bufSize = bufSize\n",
        "        self.buffer = {\"data\": [], \"labels\": []}\n",
        "        self.idx = 0\n",
        "\n",
        "    def add(self, rows, labels):\n",
        "        # add the rows and labels to the buffer\n",
        "        self.buffer[\"data\"].extend(rows)\n",
        "        self.buffer[\"labels\"].extend(labels)\n",
        "\n",
        "        # check to see if the buffer needs to be flushed to disk\n",
        "        if len(self.buffer[\"data\"]) >= self.bufSize:\n",
        "            self.flush()\n",
        "\n",
        "    def flush(self):\n",
        "        # write the buffers to disk then reset the buffer\n",
        "        i = self.idx + len(self.buffer[\"data\"])\n",
        "        self.data[self.idx:i] = self.buffer[\"data\"]\n",
        "        self.labels[self.idx:i] = self.buffer[\"labels\"]\n",
        "        self.idx = i\n",
        "        self.buffer = {\"data\": [], \"labels\": []}\n",
        "\n",
        "    def storeClassLabels(self, classLabels):\n",
        "        # create a dataset to store the actual class label names,\n",
        "        # then store the class labels\n",
        "        dt = h5py.special_dtype(vlen=str)\n",
        "        labelSet = self.db.create_dataset(\"label_names\",\n",
        "                                          (len(classLabels),), dtype=dt)\n",
        "        labelSet[:] = classLabels\n",
        "\n",
        "    def close(self):\n",
        "        # check to see if there are any other entries in the buffer\n",
        "        # that need to be flushed to disk\n",
        "        if len(self.buffer[\"data\"]) > 0:\n",
        "            self.flush()\n",
        "\n",
        "        # close the dataset\n",
        "        self.db.close()"
      ],
      "id": "7K8Py4jyQzDh"
    },
    {
      "cell_type": "code",
      "execution_count": null,
      "metadata": {
        "id": "Ss15_hMDMH7m"
      },
      "outputs": [],
      "source": [
        "#data_path = '/content/drive/MyDrive/archive'"
      ],
      "id": "Ss15_hMDMH7m"
    },
    {
      "cell_type": "code",
      "execution_count": null,
      "metadata": {
        "id": "cNBy_8klQzDj"
      },
      "outputs": [],
      "source": [
        "data_path = 'satelitte_images'\n",
        "train_hdf5 = 'satelitte_images/hdf5/train.hdf5'\n",
        "val_hdf5 =  'satelitte_images/hdf5/val.hdf5'\n",
        "test_hdf5 =  'satelitte_images/hdf5/test.hdf5'"
      ],
      "id": "cNBy_8klQzDj"
    },
    {
      "cell_type": "code",
      "execution_count": null,
      "metadata": {
        "id": "jt1bjRiTL2dG"
      },
      "outputs": [],
      "source": [
        "# reading all images in the dataset\n",
        "imagePaths = list(paths.list_images(data_path))"
      ],
      "id": "jt1bjRiTL2dG"
    },
    {
      "cell_type": "code",
      "execution_count": null,
      "metadata": {
        "colab": {
          "base_uri": "https://localhost:8080/"
        },
        "id": "dlxJSx8PNChE",
        "outputId": "c46708c7-11ac-4f08-b973-08996fdbca29"
      },
      "outputs": [
        {
          "data": {
            "text/plain": [
              "['satelitte_images\\\\ethiopia_archive\\\\images\\\\10.001614493498009_38.21928274979602_10.0165864149_38.2492265926.png',\n",
              " 'satelitte_images\\\\ethiopia_archive\\\\images\\\\10.006878190821991_37.647636949694025_9.99190626942_37.6925527139.png',\n",
              " 'satelitte_images\\\\ethiopia_archive\\\\images\\\\10.009539116998008_39.16824952909403_10.0245110384_39.2131652933.png',\n",
              " 'satelitte_images\\\\ethiopia_archive\\\\images\\\\10.009539116998008_39.18322145049602_10.0245110384_39.2131652933.png',\n",
              " 'satelitte_images\\\\ethiopia_archive\\\\images\\\\10.009539116998008_39.2131652933_10.0245110384_39.2131652933.png']"
            ]
          },
          "execution_count": 6,
          "metadata": {},
          "output_type": "execute_result"
        }
      ],
      "source": [
        "imagePaths[:5]"
      ],
      "id": "dlxJSx8PNChE"
    },
    {
      "cell_type": "code",
      "execution_count": null,
      "metadata": {
        "colab": {
          "base_uri": "https://localhost:8080/"
        },
        "id": "nCGoJEeIMU_n",
        "outputId": "c62e1aa7-43eb-4594-87e2-bec24c6b07ba"
      },
      "outputs": [
        {
          "data": {
            "text/plain": [
              "56160"
            ]
          },
          "execution_count": 7,
          "metadata": {},
          "output_type": "execute_result"
        }
      ],
      "source": [
        "len(imagePaths)"
      ],
      "id": "nCGoJEeIMU_n"
    },
    {
      "cell_type": "code",
      "execution_count": null,
      "metadata": {
        "id": "ucfxiytvQzDm"
      },
      "outputs": [],
      "source": [
        "# shufflimg all images in dataset for reproducibilty\n",
        "random.seed(42)\n",
        "random.shuffle(imagePaths)"
      ],
      "id": "ucfxiytvQzDm"
    },
    {
      "cell_type": "code",
      "execution_count": null,
      "metadata": {
        "id": "aK_hJkGYQzDm",
        "outputId": "254f89c5-f264-496c-cdbd-6aaa60548268"
      },
      "outputs": [
        {
          "data": {
            "text/plain": [
              "['satelitte_images\\\\ethiopia_archive\\\\images\\\\8.103335065686016_38.193701130798004_8.13327890849_38.2086730522.png',\n",
              " 'satelitte_images\\\\malawi_archive\\\\images\\\\-10.739254078598007_33.55225392140199_-10.754226_33.537282.png',\n",
              " 'satelitte_images\\\\malawi_archive\\\\images\\\\-15.781865235794024_35.142495764205975_-15.826781_35.09758.png',\n",
              " 'satelitte_images\\\\malawi_archive\\\\images\\\\-15.735151842803985_35.136095078598004_-15.705208_35.151067.png',\n",
              " 'satelitte_images\\\\ethiopia_archive\\\\images\\\\ethiopia_Images\\\\8.563866629893985_39.223355202794025_8.53392278709_39.268270967.png']"
            ]
          },
          "execution_count": 9,
          "metadata": {},
          "output_type": "execute_result"
        }
      ],
      "source": [
        "imagePaths[:5]"
      ],
      "id": "aK_hJkGYQzDm"
    },
    {
      "cell_type": "code",
      "execution_count": null,
      "metadata": {
        "id": "yieQTm_DQzDm"
      },
      "outputs": [],
      "source": [
        "# extract label (category) of images from path\n",
        "imageLabels = [p.split(os.path.sep)[1] for p in imagePaths]"
      ],
      "id": "yieQTm_DQzDm"
    },
    {
      "cell_type": "code",
      "execution_count": null,
      "metadata": {
        "id": "-cUbz_n_QzDm",
        "outputId": "b649f8fd-4cda-4309-95c7-f3bad88da148"
      },
      "outputs": [
        {
          "data": {
            "text/plain": [
              "56160"
            ]
          },
          "execution_count": 11,
          "metadata": {},
          "output_type": "execute_result"
        }
      ],
      "source": [
        "len(imageLabels)"
      ],
      "id": "-cUbz_n_QzDm"
    },
    {
      "cell_type": "code",
      "execution_count": null,
      "metadata": {
        "id": "BAveNJIfQzDn"
      },
      "outputs": [],
      "source": [
        "\n",
        "le = LabelEncoder()\n",
        "imageLabels = le.fit_transform(imageLabels)"
      ],
      "id": "BAveNJIfQzDn"
    },
    {
      "cell_type": "code",
      "execution_count": null,
      "metadata": {
        "id": "J582EKwrQzDn"
      },
      "outputs": [],
      "source": [
        "classNames = [pt.split(os.path.sep)[1] for pt in imagePaths]\n",
        "classNames = [str(x) for x in np.unique(classNames)]"
      ],
      "id": "J582EKwrQzDn"
    },
    {
      "cell_type": "code",
      "execution_count": null,
      "metadata": {
        "id": "7N4Xjx0aQzDn",
        "outputId": "14b7c882-25d0-4ccd-99a4-35791934b8ea"
      },
      "outputs": [
        {
          "data": {
            "text/plain": [
              "['Mali_archive', 'ethiopia_archive', 'malawi_archive', 'nigeria_archive']"
            ]
          },
          "execution_count": 14,
          "metadata": {},
          "output_type": "execute_result"
        }
      ],
      "source": [
        "classNames"
      ],
      "id": "7N4Xjx0aQzDn"
    },
    {
      "cell_type": "code",
      "execution_count": null,
      "metadata": {
        "id": "DBaM40UFQzDn",
        "outputId": "a32e3b6e-17d2-4d4d-c1c2-58a47fbc94e9"
      },
      "outputs": [
        {
          "data": {
            "text/plain": [
              "array([0, 1, 2, 3], dtype=int64)"
            ]
          },
          "execution_count": 15,
          "metadata": {},
          "output_type": "execute_result"
        }
      ],
      "source": [
        "np.unique(imageLabels)"
      ],
      "id": "DBaM40UFQzDn"
    },
    {
      "cell_type": "code",
      "execution_count": null,
      "metadata": {
        "id": "IansD1eSQzDo"
      },
      "outputs": [],
      "source": [
        "# one-hot encode of image label\n",
        "imageLabels = to_categorical(imageLabels, len(classNames))"
      ],
      "id": "IansD1eSQzDo"
    },
    {
      "cell_type": "code",
      "execution_count": null,
      "metadata": {
        "id": "43mlc_PfQzDo",
        "outputId": "8c38afc7-391b-4cf9-a19f-c32a38cef228"
      },
      "outputs": [
        {
          "data": {
            "text/plain": [
              "array([[0., 1., 0., 0.],\n",
              "       [0., 0., 1., 0.],\n",
              "       [0., 0., 1., 0.],\n",
              "       ...,\n",
              "       [0., 1., 0., 0.],\n",
              "       [0., 1., 0., 0.],\n",
              "       [1., 0., 0., 0.]], dtype=float32)"
            ]
          },
          "execution_count": 17,
          "metadata": {},
          "output_type": "execute_result"
        }
      ],
      "source": [
        "imageLabels"
      ],
      "id": "43mlc_PfQzDo"
    },
    {
      "cell_type": "code",
      "execution_count": null,
      "metadata": {
        "id": "dmd8Y4zGQzDo"
      },
      "outputs": [],
      "source": [
        "# perform stratified sampling from the training set to build the\n",
        " # testing split from the training data\n",
        "split = train_test_split(imagePaths, imageLabels,\n",
        "                         test_size=0.10, stratify=imageLabels,  random_state=42)\n",
        "\n",
        "(trainPaths, testPaths, trainLabels, testLabels) = split\n",
        "\n",
        "# perform another stratified sampling, this time to build the\n",
        "# validation data\n",
        "split = train_test_split(trainPaths, trainLabels,\n",
        "                         test_size=0.15, stratify=trainLabels,random_state=42)\n",
        "\n",
        "(trainPaths, valPaths, trainLabels, valLabels) = split"
      ],
      "id": "dmd8Y4zGQzDo"
    },
    {
      "cell_type": "code",
      "execution_count": null,
      "metadata": {
        "id": "I3bo-OfYQzDo"
      },
      "outputs": [],
      "source": [
        "# construct a list pairing the training, validation, and testing\n",
        "# image paths along with their corresponding labels and output HDF5\n",
        "# files\n",
        "datasets = [(\"train\", trainPaths, trainLabels, train_hdf5),\n",
        "            (\"val\", valPaths, valLabels, val_hdf5),\n",
        "            (\"test\", testPaths, testLabels, test_hdf5)]"
      ],
      "id": "I3bo-OfYQzDo"
    },
    {
      "cell_type": "code",
      "execution_count": null,
      "metadata": {
        "id": "XpsGDpDiQzDp",
        "outputId": "3f00056b-c5dc-4e5e-d8ea-2e0dddb6aa8f"
      },
      "outputs": [
        {
          "name": "stderr",
          "output_type": "stream",
          "text": [
            "Building Dataset:   0% |                                       | ETA:  --:--:--\r"
          ]
        },
        {
          "name": "stdout",
          "output_type": "stream",
          "text": [
            "[INFO] building satelitte_images/hdf5/train.hdf5...\n"
          ]
        },
        {
          "name": "stderr",
          "output_type": "stream",
          "text": [
            "Building Dataset: 100% |########################################| Time: 0:31:07\n",
            "Building Dataset:   0% |                                       | ETA:  --:--:--\r"
          ]
        },
        {
          "name": "stdout",
          "output_type": "stream",
          "text": [
            "[INFO] building satelitte_images/hdf5/val.hdf5...\n"
          ]
        },
        {
          "name": "stderr",
          "output_type": "stream",
          "text": [
            "Building Dataset: 100% |########################################| Time: 0:04:34\n",
            "Building Dataset:   0% |                                       | ETA:  --:--:--\r"
          ]
        },
        {
          "name": "stdout",
          "output_type": "stream",
          "text": [
            "[INFO] building satelitte_images/hdf5/test.hdf5...\n"
          ]
        },
        {
          "name": "stderr",
          "output_type": "stream",
          "text": [
            "Building Dataset: 100% |########################################| Time: 0:03:15\n"
          ]
        }
      ],
      "source": [
        "# loop over the dataset tuples\n",
        "for (dType, paths, labels, outputPath) in datasets:\n",
        "    # create HDF5 writer\n",
        "    print(\"[INFO] building {}...\".format(outputPath))\n",
        "    writer = HDF5DatasetWriter((len(paths), 256, 256, 3), outputPath)\n",
        "\n",
        "    # initialize the progress bar\n",
        "    widgets = [\"Building Dataset: \", progressbar.Percentage(), \" \",\n",
        "               progressbar.Bar(), \" \", progressbar.ETA()]\n",
        "    pbar = progressbar.ProgressBar(maxval=len(paths),\n",
        "                                   widgets=widgets).start()\n",
        "\n",
        "    # loop over the image paths\n",
        "    for (i, (path, label)) in enumerate(zip(paths, labels)):\n",
        "        # load the image and process it\n",
        "        image = cv2.imread(path)\n",
        "        image = image.astype('float')/255.0\n",
        "\n",
        "        # add the image and label # to the HDF5 dataset\n",
        "        writer.add([image], [label])\n",
        "        pbar.update(i)\n",
        "\n",
        "    # close the HDF5 writer\n",
        "    pbar.finish()\n",
        "    writer.close()\n",
        ""
      ],
      "id": "XpsGDpDiQzDp"
    },
    {
      "cell_type": "code",
      "execution_count": null,
      "metadata": {
        "id": "bkxOo1MbQzDp"
      },
      "outputs": [],
      "source": [
        "def read_hdf5(dir):\n",
        "    db = h5py.File(dir, mode='r')\n",
        "\n",
        "    return db"
      ],
      "id": "bkxOo1MbQzDp"
    },
    {
      "cell_type": "code",
      "execution_count": null,
      "metadata": {
        "id": "JNfTLCF3QzDp"
      },
      "outputs": [],
      "source": [
        "train_data = read_hdf5(train_hdf5)"
      ],
      "id": "JNfTLCF3QzDp"
    },
    {
      "cell_type": "code",
      "execution_count": null,
      "metadata": {
        "id": "GID1HRdlQzDp",
        "outputId": "0da523c6-f7f6-420c-9214-90ec4f653216"
      },
      "outputs": [
        {
          "data": {
            "text/plain": [
              "['images', 'labels']"
            ]
          },
          "execution_count": 25,
          "metadata": {},
          "output_type": "execute_result"
        }
      ],
      "source": [
        "list(train_data.keys())"
      ],
      "id": "GID1HRdlQzDp"
    },
    {
      "cell_type": "code",
      "execution_count": null,
      "metadata": {
        "id": "eb6xoVhEQzDq",
        "outputId": "8c2faf0e-dace-478b-e6dc-9548a2872fdd"
      },
      "outputs": [
        {
          "data": {
            "text/plain": [
              "(42962, 256, 256, 3)"
            ]
          },
          "execution_count": 26,
          "metadata": {},
          "output_type": "execute_result"
        }
      ],
      "source": [
        "train_data['images'].shape"
      ],
      "id": "eb6xoVhEQzDq"
    },
    {
      "cell_type": "code",
      "execution_count": null,
      "metadata": {
        "id": "oeVwlFpCQzDq",
        "outputId": "87565b57-2e76-4708-ff95-809fbd46cbe2"
      },
      "outputs": [
        {
          "data": {
            "text/plain": [
              "(42962, 4)"
            ]
          },
          "execution_count": 27,
          "metadata": {},
          "output_type": "execute_result"
        }
      ],
      "source": [
        "train_data['labels'].shape"
      ],
      "id": "oeVwlFpCQzDq"
    },
    {
      "cell_type": "code",
      "execution_count": null,
      "metadata": {
        "id": "R6vkSJHPQzDq"
      },
      "outputs": [],
      "source": [
        "val_data = read_hdf5(val_hdf5)"
      ],
      "id": "R6vkSJHPQzDq"
    },
    {
      "cell_type": "code",
      "execution_count": null,
      "metadata": {
        "id": "qCYC9FQUQzDq"
      },
      "outputs": [],
      "source": [
        "test_data = read_hdf5(test_hdf5)"
      ],
      "id": "qCYC9FQUQzDq"
    },
    {
      "cell_type": "code",
      "execution_count": null,
      "metadata": {
        "id": "PB6DnaGtQzDq",
        "outputId": "3b95b615-3096-4b42-ab0e-c72ae5be6050"
      },
      "outputs": [
        {
          "data": {
            "text/plain": [
              "(32, 256, 256, 3)"
            ]
          },
          "execution_count": 41,
          "metadata": {},
          "output_type": "execute_result"
        }
      ],
      "source": [
        "train_data['images'][0:32].shape\n"
      ],
      "id": "PB6DnaGtQzDq"
    },
    {
      "cell_type": "code",
      "execution_count": null,
      "metadata": {
        "id": "XQRlCwBAQzDr"
      },
      "outputs": [],
      "source": [
        "## generate batches of image, label pair for training as a sequences/generator\n",
        "class HDF5DatasetGenerator:\n",
        "\n",
        "    def __init__(self, dbPath, batchSize):\n",
        "\n",
        "        # store the batch size, preprocessors, and data augmentor,\n",
        "        # whether or not the labels should be binarized, along with\n",
        "        # the total number of classes\n",
        "        self.batchSize = batchSize\n",
        "\n",
        "\n",
        "        # open the HDF5 database for reading and determine the total\n",
        "        # number of entries in the database\n",
        "        self.db = h5py.File(dbPath, mode='r')\n",
        "        self.numImages = self.db[\"labels\"].shape[0]\n",
        "\n",
        "\n",
        "    def generator(self, passes=np.inf):\n",
        "        # initialize the epoch count\n",
        "        epochs = 0\n",
        "\n",
        "        # keep looping infinitely -- the model will stop once we have\n",
        "        # reach the desired number of epochs\n",
        "        while epochs < passes:\n",
        "            # loop over the HDF5 dataset\n",
        "            for i in np.arange(0, self.numImages, self.batchSize):\n",
        "                # extract the images and labels from the HDF dataset\n",
        "                images = self.db[\"images\"][i: i + self.batchSize]\n",
        "                labels = self.db[\"labels\"][i: i + self.batchSize]\n",
        "\n",
        "                # yield a tuple of images and labels\n",
        "                yield (images, labels)\n",
        "\n",
        "    def close(self):\n",
        "        # close the database\n",
        "        self.db.close()"
      ],
      "id": "XQRlCwBAQzDr"
    },
    {
      "cell_type": "code",
      "execution_count": null,
      "metadata": {
        "id": "jhQno812QzDr"
      },
      "outputs": [],
      "source": [
        "# initialize the training and validation dataset generators\n",
        "trainGen = HDF5DatasetGenerator(train_hdf5, 8)\n",
        "valGen = HDF5DatasetGenerator(val_hdf5, 8)\n",
        "testGen = HDF5DatasetGenerator(test_hdf5, 8)"
      ],
      "id": "jhQno812QzDr"
    },
    {
      "cell_type": "code",
      "execution_count": null,
      "metadata": {
        "id": "QxYadwWrQzDr"
      },
      "outputs": [],
      "source": [],
      "id": "QxYadwWrQzDr"
    },
    {
      "cell_type": "markdown",
      "metadata": {
        "id": "cLCM1pdoQzDs"
      },
      "source": [
        "## CNN MODEL"
      ],
      "id": "cLCM1pdoQzDs"
    },
    {
      "cell_type": "code",
      "execution_count": null,
      "metadata": {
        "id": "S78VfyP_QzDt"
      },
      "outputs": [],
      "source": [
        "from keras.models import Sequential\n",
        "from keras.layers.convolutional import Conv2D\n",
        "from keras.layers.convolutional import MaxPooling2D\n",
        "from keras import backend as K\n",
        "from keras.layers import Activation\n",
        "from keras.models import load_model\n",
        "from keras.layers.normalization import BatchNormalization\n",
        "from tensorflow.keras.callbacks import EarlyStopping\n",
        "from keras.layers.core import Dropout\n",
        "from keras.layers.core import Flatten\n",
        "from keras.layers.core import Dense\n",
        "from keras.optimizers import SGD\n",
        "from keras.optimizers import Adam\n",
        "\n",
        "\n",
        "class CNNModel:\n",
        "\n",
        "    def build(width, height, depth, classes):\n",
        "\n",
        "        inputShape = (height,width, depth)\n",
        "        chanDim = -1\n",
        "\n",
        "        if(K.image_data_format()== 'channels_first'):\n",
        "            inputShape = (depth, height, width)\n",
        "            chanDim = 1\n",
        "\n",
        "        #first layer\n",
        "        model = Sequential()\n",
        "        model.add(Conv2D(32, (3,3), input_shape = inputShape ,padding='same'))\n",
        "        model.add(Activation(\"relu\"))\n",
        "        model.add(BatchNormalization(axis=chanDim))\n",
        "        #second layer\n",
        "        model.add(Conv2D(32, (3,3), padding='same' ))\n",
        "        model.add(Activation('relu'))\n",
        "        model.add(BatchNormalization(axis=chanDim))\n",
        "        #regularization\n",
        "        model.add(MaxPooling2D(pool_size = (2,2), strides=(2,2)))\n",
        "        model.add(Dropout(0.25))\n",
        "\n",
        "        #thirt layer\n",
        "        model.add(Conv2D(64, (3,3), padding='same'))\n",
        "        model.add(Activation('relu'))\n",
        "        model.add(BatchNormalization(axis=chanDim))\n",
        "        #fourth layer\n",
        "        model.add(Conv2D(64, (3,3), padding='same'))\n",
        "        model.add(Activation('relu'))\n",
        "        model.add(BatchNormalization(axis=chanDim))\n",
        "        model.add(MaxPooling2D(pool_size=(2,2), strides= (2,2)))\n",
        "        model.add(Dropout(0.25))\n",
        "\n",
        "        #fifth layer\n",
        "        model.add(Conv2D(128, (3,3), padding='same'))\n",
        "        model.add(Activation('relu'))\n",
        "        model.add(BatchNormalization(axis=chanDim))\n",
        "        #sixth layer\n",
        "        model.add(Conv2D(128, (3,3), padding='same'))\n",
        "        model.add(Activation('relu'))\n",
        "        model.add(BatchNormalization(axis=chanDim))\n",
        "        model.add(MaxPooling2D(pool_size=(2,2), strides= (2,2)))\n",
        "        model.add(Dropout(0.25))\n",
        "\n",
        "        #seventh layer\n",
        "        model.add(Conv2D(256, (3,3), padding='same'))\n",
        "        model.add(Activation('relu'))\n",
        "        model.add(BatchNormalization(axis=chanDim))\n",
        "        #eighth layer\n",
        "        model.add(Conv2D(256, (3,3), padding='same'))\n",
        "        model.add(Activation('relu'))\n",
        "        model.add(BatchNormalization(axis=chanDim))\n",
        "        model.add(MaxPooling2D(pool_size=(2,2), strides= (2,2)))\n",
        "        model.add(Dropout(0.25))\n",
        "\n",
        "\n",
        "\n",
        "\n",
        "        #classification layer\n",
        "        model.add(Flatten())\n",
        "        model.add(Dense(1024))\n",
        "        model.add(Activation('relu'))\n",
        "        model.add(BatchNormalization())\n",
        "        model.add(Dense(1024))\n",
        "        model.add(Activation('relu'))\n",
        "        model.add(BatchNormalization())\n",
        "        model.add(Dropout(0.25))\n",
        "\n",
        "        model.add(Dense(classes))\n",
        "        model.add(Activation('softmax'))\n",
        "\n",
        "        return model"
      ],
      "id": "S78VfyP_QzDt"
    },
    {
      "cell_type": "code",
      "execution_count": null,
      "metadata": {
        "id": "madxU6SeQzDu",
        "outputId": "f10f96e7-dcab-42fd-8462-185ecb95baa4"
      },
      "outputs": [
        {
          "name": "stdout",
          "output_type": "stream",
          "text": [
            "[INFO] compiling model...\n"
          ]
        }
      ],
      "source": [
        "print(\"[INFO] compiling model...\")\n",
        "epoch = 200\n",
        "opt = Adam(lr=1e-4, decay=1e-4/epoch)\n",
        "cnn_model = CNNModel.build(width=256, height=256, depth=3,\n",
        "classes=len(classNames))\n",
        "cnn_model.compile(loss=\"categorical_crossentropy\", optimizer=opt,\n",
        "metrics=[\"accuracy\"])"
      ],
      "id": "madxU6SeQzDu"
    },
    {
      "cell_type": "code",
      "execution_count": null,
      "metadata": {
        "id": "RxBvRTDTQzDv"
      },
      "outputs": [],
      "source": [
        "es = [EarlyStopping(monitor='val_loss', mode='min', verbose=1, patience=10, restore_best_weights=True)]"
      ],
      "id": "RxBvRTDTQzDv"
    },
    {
      "cell_type": "code",
      "execution_count": null,
      "metadata": {
        "scrolled": true,
        "id": "tvc07dc1QzDv",
        "outputId": "022e2abd-1a29-4768-8f52-6db9b9464b53"
      },
      "outputs": [
        {
          "name": "stdout",
          "output_type": "stream",
          "text": [
            "[INFO] training network...\n",
            "Epoch 1/200\n",
            "5370/5370 [==============================] - 897s 166ms/step - loss: 1.4099 - accuracy: 0.4452 - val_loss: 1.0946 - val_accuracy: 0.5424\n",
            "Epoch 2/200\n",
            "5370/5370 [==============================] - 897s 167ms/step - loss: 1.2169 - accuracy: 0.4882 - val_loss: 1.0971 - val_accuracy: 0.5491\n",
            "Epoch 3/200\n",
            "5370/5370 [==============================] - 896s 167ms/step - loss: 1.0568 - accuracy: 0.5724 - val_loss: 0.8810 - val_accuracy: 0.6364\n",
            "Epoch 4/200\n",
            "5370/5370 [==============================] - 909s 169ms/step - loss: 0.9535 - accuracy: 0.6185 - val_loss: 0.7990 - val_accuracy: 0.6810\n",
            "Epoch 5/200\n",
            "5370/5370 [==============================] - 918s 171ms/step - loss: 0.8467 - accuracy: 0.6641 - val_loss: 1.1237 - val_accuracy: 0.5647\n",
            "Epoch 6/200\n",
            "5370/5370 [==============================] - 921s 172ms/step - loss: 0.7727 - accuracy: 0.6956 - val_loss: 0.9280 - val_accuracy: 0.6472\n",
            "Epoch 7/200\n",
            "5370/5370 [==============================] - 915s 170ms/step - loss: 0.7012 - accuracy: 0.7267 - val_loss: 0.9892 - val_accuracy: 0.6482\n",
            "Epoch 8/200\n",
            "5370/5370 [==============================] - 951s 177ms/step - loss: 0.6368 - accuracy: 0.7547 - val_loss: 0.7974 - val_accuracy: 0.7551\n",
            "Epoch 9/200\n",
            "5370/5370 [==============================] - 977s 182ms/step - loss: 0.5956 - accuracy: 0.7732 - val_loss: 0.9540 - val_accuracy: 0.6820\n",
            "Epoch 10/200\n",
            "5370/5370 [==============================] - 1009s 188ms/step - loss: 0.5497 - accuracy: 0.7900 - val_loss: 1.0086 - val_accuracy: 0.7053\n",
            "Epoch 11/200\n",
            "5370/5370 [==============================] - 986s 183ms/step - loss: 0.4685 - accuracy: 0.8230 - val_loss: 1.3548 - val_accuracy: 0.7368\n",
            "Epoch 12/200\n",
            "5370/5370 [==============================] - 961s 179ms/step - loss: 0.4382 - accuracy: 0.8336 - val_loss: 0.9538 - val_accuracy: 0.7837\n",
            "Epoch 13/200\n",
            "5370/5370 [==============================] - 966s 180ms/step - loss: 0.3601 - accuracy: 0.8649 - val_loss: 1.3604 - val_accuracy: 0.7434\n",
            "Epoch 14/200\n",
            "5370/5370 [==============================] - 965s 179ms/step - loss: 0.3482 - accuracy: 0.8702 - val_loss: 1.6001 - val_accuracy: 0.7470\n",
            "Epoch 15/200\n",
            "5370/5370 [==============================] - 979s 182ms/step - loss: 0.3543 - accuracy: 0.8671 - val_loss: 1.4699 - val_accuracy: 0.7385\n",
            "Epoch 16/200\n",
            "5370/5370 [==============================] - 991s 184ms/step - loss: 0.3141 - accuracy: 0.8850 - val_loss: 1.3933 - val_accuracy: 0.7780\n",
            "Epoch 17/200\n",
            "5370/5370 [==============================] - 985s 183ms/step - loss: 0.2927 - accuracy: 0.8898 - val_loss: 1.6945 - val_accuracy: 0.7393\n",
            "Epoch 18/200\n",
            "5370/5370 [==============================] - 990s 184ms/step - loss: 0.2654 - accuracy: 0.9054 - val_loss: 3.3816 - val_accuracy: 0.7678\n",
            "Restoring model weights from the end of the best epoch.\n",
            "Epoch 00018: early stopping\n"
          ]
        }
      ],
      "source": [
        "# train the network\n",
        "print(\"[INFO] training network...\")\n",
        "CNNHist = cnn_model.fit(x = trainGen.generator(),\n",
        "                        validation_data=valGen.generator(),\n",
        "                        steps_per_epoch=trainGen.numImages // 8,\n",
        "                        validation_steps=valGen.numImages // 8,\n",
        "                        batch_size=8,\n",
        "                        epochs=epoch, callbacks=es, verbose=1)"
      ],
      "id": "tvc07dc1QzDv"
    },
    {
      "cell_type": "code",
      "execution_count": null,
      "metadata": {
        "id": "HJDITpy8QzDv"
      },
      "outputs": [],
      "source": [
        "# saving model\n",
        "cnn_model.save('satelitte_models/cnn_model_satelitte.h5')"
      ],
      "id": "HJDITpy8QzDv"
    },
    {
      "cell_type": "code",
      "execution_count": null,
      "metadata": {
        "id": "MF37LgL9QzDv",
        "outputId": "444007aa-33cc-40c3-a243-ba6ac49f03ba"
      },
      "outputs": [
        {
          "data": {
            "text/plain": [
              "<matplotlib.legend.Legend at 0x1eeb9bf9b50>"
            ]
          },
          "execution_count": 30,
          "metadata": {},
          "output_type": "execute_result"
        },
        {
          "data": {
            "image/png": "[encoded data removed]",
            "text/plain": [
              "<Figure size 432x288 with 1 Axes>"
            ]
          },
          "metadata": {},
          "output_type": "display_data"
        }
      ],
      "source": [
        "# plot the training loss and accuracy\n",
        "plt.style.use(\"ggplot\")\n",
        "plt.figure()\n",
        "plt.plot(CNNHist.history[\"loss\"], label=\"train_loss\")\n",
        "plt.plot(CNNHist.history[\"val_loss\"], label=\"val_loss\")\n",
        "plt.plot(CNNHist.history[\"accuracy\"], label=\"train_acc\")\n",
        "plt.plot(CNNHist.history[\"val_accuracy\"], label=\"val_acc\")\n",
        "plt.title(\"Training Loss and Accuracy on Satelitte Images\")\n",
        "plt.xlabel(\"Epoch #\")\n",
        "plt.ylabel(\"Loss/Accuracy\")\n",
        "plt.legend()"
      ],
      "id": "MF37LgL9QzDv"
    },
    {
      "cell_type": "code",
      "execution_count": null,
      "metadata": {
        "id": "XagOEo4aQzDw",
        "outputId": "40c8c212-3e16-471a-a441-fc29ae4438c8"
      },
      "outputs": [
        {
          "data": {
            "text/plain": [
              "5616"
            ]
          },
          "execution_count": 31,
          "metadata": {},
          "output_type": "execute_result"
        }
      ],
      "source": [
        "testGen.numImages"
      ],
      "id": "XagOEo4aQzDw"
    },
    {
      "cell_type": "code",
      "execution_count": null,
      "metadata": {
        "id": "38pfSU0eQzDw",
        "outputId": "9b065188-88dd-4521-a41c-181b484e98fa"
      },
      "outputs": [
        {
          "data": {
            "text/plain": [
              "5616"
            ]
          },
          "execution_count": 32,
          "metadata": {},
          "output_type": "execute_result"
        }
      ],
      "source": [
        "num_pred = (testGen.numImages // 8) * 8\n",
        "num_pred"
      ],
      "id": "38pfSU0eQzDw"
    },
    {
      "cell_type": "code",
      "execution_count": null,
      "metadata": {
        "id": "KWWtgMpVHBK2",
        "outputId": "bf58aba2-8b31-4b25-c695-9b06baef71b1"
      },
      "outputs": [
        {
          "name": "stdout",
          "output_type": "stream",
          "text": [
            "[INFO] evaluating network...\n",
            "                  precision    recall  f1-score   support\n",
            "\n",
            "    Mali_archive       0.83      0.64      0.72      1475\n",
            "ethiopia_archive       0.75      0.83      0.79      1717\n",
            "  malawi_archive       0.74      0.82      0.78      1270\n",
            " nigeria_archive       0.70      0.72      0.71      1154\n",
            "\n",
            "        accuracy                           0.75      5616\n",
            "       macro avg       0.76      0.75      0.75      5616\n",
            "    weighted avg       0.76      0.75      0.75      5616\n",
            "\n"
          ]
        }
      ],
      "source": [
        "# evaluate the network\n",
        "print(\"[INFO] evaluating network...\")\n",
        "num_pred = (testGen.numImages // 8) * 8\n",
        "predictions = cnn_model.predict(testGen.generator(passes=1),\n",
        "                                      steps=testGen.numImages // 8)\n",
        "y_pred = predictions.argmax(axis=-1)\n",
        "y_true = test_data['labels'][...].argmax(axis=-1)[:num_pred]\n",
        "print(classification_report(y_true, y_pred,\n",
        "                            target_names=classNames))\n",
        "#predictions = model.predict(testX, batch_size=32)\n",
        "#print(classification_report(testY.argmax(axis=1),\n",
        "                            #predictions.argmax(axis=1), target_names=classNames))"
      ],
      "id": "KWWtgMpVHBK2"
    },
    {
      "cell_type": "code",
      "execution_count": null,
      "metadata": {
        "id": "qsCXT_DIQzDx"
      },
      "outputs": [],
      "source": [],
      "id": "qsCXT_DIQzDx"
    },
    {
      "cell_type": "code",
      "execution_count": null,
      "metadata": {
        "id": "Nj6PZfkOQzDx"
      },
      "outputs": [],
      "source": [],
      "id": "Nj6PZfkOQzDx"
    }
  ],
  "metadata": {
    "kernelspec": {
      "display_name": "Python 3",
      "language": "python",
      "name": "python3"
    },
    "language_info": {
      "codemirror_mode": {
        "name": "ipython",
        "version": 3
      },
      "file_extension": ".py",
      "mimetype": "text/x-python",
      "name": "python",
      "nbconvert_exporter": "python",
      "pygments_lexer": "ipython3",
      "version": "3.8.5"
    },
    "colab": {
      "provenance": [],
      "include_colab_link": true
    }
  },
  "nbformat": 4,
  "nbformat_minor": 5
}