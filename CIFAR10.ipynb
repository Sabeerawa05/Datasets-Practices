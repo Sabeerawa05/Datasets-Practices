{
  "nbformat": 4,
  "nbformat_minor": 0,
  "metadata": {
    "colab": {
      "provenance": [],
      "include_colab_link": true
    },
    "kernelspec": {
      "display_name": "Python 3",
      "name": "python3"
    },
    "accelerator": "TPU"
  },
  "cells": [
    {
      "cell_type": "markdown",
      "metadata": {
        "id": "view-in-github",
        "colab_type": "text"
      },
      "source": [
        "<a href=\"https://colab.research.google.com/github/Sabeerawa05/Datasets-Practices/blob/main/CIFAR10.ipynb\" target=\"_parent\"><img src=\"https://colab.research.google.com/assets/colab-badge.svg\" alt=\"Open In Colab\"/></a>"
      ]
    },
    {
      "cell_type": "markdown",
      "metadata": {
        "id": "4_XSLlQG6rVc"
      },
      "source": [
        "Machine learning Home Work\n",
        "Sabeer Saeed\n",
        "## The work was done using cifar10 images datasets of images. on Artificial Neural Network the data sets gives a poor accuracy result. But using Convolutional Neural Network it gives average of 0.69 level of accuracy due to multiple number of combination of vehicles and animals."
      ]
    },
    {
      "cell_type": "code",
      "metadata": {
        "id": "jAevKbExe3Cf"
      },
      "source": [
        "import tensorflow as tf\n",
        "\n",
        "from tensorflow.keras import datasets, layers, models\n",
        "import matplotlib.pyplot as plt\n",
        "import numpy as np\n",
        "import pandas as pd"
      ],
      "execution_count": null,
      "outputs": []
    },
    {
      "cell_type": "code",
      "metadata": {
        "id": "ONLNtT9ce6hY",
        "colab": {
          "base_uri": "https://localhost:8080/"
        },
        "outputId": "90c97f3b-079d-42c1-cb13-20101d937a48"
      },
      "source": [
        "(train_images, train_labels), (test_images, test_labels) = datasets.cifar10.load_data()\n",
        "#Range these numbers to a limit of 0 to 1 then applying them to the artificial neural network model.\n",
        "#To ascertain we divide the values by 255.\n",
        "#It is significant that the training set and the testing set to be preprocessed in the same way:\n",
        "# Normalize pixel values to be between 0 and 1\n",
        "train_images, test_images = train_images / 255.0, test_images / 255.0"
      ],
      "execution_count": null,
      "outputs": [
        {
          "output_type": "stream",
          "text": [
            "Downloading data from https://www.cs.toronto.edu/~kriz/cifar-10-python.tar.gz\n",
            "170500096/170498071 [==============================] - 2s 0us/step\n"
          ],
          "name": "stdout"
        }
      ]
    },
    {
      "cell_type": "markdown",
      "metadata": {
        "id": "bqJ2RMDL71FV"
      },
      "source": [
        "#to view the train Shape"
      ]
    },
    {
      "cell_type": "code",
      "metadata": {
        "id": "zXvB0jw0fN62",
        "colab": {
          "base_uri": "https://localhost:8080/"
        },
        "outputId": "f401eb46-0c7f-4933-f50c-4806e7fbf103"
      },
      "source": [
        "train_images.shape"
      ],
      "execution_count": null,
      "outputs": [
        {
          "output_type": "execute_result",
          "data": {
            "text/plain": [
              "(50000, 32, 32, 3)"
            ]
          },
          "metadata": {
            "tags": []
          },
          "execution_count": 3
        }
      ]
    },
    {
      "cell_type": "markdown",
      "metadata": {
        "id": "RQd0UBsA7pdg"
      },
      "source": [
        "#to view the test Shape"
      ]
    },
    {
      "cell_type": "code",
      "metadata": {
        "id": "DsIhJpEBfUWp",
        "colab": {
          "base_uri": "https://localhost:8080/"
        },
        "outputId": "ff045860-0fde-4a26-84b5-bb319fb71e93"
      },
      "source": [
        "test_images.shape"
      ],
      "execution_count": null,
      "outputs": [
        {
          "output_type": "execute_result",
          "data": {
            "text/plain": [
              "(10000, 32, 32, 3)"
            ]
          },
          "metadata": {
            "tags": []
          },
          "execution_count": 4
        }
      ]
    },
    {
      "cell_type": "code",
      "metadata": {
        "id": "-dr1JMj9ff3N",
        "colab": {
          "base_uri": "https://localhost:8080/"
        },
        "outputId": "e10a5494-bf2a-44e8-e768-1faf9823b939"
      },
      "source": [
        "train_images[0]"
      ],
      "execution_count": null,
      "outputs": [
        {
          "output_type": "execute_result",
          "data": {
            "text/plain": [
              "array([[[0.23137255, 0.24313725, 0.24705882],\n",
              "        [0.16862745, 0.18039216, 0.17647059],\n",
              "        [0.19607843, 0.18823529, 0.16862745],\n",
              "        ...,\n",
              "        [0.61960784, 0.51764706, 0.42352941],\n",
              "        [0.59607843, 0.49019608, 0.4       ],\n",
              "        [0.58039216, 0.48627451, 0.40392157]],\n",
              "\n",
              "       [[0.0627451 , 0.07843137, 0.07843137],\n",
              "        [0.        , 0.        , 0.        ],\n",
              "        [0.07058824, 0.03137255, 0.        ],\n",
              "        ...,\n",
              "        [0.48235294, 0.34509804, 0.21568627],\n",
              "        [0.46666667, 0.3254902 , 0.19607843],\n",
              "        [0.47843137, 0.34117647, 0.22352941]],\n",
              "\n",
              "       [[0.09803922, 0.09411765, 0.08235294],\n",
              "        [0.0627451 , 0.02745098, 0.        ],\n",
              "        [0.19215686, 0.10588235, 0.03137255],\n",
              "        ...,\n",
              "        [0.4627451 , 0.32941176, 0.19607843],\n",
              "        [0.47058824, 0.32941176, 0.19607843],\n",
              "        [0.42745098, 0.28627451, 0.16470588]],\n",
              "\n",
              "       ...,\n",
              "\n",
              "       [[0.81568627, 0.66666667, 0.37647059],\n",
              "        [0.78823529, 0.6       , 0.13333333],\n",
              "        [0.77647059, 0.63137255, 0.10196078],\n",
              "        ...,\n",
              "        [0.62745098, 0.52156863, 0.2745098 ],\n",
              "        [0.21960784, 0.12156863, 0.02745098],\n",
              "        [0.20784314, 0.13333333, 0.07843137]],\n",
              "\n",
              "       [[0.70588235, 0.54509804, 0.37647059],\n",
              "        [0.67843137, 0.48235294, 0.16470588],\n",
              "        [0.72941176, 0.56470588, 0.11764706],\n",
              "        ...,\n",
              "        [0.72156863, 0.58039216, 0.36862745],\n",
              "        [0.38039216, 0.24313725, 0.13333333],\n",
              "        [0.3254902 , 0.20784314, 0.13333333]],\n",
              "\n",
              "       [[0.69411765, 0.56470588, 0.45490196],\n",
              "        [0.65882353, 0.50588235, 0.36862745],\n",
              "        [0.70196078, 0.55686275, 0.34117647],\n",
              "        ...,\n",
              "        [0.84705882, 0.72156863, 0.54901961],\n",
              "        [0.59215686, 0.4627451 , 0.32941176],\n",
              "        [0.48235294, 0.36078431, 0.28235294]]])"
            ]
          },
          "metadata": {
            "tags": []
          },
          "execution_count": 5
        }
      ]
    },
    {
      "cell_type": "code",
      "metadata": {
        "id": "OEtCOHQ3fk_g",
        "colab": {
          "base_uri": "https://localhost:8080/",
          "height": 283
        },
        "outputId": "a91fbbd8-a983-4e6d-8fb4-1ae119709e20"
      },
      "source": [
        "plt.imshow(train_images[0])"
      ],
      "execution_count": null,
      "outputs": [
        {
          "output_type": "execute_result",
          "data": {
            "text/plain": [
              "<matplotlib.image.AxesImage at 0x7f7ad6b284e0>"
            ]
          },
          "metadata": {
            "tags": []
          },
          "execution_count": 6
        },
        {
          "output_type": "display_data",
          "data": {
            "image/png": "[encoded data removed]",
            "text/plain": [
              "<Figure size 432x288 with 1 Axes>"
            ]
          },
          "metadata": {
            "tags": [],
            "needs_background": "light"
          }
        }
      ]
    },
    {
      "cell_type": "code",
      "metadata": {
        "id": "9gW4OCAqfq2_",
        "colab": {
          "base_uri": "https://localhost:8080/"
        },
        "outputId": "ff2558b3-17e5-4b80-c400-298e01097b87"
      },
      "source": [
        "train_labels[:5]"
      ],
      "execution_count": null,
      "outputs": [
        {
          "output_type": "execute_result",
          "data": {
            "text/plain": [
              "array([[6],\n",
              "       [9],\n",
              "       [9],\n",
              "       [4],\n",
              "       [1]], dtype=uint8)"
            ]
          },
          "metadata": {
            "tags": []
          },
          "execution_count": 7
        }
      ]
    },
    {
      "cell_type": "code",
      "metadata": {
        "id": "JaMiGgN7f9Ma",
        "colab": {
          "base_uri": "https://localhost:8080/"
        },
        "outputId": "acb4abeb-f4a9-4880-c05d-b79173240a6d"
      },
      "source": [
        "#to reshape it one dimentional for easy assessment\n",
        "train_labels = train_labels.reshape(-1,)\n",
        "train_labels[:5]"
      ],
      "execution_count": null,
      "outputs": [
        {
          "output_type": "execute_result",
          "data": {
            "text/plain": [
              "array([6, 9, 9, 4, 1], dtype=uint8)"
            ]
          },
          "metadata": {
            "tags": []
          },
          "execution_count": 8
        }
      ]
    },
    {
      "cell_type": "code",
      "metadata": {
        "id": "Tvn1vFOlgAb7"
      },
      "source": [
        "classes = ['airplane', 'automobile', 'bird', 'cat', 'deer',\n",
        "               'dog', 'frog', 'horse', 'ship', 'truck']"
      ],
      "execution_count": null,
      "outputs": []
    },
    {
      "cell_type": "code",
      "metadata": {
        "id": "gVSX8X7hgLgm",
        "colab": {
          "base_uri": "https://localhost:8080/",
          "height": 35
        },
        "outputId": "bb1727ef-b97b-43eb-b960-ef5bba738ddd"
      },
      "source": [
        "classes[9]"
      ],
      "execution_count": null,
      "outputs": [
        {
          "output_type": "execute_result",
          "data": {
            "application/vnd.google.colaboratory.intrinsic+json": {
              "type": "string"
            },
            "text/plain": [
              "'truck'"
            ]
          },
          "metadata": {
            "tags": []
          },
          "execution_count": 10
        }
      ]
    },
    {
      "cell_type": "code",
      "metadata": {
        "id": "sgxvNr4AgNsv",
        "colab": {
          "base_uri": "https://localhost:8080/",
          "height": 35
        },
        "outputId": "253699e3-35b9-4f76-bee0-d8e4e2cbb8f7"
      },
      "source": [
        "classes[6]"
      ],
      "execution_count": null,
      "outputs": [
        {
          "output_type": "execute_result",
          "data": {
            "application/vnd.google.colaboratory.intrinsic+json": {
              "type": "string"
            },
            "text/plain": [
              "'frog'"
            ]
          },
          "metadata": {
            "tags": []
          },
          "execution_count": 11
        }
      ]
    },
    {
      "cell_type": "code",
      "metadata": {
        "id": "Momu6j5lgUrR"
      },
      "source": [
        "def plot_sample(train, test, index):\n",
        "    plt.figure(figsize=(15,2))\n",
        "    plt.imshow(train[index])\n",
        "    plt.xlabel(classes[test[index]])"
      ],
      "execution_count": null,
      "outputs": []
    },
    {
      "cell_type": "code",
      "metadata": {
        "id": "1n4TmA3YggHc",
        "colab": {
          "base_uri": "https://localhost:8080/",
          "height": 173
        },
        "outputId": "454034cb-eff4-4e1b-e184-ad1e99aa6f2d"
      },
      "source": [
        "plot_sample(train_images, train_labels, 7)"
      ],
      "execution_count": null,
      "outputs": [
        {
          "output_type": "display_data",
          "data": {
            "image/png": "[encoded data removed]",
            "text/plain": [
              "<Figure size 1080x144 with 1 Axes>"
            ]
          },
          "metadata": {
            "tags": [],
            "needs_background": "light"
          }
        }
      ]
    },
    {
      "cell_type": "code",
      "metadata": {
        "id": "0tPUdeUmgmwl",
        "colab": {
          "base_uri": "https://localhost:8080/",
          "height": 173
        },
        "outputId": "1dfe6a6b-c916-4575-fa74-fc0708ec34df"
      },
      "source": [
        "plot_sample(train_images, train_labels, 3)"
      ],
      "execution_count": null,
      "outputs": [
        {
          "output_type": "display_data",
          "data": {
            "image/png": "[encoded data removed]",
            "text/plain": [
              "<Figure size 1080x144 with 1 Axes>"
            ]
          },
          "metadata": {
            "tags": [],
            "needs_background": "light"
          }
        }
      ]
    },
    {
      "cell_type": "code",
      "metadata": {
        "id": "WsHQfhqsg4jg",
        "colab": {
          "base_uri": "https://localhost:8080/"
        },
        "outputId": "a495e01f-7778-4554-96a7-b90c4fb87737"
      },
      "source": [
        "#Now let build the Neural Network\n",
        "\n",
        "artnet = models.Sequential([\n",
        "            layers.Flatten(input_shape=(32,32,3)),\n",
        "            layers.Dense(3000, activation='relu'),\n",
        "            layers.Dense(1000, activation='relu'),\n",
        "            layers.Dense(10, activation='sigmoid')\n",
        "                ])\n",
        "\n",
        "artnet.compile(optimizer='SGD',\n",
        "              loss='sparse_categorical_crossentropy',\n",
        "              metrics=['accuracy'])\n",
        "\n",
        "artnet.fit(train_images, train_labels, epochs=5)"
      ],
      "execution_count": null,
      "outputs": [
        {
          "output_type": "stream",
          "text": [
            "Epoch 1/5\n",
            "1563/1563 [==============================] - 107s 69ms/step - loss: 1.8555 - accuracy: 0.3353\n",
            "Epoch 2/5\n",
            "1563/1563 [==============================] - 103s 66ms/step - loss: 1.6573 - accuracy: 0.4149\n",
            "Epoch 3/5\n",
            "1563/1563 [==============================] - 103s 66ms/step - loss: 1.5685 - accuracy: 0.4476\n",
            "Epoch 4/5\n",
            "1563/1563 [==============================] - 100s 64ms/step - loss: 1.5059 - accuracy: 0.4680\n",
            "Epoch 5/5\n",
            "1563/1563 [==============================] - 99s 64ms/step - loss: 1.4534 - accuracy: 0.4866\n"
          ],
          "name": "stdout"
        },
        {
          "output_type": "execute_result",
          "data": {
            "text/plain": [
              "<tensorflow.python.keras.callbacks.History at 0x7f7acfe1b208>"
            ]
          },
          "metadata": {
            "tags": []
          },
          "execution_count": 15
        }
      ]
    },
    {
      "cell_type": "code",
      "metadata": {
        "id": "CxyJruXf20Uo"
      },
      "source": [
        "#it did terebly"
      ],
      "execution_count": null,
      "outputs": []
    },
    {
      "cell_type": "code",
      "metadata": {
        "id": "khgi7hPi2_y1",
        "colab": {
          "base_uri": "https://localhost:8080/"
        },
        "outputId": "10ade1ee-545b-4d86-f618-6f5ce8ea4bfb"
      },
      "source": [
        "test_loss, test_acc = artnet.evaluate(test_images,  test_labels, verbose=2)\n",
        "\n",
        "print('\\nTest accuracy:', test_acc)"
      ],
      "execution_count": null,
      "outputs": [
        {
          "output_type": "stream",
          "text": [
            "313/313 - 7s - loss: 1.4812 - accuracy: 0.4791\n",
            "\n",
            "Test accuracy: 0.47909998893737793\n"
          ],
          "name": "stdout"
        }
      ]
    },
    {
      "cell_type": "code",
      "metadata": {
        "id": "0d_HUWgU3MC_"
      },
      "source": [
        "#also overfitting"
      ],
      "execution_count": null,
      "outputs": []
    },
    {
      "cell_type": "code",
      "metadata": {
        "colab": {
          "base_uri": "https://localhost:8080/"
        },
        "id": "INSXXaUHIoLi",
        "outputId": "b26bf3ff-d446-4355-8894-535cea448bf2"
      },
      "source": [
        "artnet.evaluate(test_images, test_labels)"
      ],
      "execution_count": null,
      "outputs": [
        {
          "output_type": "stream",
          "text": [
            "313/313 [==============================] - 7s 24ms/step - loss: 1.4812 - accuracy: 0.4791\n"
          ],
          "name": "stdout"
        },
        {
          "output_type": "execute_result",
          "data": {
            "text/plain": [
              "[1.4812389612197876, 0.47909998893737793]"
            ]
          },
          "metadata": {
            "tags": []
          },
          "execution_count": 19
        }
      ]
    },
    {
      "cell_type": "code",
      "metadata": {
        "id": "9jgsHTKTJBfJ"
      },
      "source": [
        "#Now let build the Convolutional Neural Network\n",
        "\n",
        "convnet = models.Sequential([\n",
        "            layers.Conv2D(filters=32, kernel_size=(3,3), activation='relu', input_shape=(32,32,3)),\n",
        "            layers.MaxPooling2D((2,2)),\n",
        "            layers.Conv2D(filters=64, kernel_size=(3, 3), activation='relu'),\n",
        "            layers.MaxPooling2D((2, 2)),\n",
        "\n",
        "            #Dense\n",
        "            layers.Flatten(),\n",
        "            layers.Dense(64, activation='relu'),\n",
        "            layers.Dense(10, activation='softmax')\n",
        "                ])\n",
        "\n",
        "\n"
      ],
      "execution_count": null,
      "outputs": []
    },
    {
      "cell_type": "code",
      "metadata": {
        "id": "ebBujzxlh-_e"
      },
      "source": [
        "convnet.compile(optimizer='adam',\n",
        "              loss='sparse_categorical_crossentropy',\n",
        "              metrics=['accuracy'])"
      ],
      "execution_count": null,
      "outputs": []
    },
    {
      "cell_type": "code",
      "metadata": {
        "colab": {
          "base_uri": "https://localhost:8080/"
        },
        "id": "LFumVyavePSo",
        "outputId": "2d0a1b99-a538-4a1b-b4c0-560eba213cc9"
      },
      "source": [
        "convnet.fit(train_images, train_labels, epochs=10)\n"
      ],
      "execution_count": null,
      "outputs": [
        {
          "output_type": "stream",
          "text": [
            "Epoch 1/10\n",
            "1563/1563 [==============================] - 59s 37ms/step - loss: 1.4374 - accuracy: 0.4855\n",
            "Epoch 2/10\n",
            "1563/1563 [==============================] - 58s 37ms/step - loss: 1.0898 - accuracy: 0.6176\n",
            "Epoch 3/10\n",
            "1563/1563 [==============================] - 58s 37ms/step - loss: 0.9603 - accuracy: 0.6634\n",
            "Epoch 4/10\n",
            "1563/1563 [==============================] - 58s 37ms/step - loss: 0.8692 - accuracy: 0.6985\n",
            "Epoch 5/10\n",
            "1563/1563 [==============================] - 58s 37ms/step - loss: 0.8016 - accuracy: 0.7214\n",
            "Epoch 6/10\n",
            "1563/1563 [==============================] - 58s 37ms/step - loss: 0.7357 - accuracy: 0.7434\n",
            "Epoch 7/10\n",
            "1563/1563 [==============================] - 58s 37ms/step - loss: 0.6791 - accuracy: 0.7645\n",
            "Epoch 8/10\n",
            "1563/1563 [==============================] - 58s 37ms/step - loss: 0.6286 - accuracy: 0.7824\n",
            "Epoch 9/10\n",
            "1563/1563 [==============================] - 58s 37ms/step - loss: 0.5825 - accuracy: 0.7965\n",
            "Epoch 10/10\n",
            "1563/1563 [==============================] - 58s 37ms/step - loss: 0.5376 - accuracy: 0.8116\n"
          ],
          "name": "stdout"
        },
        {
          "output_type": "execute_result",
          "data": {
            "text/plain": [
              "<tensorflow.python.keras.callbacks.History at 0x7f7accec1a58>"
            ]
          },
          "metadata": {
            "tags": []
          },
          "execution_count": 23
        }
      ]
    },
    {
      "cell_type": "code",
      "metadata": {
        "colab": {
          "base_uri": "https://localhost:8080/"
        },
        "id": "SbwUmcaQqlO8",
        "outputId": "179f7409-b846-4024-f8fc-55c9ef77b6cb"
      },
      "source": [
        "convnet.evaluate(test_images, test_labels)"
      ],
      "execution_count": null,
      "outputs": [
        {
          "output_type": "stream",
          "text": [
            "313/313 [==============================] - 4s 12ms/step - loss: 0.9754 - accuracy: 0.6941\n"
          ],
          "name": "stdout"
        },
        {
          "output_type": "execute_result",
          "data": {
            "text/plain": [
              "[0.9753645658493042, 0.694100022315979]"
            ]
          },
          "metadata": {
            "tags": []
          },
          "execution_count": 24
        }
      ]
    },
    {
      "cell_type": "markdown",
      "metadata": {
        "id": "4p7oa5g2rJF1"
      },
      "source": [
        "## Because of the images in the datasets is randum so the make the classification a little bit difficult."
      ]
    },
    {
      "cell_type": "code",
      "metadata": {
        "colab": {
          "base_uri": "https://localhost:8080/"
        },
        "id": "zWx-DK6Krbxb",
        "outputId": "9a796e54-f8eb-4989-c748-0981a285abc3"
      },
      "source": [
        "# To make it for display purpose by normalizing the array\n",
        "test_labels = test_labels.reshape(-1,)\n",
        "test_labels[:5]"
      ],
      "execution_count": null,
      "outputs": [
        {
          "output_type": "execute_result",
          "data": {
            "text/plain": [
              "array([3, 8, 8, 0, 6], dtype=uint8)"
            ]
          },
          "metadata": {
            "tags": []
          },
          "execution_count": 26
        }
      ]
    },
    {
      "cell_type": "code",
      "metadata": {
        "colab": {
          "base_uri": "https://localhost:8080/",
          "height": 173
        },
        "id": "DIFe0p5OsfF_",
        "outputId": "c436d00b-45e0-4de9-c7a2-f6e31d4a2626"
      },
      "source": [
        "#to Display an images\n",
        "plot_sample(test_images, test_labels, 1)"
      ],
      "execution_count": null,
      "outputs": [
        {
          "output_type": "display_data",
          "data": {
            "image/png": "[encoded data removed]",
            "text/plain": [
              "<Figure size 1080x144 with 1 Axes>"
            ]
          },
          "metadata": {
            "tags": [],
            "needs_background": "light"
          }
        }
      ]
    },
    {
      "cell_type": "code",
      "metadata": {
        "colab": {
          "base_uri": "https://localhost:8080/",
          "height": 173
        },
        "id": "mOht5s2ktENc",
        "outputId": "7b13746c-b59f-4097-d12d-5406d2b55c98"
      },
      "source": [
        "plot_sample(test_images, test_labels, 0)"
      ],
      "execution_count": null,
      "outputs": [
        {
          "output_type": "display_data",
          "data": {
            "image/png": "[encoded data removed]",
            "text/plain": [
              "<Figure size 1080x144 with 1 Axes>"
            ]
          },
          "metadata": {
            "tags": [],
            "needs_background": "light"
          }
        }
      ]
    },
    {
      "cell_type": "code",
      "metadata": {
        "colab": {
          "base_uri": "https://localhost:8080/",
          "height": 173
        },
        "id": "ZvRUhbfatNlf",
        "outputId": "aab6307d-3826-41a7-cef2-2ede79e953f0"
      },
      "source": [
        "#To display another image\n",
        "plot_sample(test_images, test_labels, 9)"
      ],
      "execution_count": null,
      "outputs": [
        {
          "output_type": "display_data",
          "data": {
            "image/png": "[encoded data removed]",
            "text/plain": [
              "<Figure size 1080x144 with 1 Axes>"
            ]
          },
          "metadata": {
            "tags": [],
            "needs_background": "light"
          }
        }
      ]
    },
    {
      "cell_type": "code",
      "metadata": {
        "colab": {
          "base_uri": "https://localhost:8080/"
        },
        "id": "e74NhvvDthyI",
        "outputId": "f037270a-3166-4aaf-85c3-8eb5963823db"
      },
      "source": [
        "#Now let predict\n",
        "test_pred = convnet.predict(test_images)\n",
        "test_pred[:5]"
      ],
      "execution_count": null,
      "outputs": [
        {
          "output_type": "execute_result",
          "data": {
            "text/plain": [
              "array([[1.37186944e-05, 1.42429735e-05, 1.27819565e-03, 9.15565431e-01,\n",
              "        2.81919183e-05, 4.45969729e-03, 8.13791237e-04, 9.97246048e-07,\n",
              "        7.77753145e-02, 5.05596217e-05],\n",
              "       [2.02366756e-03, 1.75989065e-02, 3.27464136e-07, 6.96361576e-06,\n",
              "        1.02804121e-09, 3.70404685e-09, 4.71737482e-10, 6.64458488e-11,\n",
              "        9.78176832e-01, 2.19325395e-03],\n",
              "       [1.92363430e-02, 6.32450432e-02, 1.23373131e-04, 3.50133545e-04,\n",
              "        1.10996216e-05, 7.14950465e-06, 4.88651904e-06, 6.43502972e-06,\n",
              "        9.16091919e-01, 9.23555985e-04],\n",
              "       [6.96988642e-01, 5.44719442e-05, 6.60073943e-04, 4.99247864e-04,\n",
              "        1.47841447e-05, 2.74195116e-07, 2.51467573e-05, 4.37582088e-07,\n",
              "        3.00640553e-01, 1.11640221e-03],\n",
              "       [1.55628967e-07, 6.31722942e-05, 3.14467475e-02, 1.43195251e-02,\n",
              "        7.16416478e-01, 3.77943181e-03, 2.33442262e-01, 1.62764773e-05,\n",
              "        4.00797289e-04, 1.15102972e-04]], dtype=float32)"
            ]
          },
          "metadata": {
            "tags": []
          },
          "execution_count": 31
        }
      ]
    },
    {
      "cell_type": "code",
      "metadata": {
        "colab": {
          "base_uri": "https://localhost:8080/"
        },
        "id": "4-fh2tp-vTKX",
        "outputId": "fd1906d1-8136-4cd5-ea0f-0c82b06c48d3"
      },
      "source": [
        "classes"
      ],
      "execution_count": null,
      "outputs": [
        {
          "output_type": "execute_result",
          "data": {
            "text/plain": [
              "['airplane',\n",
              " 'automobile',\n",
              " 'bird',\n",
              " 'cat',\n",
              " 'deer',\n",
              " 'dog',\n",
              " 'frog',\n",
              " 'horse',\n",
              " 'ship',\n",
              " 'truck']"
            ]
          },
          "metadata": {
            "tags": []
          },
          "execution_count": 32
        }
      ]
    },
    {
      "cell_type": "code",
      "metadata": {
        "colab": {
          "base_uri": "https://localhost:8080/"
        },
        "id": "mw2yWtPIvivT",
        "outputId": "87fb214c-7c83-4e83-9661-96ffd067fb33"
      },
      "source": [
        "test_classes = [np.argmax(element) for element in test_pred]\n",
        "test_classes[:5]\n"
      ],
      "execution_count": null,
      "outputs": [
        {
          "output_type": "execute_result",
          "data": {
            "text/plain": [
              "[3, 8, 8, 0, 4]"
            ]
          },
          "metadata": {
            "tags": []
          },
          "execution_count": 38
        }
      ]
    },
    {
      "cell_type": "code",
      "metadata": {
        "colab": {
          "base_uri": "https://localhost:8080/"
        },
        "id": "JPr8n2YLyMDN",
        "outputId": "b72c2265-0ee8-4091-cf0c-5e77e1392a86"
      },
      "source": [
        "test_labels[:5]"
      ],
      "execution_count": null,
      "outputs": [
        {
          "output_type": "execute_result",
          "data": {
            "text/plain": [
              "array([3, 8, 8, 0, 6], dtype=uint8)"
            ]
          },
          "metadata": {
            "tags": []
          },
          "execution_count": 39
        }
      ]
    },
    {
      "cell_type": "code",
      "metadata": {
        "colab": {
          "base_uri": "https://localhost:8080/",
          "height": 35
        },
        "id": "wO8ZHKlMyWMQ",
        "outputId": "f0d2e1c3-b440-4182-ff6b-4761707519c2"
      },
      "source": [
        "classes[test_classes[4]]"
      ],
      "execution_count": null,
      "outputs": [
        {
          "output_type": "execute_result",
          "data": {
            "application/vnd.google.colaboratory.intrinsic+json": {
              "type": "string"
            },
            "text/plain": [
              "'deer'"
            ]
          },
          "metadata": {
            "tags": []
          },
          "execution_count": 55
        }
      ]
    },
    {
      "cell_type": "markdown",
      "metadata": {
        "id": "94X1OdbZzDtC"
      },
      "source": [
        "## But in the real image it is frog because the image and it dataset is very complex. even you may think the picture may be"
      ]
    },
    {
      "cell_type": "code",
      "metadata": {
        "colab": {
          "base_uri": "https://localhost:8080/",
          "height": 173
        },
        "id": "t0ofMIpty7aB",
        "outputId": "6b781e7d-4532-4a80-9920-1b4c2658fa32"
      },
      "source": [
        "plot_sample(test_images, test_labels, 4)"
      ],
      "execution_count": null,
      "outputs": [
        {
          "output_type": "display_data",
          "data": {
            "image/png": "[encoded data removed]",
            "text/plain": [
              "<Figure size 1080x144 with 1 Axes>"
            ]
          },
          "metadata": {
            "tags": [],
            "needs_background": "light"
          }
        }
      ]
    }
  ]
}