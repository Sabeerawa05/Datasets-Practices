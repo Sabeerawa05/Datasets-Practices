{
 "cells": [
  {
   "cell_type": "code",
   "execution_count": 2,
   "metadata": {},
   "outputs": [],
   "source": [
    "#191137127_Sabeer-Saeed_Softwore-Engineering\n",
    "\n",
    "# The following is on machine learning classification Library\n",
    "# It Load Dataset to which Machine Learning read from a Database in excel\n",
    "# It have Summarisation of Data to understand dataset (Descriptive Statistics)\n",
    "# It has Visualisation of Data to understand dataset (Plots, Graphs etc.)\n",
    "# It has Data pre-processing & Data transformation (split into train-test datasets)\n",
    "# Application of a Machine Learning Algorithm to training dataset\n",
    "# setup a ML algorithm and parameter settings \n",
    "# cross validation setup with training dataset \n",
    "# It perform training & fitting Algorithm with training Dataset \n",
    "# It perform Evaluation of trained Algorithm (or Model) and result \n",
    "# It saving the trained model for future prediction\n",
    "# It Finalise the trained modela and make prediction\n",
    "# 1 LOAD INITIALs\n",
    "\n",
    "import pandas as pd\n",
    "import numpy as np\n",
    "import pickle as pk\n",
    "\n",
    "# for dataset spliting\n",
    "from sklearn.model_selection import train_test_split\n",
    "#\n",
    "from sklearn.model_selection import cross_val_score\n",
    "\n",
    "\n",
    "# visualization\n",
    "import matplotlib.pyplot as plt\n",
    "\n",
    "#\n",
    "from pandas.plotting import scatter_matrix\n",
    "\n",
    "# \n",
    "\n",
    "from sklearn.tree import DecisionTreeClassifier\n",
    "from sklearn.naive_bayes import GaussianNB\n",
    "from sklearn.svm import SVC\n",
    "\n",
    "\n",
    "# metrics\n",
    "from sklearn.metrics import accuracy_score\n",
    "from sklearn.metrics import classification_report\n",
    "from sklearn.metrics import confusion_matrix"
   ]
  },
  {
   "cell_type": "code",
   "execution_count": 11,
   "metadata": {},
   "outputs": [
    {
     "name": "stdout",
     "output_type": "stream",
     "text": [
      "      Id  SepalLengthCm  SepalWidthCm  PetalLengthCm  PetalWidthCm  \\\n",
      "0      1            5.1           3.5            1.4           0.2   \n",
      "1      2            4.9           3.0            1.4           0.2   \n",
      "2      3            4.7           3.2            1.3           0.2   \n",
      "3      4            4.6           3.1            1.5           0.2   \n",
      "4      5            5.0           3.6            1.4           0.2   \n",
      "..   ...            ...           ...            ...           ...   \n",
      "145  146            6.7           3.0            5.2           2.3   \n",
      "146  147            6.3           2.5            5.0           1.9   \n",
      "147  148            6.5           3.0            5.2           2.0   \n",
      "148  149            6.2           3.4            5.4           2.3   \n",
      "149  150            5.9           3.0            5.1           1.8   \n",
      "\n",
      "            Species  \n",
      "0       Iris-setosa  \n",
      "1       Iris-setosa  \n",
      "2       Iris-setosa  \n",
      "3       Iris-setosa  \n",
      "4       Iris-setosa  \n",
      "..              ...  \n",
      "145  Iris-virginica  \n",
      "146  Iris-virginica  \n",
      "147  Iris-virginica  \n",
      "148  Iris-virginica  \n",
      "149  Iris-virginica  \n",
      "\n",
      "[150 rows x 6 columns]\n"
     ]
    },
    {
     "data": {
      "text/html": [
       "<div>\n",
       "<style scoped>\n",
       "    .dataframe tbody tr th:only-of-type {\n",
       "        vertical-align: middle;\n",
       "    }\n",
       "\n",
       "    .dataframe tbody tr th {\n",
       "        vertical-align: top;\n",
       "    }\n",
       "\n",
       "    .dataframe thead th {\n",
       "        text-align: right;\n",
       "    }\n",
       "</style>\n",
       "<table border=\"1\" class=\"dataframe\">\n",
       "  <thead>\n",
       "    <tr style=\"text-align: right;\">\n",
       "      <th></th>\n",
       "      <th>Id</th>\n",
       "      <th>SepalLengthCm</th>\n",
       "      <th>SepalWidthCm</th>\n",
       "      <th>PetalLengthCm</th>\n",
       "      <th>PetalWidthCm</th>\n",
       "      <th>Species</th>\n",
       "    </tr>\n",
       "  </thead>\n",
       "  <tbody>\n",
       "    <tr>\n",
       "      <td>0</td>\n",
       "      <td>1</td>\n",
       "      <td>5.1</td>\n",
       "      <td>3.5</td>\n",
       "      <td>1.4</td>\n",
       "      <td>0.2</td>\n",
       "      <td>Iris-setosa</td>\n",
       "    </tr>\n",
       "    <tr>\n",
       "      <td>1</td>\n",
       "      <td>2</td>\n",
       "      <td>4.9</td>\n",
       "      <td>3.0</td>\n",
       "      <td>1.4</td>\n",
       "      <td>0.2</td>\n",
       "      <td>Iris-setosa</td>\n",
       "    </tr>\n",
       "  </tbody>\n",
       "</table>\n",
       "</div>"
      ],
      "text/plain": [
       "   Id  SepalLengthCm  SepalWidthCm  PetalLengthCm  PetalWidthCm      Species\n",
       "0   1            5.1           3.5            1.4           0.2  Iris-setosa\n",
       "1   2            4.9           3.0            1.4           0.2  Iris-setosa"
      ]
     },
     "execution_count": 11,
     "metadata": {},
     "output_type": "execute_result"
    }
   ],
   "source": [
    "# 2 LOAD DATA\n",
    "\n",
    "data = pd.read_csv('Iris.csv')\n",
    "print(data)\n",
    "data.head(2)"
   ]
  },
  {
   "cell_type": "code",
   "execution_count": 12,
   "metadata": {},
   "outputs": [
    {
     "data": {
      "text/html": [
       "<div>\n",
       "<style scoped>\n",
       "    .dataframe tbody tr th:only-of-type {\n",
       "        vertical-align: middle;\n",
       "    }\n",
       "\n",
       "    .dataframe tbody tr th {\n",
       "        vertical-align: top;\n",
       "    }\n",
       "\n",
       "    .dataframe thead th {\n",
       "        text-align: right;\n",
       "    }\n",
       "</style>\n",
       "<table border=\"1\" class=\"dataframe\">\n",
       "  <thead>\n",
       "    <tr style=\"text-align: right;\">\n",
       "      <th></th>\n",
       "      <th>count</th>\n",
       "      <th>mean</th>\n",
       "      <th>std</th>\n",
       "      <th>min</th>\n",
       "      <th>25%</th>\n",
       "      <th>50%</th>\n",
       "      <th>75%</th>\n",
       "      <th>max</th>\n",
       "    </tr>\n",
       "  </thead>\n",
       "  <tbody>\n",
       "    <tr>\n",
       "      <td>Id</td>\n",
       "      <td>150.0</td>\n",
       "      <td>75.500000</td>\n",
       "      <td>43.445368</td>\n",
       "      <td>1.0</td>\n",
       "      <td>38.25</td>\n",
       "      <td>75.50</td>\n",
       "      <td>112.75</td>\n",
       "      <td>150.0</td>\n",
       "    </tr>\n",
       "    <tr>\n",
       "      <td>SepalLengthCm</td>\n",
       "      <td>150.0</td>\n",
       "      <td>5.843333</td>\n",
       "      <td>0.828066</td>\n",
       "      <td>4.3</td>\n",
       "      <td>5.10</td>\n",
       "      <td>5.80</td>\n",
       "      <td>6.40</td>\n",
       "      <td>7.9</td>\n",
       "    </tr>\n",
       "    <tr>\n",
       "      <td>SepalWidthCm</td>\n",
       "      <td>150.0</td>\n",
       "      <td>3.054000</td>\n",
       "      <td>0.433594</td>\n",
       "      <td>2.0</td>\n",
       "      <td>2.80</td>\n",
       "      <td>3.00</td>\n",
       "      <td>3.30</td>\n",
       "      <td>4.4</td>\n",
       "    </tr>\n",
       "    <tr>\n",
       "      <td>PetalLengthCm</td>\n",
       "      <td>150.0</td>\n",
       "      <td>3.758667</td>\n",
       "      <td>1.764420</td>\n",
       "      <td>1.0</td>\n",
       "      <td>1.60</td>\n",
       "      <td>4.35</td>\n",
       "      <td>5.10</td>\n",
       "      <td>6.9</td>\n",
       "    </tr>\n",
       "    <tr>\n",
       "      <td>PetalWidthCm</td>\n",
       "      <td>150.0</td>\n",
       "      <td>1.198667</td>\n",
       "      <td>0.763161</td>\n",
       "      <td>0.1</td>\n",
       "      <td>0.30</td>\n",
       "      <td>1.30</td>\n",
       "      <td>1.80</td>\n",
       "      <td>2.5</td>\n",
       "    </tr>\n",
       "  </tbody>\n",
       "</table>\n",
       "</div>"
      ],
      "text/plain": [
       "               count       mean        std  min    25%    50%     75%    max\n",
       "Id             150.0  75.500000  43.445368  1.0  38.25  75.50  112.75  150.0\n",
       "SepalLengthCm  150.0   5.843333   0.828066  4.3   5.10   5.80    6.40    7.9\n",
       "SepalWidthCm   150.0   3.054000   0.433594  2.0   2.80   3.00    3.30    4.4\n",
       "PetalLengthCm  150.0   3.758667   1.764420  1.0   1.60   4.35    5.10    6.9\n",
       "PetalWidthCm   150.0   1.198667   0.763161  0.1   0.30   1.30    1.80    2.5"
      ]
     },
     "execution_count": 12,
     "metadata": {},
     "output_type": "execute_result"
    }
   ],
   "source": [
    "# The following is for Summarization of dataset: Descriptive Stats\n",
    "data.describe().T"
   ]
  },
  {
   "cell_type": "code",
   "execution_count": 13,
   "metadata": {},
   "outputs": [
    {
     "data": {
      "text/plain": [
       "False"
      ]
     },
     "execution_count": 13,
     "metadata": {},
     "output_type": "execute_result"
    }
   ],
   "source": [
    "# Here it perform checking if there is any null values \n",
    "data.isnull().values.any()"
   ]
  },
  {
   "cell_type": "code",
   "execution_count": 14,
   "metadata": {},
   "outputs": [
    {
     "data": {
      "text/plain": [
       "Species\n",
       "Iris-setosa        50\n",
       "Iris-versicolor    50\n",
       "Iris-virginica     50\n",
       "dtype: int64"
      ]
     },
     "execution_count": 14,
     "metadata": {},
     "output_type": "execute_result"
    }
   ],
   "source": [
    "# It determines How many classes of target col 'class'\n",
    "data['Species'].unique()\n",
    "data.groupby('Species').size()"
   ]
  },
  {
   "cell_type": "code",
   "execution_count": 15,
   "metadata": {},
   "outputs": [],
   "source": [
    "# Here it is Data preprocessing\n",
    "\n",
    "def pre_processing(data):\n",
    "    X = data[['SepalLengthCm', 'SepalWidthCm', 'PetalLengthCm', 'PetalWidthCm']]\n",
    "    y = data['Species']\n",
    "\n",
    "    xtrain,xtest, ytrain, ytest = train_test_split(X,y,test_size=0.33)\n",
    "    \n",
    "    return  xtrain,xtest, ytrain, ytest"
   ]
  },
  {
   "cell_type": "code",
   "execution_count": 16,
   "metadata": {},
   "outputs": [
    {
     "data": {
      "image/png": "[encoded data removed]",
      "text/plain": [
       "<Figure size 432x288 with 4 Axes>"
      ]
     },
     "metadata": {
      "needs_background": "light"
     },
     "output_type": "display_data"
    },
    {
     "data": {
      "text/plain": [
       "array([[<matplotlib.axes._subplots.AxesSubplot object at 0x0862D9B0>,\n",
       "        <matplotlib.axes._subplots.AxesSubplot object at 0x086E39F0>,\n",
       "        <matplotlib.axes._subplots.AxesSubplot object at 0x086FDAB0>,\n",
       "        <matplotlib.axes._subplots.AxesSubplot object at 0x0871CB90>],\n",
       "       [<matplotlib.axes._subplots.AxesSubplot object at 0x0873BC70>,\n",
       "        <matplotlib.axes._subplots.AxesSubplot object at 0x0875CD50>,\n",
       "        <matplotlib.axes._subplots.AxesSubplot object at 0x0877BEB0>,\n",
       "        <matplotlib.axes._subplots.AxesSubplot object at 0x0879E970>],\n",
       "       [<matplotlib.axes._subplots.AxesSubplot object at 0x0879EF10>,\n",
       "        <matplotlib.axes._subplots.AxesSubplot object at 0x087CB0D0>,\n",
       "        <matplotlib.axes._subplots.AxesSubplot object at 0x08801C10>,\n",
       "        <matplotlib.axes._subplots.AxesSubplot object at 0x08823CF0>],\n",
       "       [<matplotlib.axes._subplots.AxesSubplot object at 0x08842DD0>,\n",
       "        <matplotlib.axes._subplots.AxesSubplot object at 0x08863EB0>,\n",
       "        <matplotlib.axes._subplots.AxesSubplot object at 0x08883F90>,\n",
       "        <matplotlib.axes._subplots.AxesSubplot object at 0x088B0630>]],\n",
       "      dtype=object)"
      ]
     },
     "execution_count": 16,
     "metadata": {},
     "output_type": "execute_result"
    },
    {
     "data": {
      "image/png": "[encoded data removed]",
      "text/plain": [
       "<Figure size 432x288 with 16 Axes>"
      ]
     },
     "metadata": {
      "needs_background": "light"
     },
     "output_type": "display_data"
    }
   ],
   "source": [
    "# This do the Data visualization\n",
    "\n",
    "col_names = ['SepalLengthCm', 'SepalWidthCm', 'PetalLengthCm', 'PetalWidthCm', 'Species'] #It Prints the Columns Sepal/petalGRam\n",
    "\n",
    "data[col_names].plot(kind='box', subplots=True, layout=(2,2), sharex=False, sharey=False)\n",
    "\n",
    "plt.show()\n",
    "scatter_matrix(data[col_names])\n",
    "#Visualizing the data in form for anylysis review"
   ]
  },
  {
   "cell_type": "code",
   "execution_count": 17,
   "metadata": {},
   "outputs": [],
   "source": [
    "# also another preprocessing or subpreprocessing\n",
    "xtrain,xtest, ytrain, ytest = pre_processing(data)"
   ]
  },
  {
   "cell_type": "code",
   "execution_count": 24,
   "metadata": {},
   "outputs": [
    {
     "name": "stdout",
     "output_type": "stream",
     "text": [
      "Decision Tree Classification 0.9497920380273323\n",
      "Naive Bayes Classification 0.9503862150920974\n",
      "Suppor Vector Machine Classification 0.9797979797979798\n",
      "[array([0.97058824, 0.96969697, 0.90909091]), array([0.91176471, 1.        , 0.93939394]), array([1.        , 0.96969697, 0.96969697])]\n"
     ]
    },
    {
     "data": {
      "image/png": "[encoded data removed]",
      "text/plain": [
       "<Figure size 432x288 with 1 Axes>"
      ]
     },
     "metadata": {
      "needs_background": "light"
     },
     "output_type": "display_data"
    }
   ],
   "source": [
    "# This is performing the Designing Models for iris flower classification\n",
    "\n",
    "np.random.seed(1000)\n",
    "# making a list of machine learning classification models\n",
    "models = []\n",
    "\n",
    "def classification_Models(xtrain,xtest, ytrain, ytest ):\n",
    "    \n",
    "\n",
    "    \n",
    "    models.append( ('Decision Tree Classification',DecisionTreeClassifier()) ) #The decision tree Classification\n",
    "    models.append( ('Naive Bayes Classification',  GaussianNB()) ) #The Naive Bayes Classification\n",
    "    models.append( ('Suppor Vector Machine Classification',  SVC()) )#This is Support Vector Machine Classification\n",
    "\n",
    "    modeloutcomes = []\n",
    "    modelnames = []\n",
    "    for name,model in models:\n",
    "        v_results = cross_val_score(model, xtrain, ytrain, cv = 3, \n",
    "                                     scoring='accuracy', n_jobs = -1, verbose = 0)\n",
    "        print(name,v_results.mean())\n",
    "        modeloutcomes.append(v_results)\n",
    "        modelnames.append(name)\n",
    "        \n",
    "    print(modeloutcomes) #performs the printing function to the diagram for all the classification for analysis\n",
    "    fig = plt.figure()\n",
    "    ax = fig.add_subplot(111)\n",
    "    ax.set_xticklabels(modelnames)\n",
    "    plt.boxplot(modeloutcomes)\n",
    "        \n",
    "classification_Models(xtrain,xtest, ytrain, ytest)"
   ]
  },
  {
   "cell_type": "code",
   "execution_count": 25,
   "metadata": {},
   "outputs": [
    {
     "name": "stdout",
     "output_type": "stream",
     "text": [
      "\n",
      "**************Decision Tree Classification**************\n",
      "The accuracy: 0.94\n",
      "The Classification Report:\n",
      "                  precision    recall  f1-score   support\n",
      "\n",
      "    Iris-setosa       1.00      1.00      1.00        20\n",
      "Iris-versicolor       0.86      0.92      0.89        13\n",
      " Iris-virginica       0.94      0.88      0.91        17\n",
      "\n",
      "       accuracy                           0.94        50\n",
      "      macro avg       0.93      0.94      0.93        50\n",
      "   weighted avg       0.94      0.94      0.94        50\n",
      "\n",
      "The Confusion Matrix:\n",
      " [[20  0  0]\n",
      " [ 0 12  1]\n",
      " [ 0  2 15]]\n",
      "\n",
      "**************Naive Bayes Classification**************\n",
      "The accuracy: 0.92\n",
      "The Classification Report:\n",
      "                  precision    recall  f1-score   support\n",
      "\n",
      "    Iris-setosa       1.00      1.00      1.00        20\n",
      "Iris-versicolor       0.85      0.85      0.85        13\n",
      " Iris-virginica       0.88      0.88      0.88        17\n",
      "\n",
      "       accuracy                           0.92        50\n",
      "      macro avg       0.91      0.91      0.91        50\n",
      "   weighted avg       0.92      0.92      0.92        50\n",
      "\n",
      "The Confusion Matrix:\n",
      " [[20  0  0]\n",
      " [ 0 11  2]\n",
      " [ 0  2 15]]\n",
      "\n",
      "**************Suppor Vector Machine Classification**************\n",
      "The accuracy: 0.98\n",
      "The Classification Report:\n",
      "                  precision    recall  f1-score   support\n",
      "\n",
      "    Iris-setosa       1.00      1.00      1.00        20\n",
      "Iris-versicolor       1.00      0.92      0.96        13\n",
      " Iris-virginica       0.94      1.00      0.97        17\n",
      "\n",
      "       accuracy                           0.98        50\n",
      "      macro avg       0.98      0.97      0.98        50\n",
      "   weighted avg       0.98      0.98      0.98        50\n",
      "\n",
      "The Confusion Matrix:\n",
      " [[20  0  0]\n",
      " [ 0 12  1]\n",
      " [ 0  0 17]]\n"
     ]
    },
    {
     "name": "stderr",
     "output_type": "stream",
     "text": [
      "C:\\Users\\Sabmankovic\\Anaconda3\\lib\\site-packages\\sklearn\\svm\\base.py:193: FutureWarning: The default value of gamma will change from 'auto' to 'scale' in version 0.22 to account better for unscaled features. Set gamma explicitly to 'auto' or 'scale' to avoid this warning.\n",
      "  \"avoid this warning.\", FutureWarning)\n"
     ]
    }
   ],
   "source": [
    "# Evaluating and predicting models, It determine the accurracy of the Model to print the Precision, recall, fi-score, support\n",
    "#It also display Macro average, weight average\n",
    "\n",
    "for name,model in models:\n",
    "    trainedmodel = model.fit(xtrain,ytrain)\n",
    "    \n",
    "    # prediction\n",
    "    ypredict = trainedmodel.predict(xtest)\n",
    "    \n",
    "    acc = accuracy_score(ytest,ypredict)\n",
    "    classreport = classification_report(ytest,ypredict)\n",
    "    confMat = confusion_matrix(ytest,ypredict)\n",
    "    \n",
    "    print('\\n**************'+name+'**************')\n",
    "    print('The accuracy: {}'.format(acc))\n",
    "    print('The Classification Report:\\n {}'.format(classreport))\n",
    "    print('The Confusion Matrix:\\n {}'.format(confMat))\n",
    "    \n",
    "    \n",
    "    # save models\n",
    "    import pickle as pk\n",
    "    \n",
    "    with open('model_'+name+'.pickle','wb') as f:\n",
    "        pk.dump(trainedmodel,f)\n",
    "#The following is the Diplay of the all the three classifications with their Precision, recall, fi-score, and Support"
   ]
  },
  {
   "cell_type": "code",
   "execution_count": null,
   "metadata": {},
   "outputs": [],
   "source": [
    "#The above result shows that Support Vector Machine Classification the is winner with some leading results.\n",
    "#The SVM is recommend because is has the highest level of frequency\n",
    "#But let further add more funtion to see the accuracy of Training data and Test dat"
   ]
  },
  {
   "cell_type": "code",
   "execution_count": 27,
   "metadata": {},
   "outputs": [
    {
     "name": "stdout",
     "output_type": "stream",
     "text": [
      "      Id  SepalLengthCm  SepalWidthCm  PetalLengthCm  PetalWidthCm  \\\n",
      "0      1            5.1           3.5            1.4           0.2   \n",
      "1      2            4.9           3.0            1.4           0.2   \n",
      "2      3            4.7           3.2            1.3           0.2   \n",
      "3      4            4.6           3.1            1.5           0.2   \n",
      "4      5            5.0           3.6            1.4           0.2   \n",
      "..   ...            ...           ...            ...           ...   \n",
      "145  146            6.7           3.0            5.2           2.3   \n",
      "146  147            6.3           2.5            5.0           1.9   \n",
      "147  148            6.5           3.0            5.2           2.0   \n",
      "148  149            6.2           3.4            5.4           2.3   \n",
      "149  150            5.9           3.0            5.1           1.8   \n",
      "\n",
      "            Species  \n",
      "0       Iris-setosa  \n",
      "1       Iris-setosa  \n",
      "2       Iris-setosa  \n",
      "3       Iris-setosa  \n",
      "4       Iris-setosa  \n",
      "..              ...  \n",
      "145  Iris-virginica  \n",
      "146  Iris-virginica  \n",
      "147  Iris-virginica  \n",
      "148  Iris-virginica  \n",
      "149  Iris-virginica  \n",
      "\n",
      "[150 rows x 6 columns]\n"
     ]
    }
   ],
   "source": [
    "data = pd.read_csv('Iris.csv')\n",
    "print(data)"
   ]
  },
  {
   "cell_type": "code",
   "execution_count": 28,
   "metadata": {},
   "outputs": [],
   "source": [
    "#Defining data and label\n",
    "X = data.iloc[:, 1:5]\n",
    "y = data.iloc[:, 5]"
   ]
  },
  {
   "cell_type": "code",
   "execution_count": 29,
   "metadata": {},
   "outputs": [],
   "source": [
    "#calling Split data into training and test datasets (training will be based on 70% of data)\n",
    "X_train, X_test, y_train, y_test = train_test_split(X, y, test_size=0.3, random_state=0) "
   ]
  },
  {
   "cell_type": "code",
   "execution_count": 31,
   "metadata": {},
   "outputs": [],
   "source": [
    "#let Scale the Data\n",
    "#Scaling data\n",
    "from sklearn.preprocessing import StandardScaler\n",
    "sc = StandardScaler()\n",
    "sc.fit(X_train)\n",
    "X_train_std = sc.transform(X_train)\n",
    "X_test_std = sc.transform(X_test)"
   ]
  },
  {
   "cell_type": "code",
   "execution_count": 32,
   "metadata": {},
   "outputs": [
    {
     "name": "stdout",
     "output_type": "stream",
     "text": [
      "The accuracy of the Decision Tree classifier on training data is 1.00\n",
      "The accuracy of the Decision Tree classifier on test data is 0.98\n"
     ]
    }
   ],
   "source": [
    "#Applying Decision Tree do display it Traing and test accuracy\n",
    "from sklearn import tree\n",
    "\n",
    "#Create tree object\n",
    "decision_tree = tree.DecisionTreeClassifier(criterion='gini')\n",
    "\n",
    "#Train DT based on scaled training set\n",
    "decision_tree.fit(X_train_std, y_train)\n",
    "\n",
    "#Print performance\n",
    "print('The accuracy of the Decision Tree classifier on training data is {:.2f}'.format(decision_tree.score(X_train_std, y_train)))\n",
    "print('The accuracy of the Decision Tree classifier on test data is {:.2f}'.format(decision_tree.score(X_test_std, y_test)))\n"
   ]
  },
  {
   "cell_type": "code",
   "execution_count": 33,
   "metadata": {},
   "outputs": [
    {
     "name": "stdout",
     "output_type": "stream",
     "text": [
      "The accuracy of the SVM classifier on training data is 0.97\n",
      "The accuracy of the SVM classifier on test data is 0.98\n"
     ]
    }
   ],
   "source": [
    "#Applying SVC (Support Vector Classification) to display the accuracy SVM training and test\n",
    "from sklearn.svm import SVC\n",
    "\n",
    "svm = SVC(kernel='rbf', random_state=0, gamma=.10, C=1.0)\n",
    "svm.fit(X_train_std, y_train)\n",
    "#It Print the Performance of SVM\n",
    "print('The accuracy of the SVM classifier on training data is {:.2f}'.format(svm.score(X_train_std, y_train)))\n",
    "print('The accuracy of the SVM classifier on test data is {:.2f}'.format(svm.score(X_test_std, y_test)))"
   ]
  },
  {
   "cell_type": "code",
   "execution_count": 35,
   "metadata": {},
   "outputs": [
    {
     "name": "stdout",
     "output_type": "stream",
     "text": [
      "The accuracy of the Naive Bayes classifier on training data is 0.30\n",
      "The accuracy of the Naive Bayes classifier on test data is 0.38\n"
     ]
    }
   ],
   "source": [
    "#Applying Naive Bayes\n",
    "from sklearn.naive_bayes import GaussianNB\n",
    "nv = GaussianNB() # create a classifier\n",
    "nv.fit(X_train,y_train) # fitting the data\n",
    "\n",
    "#It Print the performance\n",
    "print('The accuracy of the Naive Bayes classifier on training data is {:.2f}'.format(nv.score(X_train_std, y_train)))\n",
    "print('The accuracy of the Naive Bayes classifier on test data is {:.2f}'.format(nv.score(X_test_std, y_test)))"
   ]
  },
  {
   "cell_type": "code",
   "execution_count": null,
   "metadata": {},
   "outputs": [],
   "source": [
    "# The Conclution is that after Loading the Library of the Datasets from all Indication shows that SVM Has more accuracy\n",
    "# Even on the training data and the test data\n",
    "# The Machine Learning Algorithm was applied from a CSV file with the name 'datasets.csv' inside the relavant folder\n",
    "# The Summarisation of Data is to understand dataset (Descriptive Statistics)\n",
    "# The Visualisation of Data also is to understand dataset (Plots, Graphs etc.) for easy analysis and reports\n",
    "# Data pre-processing & Data covertion is to (split into train-test datasets)\n",
    "# Application of a Machine Learning Algorithm to training dataset \n",
    "# ML algorithm and parameter settings were okay \n",
    "# Model Selection setup with training dataset was successful \n",
    "# training, fitting Algorithm with training Dataset fine\n",
    "# it also evaluate the trained Algorithm (or Model) and result\n",
    "# saving the trained model for future prediction\n",
    "#Finalise the trained modela and make prediction\n",
    "# Thank You Sir"
   ]
  }
 ],
 "metadata": {
  "kernelspec": {
   "display_name": "Python 3 (ipykernel)",
   "language": "python",
   "name": "python3"
  },
  "language_info": {
   "codemirror_mode": {
    "name": "ipython",
    "version": 3
   },
   "file_extension": ".py",
   "mimetype": "text/x-python",
   "name": "python",
   "nbconvert_exporter": "python",
   "pygments_lexer": "ipython3",
   "version": "3.9.13"
  }
 },
 "nbformat": 4,
 "nbformat_minor": 4
}
