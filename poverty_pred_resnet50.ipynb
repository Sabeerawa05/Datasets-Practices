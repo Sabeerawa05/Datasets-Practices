{
  "cells": [
    {
      "cell_type": "markdown",
      "metadata": {
        "id": "view-in-github",
        "colab_type": "text"
      },
      "source": [
        "<a href=\"https://colab.research.google.com/github/Sabeerawa05/Datasets-Practices/blob/main/poverty_pred_resnet50.ipynb\" target=\"_parent\"><img src=\"https://colab.research.google.com/assets/colab-badge.svg\" alt=\"Open In Colab\"/></a>"
      ]
    },
    {
      "cell_type": "code",
      "execution_count": null,
      "id": "3044806a",
      "metadata": {
        "id": "3044806a"
      },
      "outputs": [],
      "source": [
        "import numpy as np\n",
        "import cv2\n",
        "import os\n",
        "from imutils import paths\n",
        "import random\n",
        "import h5py\n",
        "from sklearn.preprocessing import LabelEncoder\n",
        "from sklearn.model_selection import train_test_split\n",
        "from sklearn.metrics import classification_report\n",
        "from keras.utils import to_categorical\n",
        "import progressbar\n",
        "import matplotlib.pyplot as plt"
      ]
    },
    {
      "cell_type": "code",
      "execution_count": null,
      "id": "3f0c3d85",
      "metadata": {
        "id": "3f0c3d85"
      },
      "outputs": [],
      "source": [
        "class HDF5DatasetWriter:\n",
        "    def __init__(self, dims, outputPath, dataKey=\"images\",bufSize=1000):\n",
        "        # check to see if the output path exists, and if so, raise\n",
        "        # an exception\n",
        "        if os.path.exists(outputPath):\n",
        "            raise ValueError(\"The supplied ‘outputPath‘ already \"\n",
        "                             \"exists and cannot be overwritten. Manually delete \"\n",
        "                             \"the file before continuing.\", outputPath)\n",
        "\n",
        "        # open the HDF5 database for writing and create two datasets:\n",
        "        # one to store the images/features and another to store the\n",
        "        # class labels\n",
        "        self.db = h5py.File(outputPath, \"w\")\n",
        "        self.data = self.db.create_dataset(dataKey, dims,\n",
        "                                           dtype=\"float\")\n",
        "        self.labels = self.db.create_dataset(\"labels\", (dims[0], 4),\n",
        "                                             dtype=\"float\")\n",
        "\n",
        "        # store the buffer size, then initialize the buffer itself\n",
        "        # along with the index into the datasets\n",
        "        self.bufSize = bufSize\n",
        "        self.buffer = {\"data\": [], \"labels\": []}\n",
        "        self.idx = 0\n",
        "\n",
        "    def add(self, rows, labels):\n",
        "        # add the rows and labels to the buffer\n",
        "        self.buffer[\"data\"].extend(rows)\n",
        "        self.buffer[\"labels\"].extend(labels)\n",
        "\n",
        "        # check to see if the buffer needs to be flushed to disk\n",
        "        if len(self.buffer[\"data\"]) >= self.bufSize:\n",
        "            self.flush()\n",
        "\n",
        "    def flush(self):\n",
        "        # write the buffers to disk then reset the buffer\n",
        "        i = self.idx + len(self.buffer[\"data\"])\n",
        "        self.data[self.idx:i] = self.buffer[\"data\"]\n",
        "        self.labels[self.idx:i] = self.buffer[\"labels\"]\n",
        "        self.idx = i\n",
        "        self.buffer = {\"data\": [], \"labels\": []}\n",
        "\n",
        "    def storeClassLabels(self, classLabels):\n",
        "        # create a dataset to store the actual class label names,\n",
        "        # then store the class labels\n",
        "        dt = h5py.special_dtype(vlen=str)\n",
        "        labelSet = self.db.create_dataset(\"label_names\",\n",
        "                                          (len(classLabels),), dtype=dt)\n",
        "        labelSet[:] = classLabels\n",
        "\n",
        "    def close(self):\n",
        "        # check to see if there are any other entries in the buffer\n",
        "        # that need to be flushed to disk\n",
        "        if len(self.buffer[\"data\"]) > 0:\n",
        "            self.flush()\n",
        "\n",
        "        # close the dataset\n",
        "        self.db.close()"
      ]
    },
    {
      "cell_type": "code",
      "execution_count": null,
      "id": "6de14a02",
      "metadata": {
        "id": "6de14a02"
      },
      "outputs": [],
      "source": [
        "#data_path = '/content/drive/MyDrive/archive'"
      ]
    },
    {
      "cell_type": "code",
      "execution_count": null,
      "id": "fc2890ab",
      "metadata": {
        "id": "fc2890ab"
      },
      "outputs": [],
      "source": [
        "data_path = 'satelitte_images'\n",
        "train_hdf5 = 'satelitte_images/hdf5/train.hdf5'\n",
        "val_hdf5 =  'satelitte_images/hdf5/val.hdf5'\n",
        "test_hdf5 =  'satelitte_images/hdf5/test.hdf5'"
      ]
    },
    {
      "cell_type": "code",
      "execution_count": null,
      "id": "b601a40a",
      "metadata": {
        "id": "b601a40a"
      },
      "outputs": [],
      "source": [
        "imagePaths = list(paths.list_images(data_path))"
      ]
    },
    {
      "cell_type": "code",
      "execution_count": null,
      "id": "b0077496",
      "metadata": {
        "colab": {
          "base_uri": "https://localhost:8080/"
        },
        "id": "b0077496",
        "outputId": "c46708c7-11ac-4f08-b973-08996fdbca29"
      },
      "outputs": [
        {
          "data": {
            "text/plain": [
              "['satelitte_images\\\\ethiopia_archive\\\\images\\\\10.001614493498009_38.21928274979602_10.0165864149_38.2492265926.png',\n",
              " 'satelitte_images\\\\ethiopia_archive\\\\images\\\\10.006878190821991_37.647636949694025_9.99190626942_37.6925527139.png',\n",
              " 'satelitte_images\\\\ethiopia_archive\\\\images\\\\10.009539116998008_39.16824952909403_10.0245110384_39.2131652933.png',\n",
              " 'satelitte_images\\\\ethiopia_archive\\\\images\\\\10.009539116998008_39.18322145049602_10.0245110384_39.2131652933.png',\n",
              " 'satelitte_images\\\\ethiopia_archive\\\\images\\\\10.009539116998008_39.2131652933_10.0245110384_39.2131652933.png']"
            ]
          },
          "execution_count": 6,
          "metadata": {},
          "output_type": "execute_result"
        }
      ],
      "source": [
        "imagePaths[:5]"
      ]
    },
    {
      "cell_type": "code",
      "execution_count": null,
      "id": "2d14c818",
      "metadata": {
        "colab": {
          "base_uri": "https://localhost:8080/"
        },
        "id": "2d14c818",
        "outputId": "c62e1aa7-43eb-4594-87e2-bec24c6b07ba"
      },
      "outputs": [
        {
          "data": {
            "text/plain": [
              "56160"
            ]
          },
          "execution_count": 7,
          "metadata": {},
          "output_type": "execute_result"
        }
      ],
      "source": [
        "len(imagePaths)"
      ]
    },
    {
      "cell_type": "code",
      "execution_count": null,
      "id": "78cd58b7",
      "metadata": {
        "id": "78cd58b7"
      },
      "outputs": [],
      "source": [
        "random.seed(42)\n",
        "random.shuffle(imagePaths)"
      ]
    },
    {
      "cell_type": "code",
      "execution_count": null,
      "id": "17b748c7",
      "metadata": {
        "id": "17b748c7",
        "outputId": "7b905297-9748-4007-8e28-bfe2ea85d0cc"
      },
      "outputs": [
        {
          "data": {
            "text/plain": [
              "['satelitte_images\\\\ethiopia_archive\\\\images\\\\8.103335065686016_38.193701130798004_8.13327890849_38.2086730522.png',\n",
              " 'satelitte_images\\\\malawi_archive\\\\images\\\\-10.739254078598007_33.55225392140199_-10.754226_33.537282.png',\n",
              " 'satelitte_images\\\\malawi_archive\\\\images\\\\-15.781865235794024_35.142495764205975_-15.826781_35.09758.png',\n",
              " 'satelitte_images\\\\malawi_archive\\\\images\\\\-15.735151842803985_35.136095078598004_-15.705208_35.151067.png',\n",
              " 'satelitte_images\\\\ethiopia_archive\\\\images\\\\ethiopia_Images\\\\8.563866629893985_39.223355202794025_8.53392278709_39.268270967.png']"
            ]
          },
          "execution_count": 9,
          "metadata": {},
          "output_type": "execute_result"
        }
      ],
      "source": [
        "imagePaths[:5]"
      ]
    },
    {
      "cell_type": "code",
      "execution_count": null,
      "id": "798dc0f0",
      "metadata": {
        "id": "798dc0f0"
      },
      "outputs": [],
      "source": [
        "imageLabels = [p.split(os.path.sep)[1] for p in imagePaths]"
      ]
    },
    {
      "cell_type": "code",
      "execution_count": null,
      "id": "97d73d62",
      "metadata": {
        "id": "97d73d62",
        "outputId": "7fb0acd9-2e6b-4b3a-e801-8d57c5ac9642"
      },
      "outputs": [
        {
          "data": {
            "text/plain": [
              "56160"
            ]
          },
          "execution_count": 11,
          "metadata": {},
          "output_type": "execute_result"
        }
      ],
      "source": [
        "len(imageLabels)"
      ]
    },
    {
      "cell_type": "code",
      "execution_count": null,
      "id": "dfb7ee08",
      "metadata": {
        "id": "dfb7ee08"
      },
      "outputs": [],
      "source": [
        "le = LabelEncoder()\n",
        "imageLabels = le.fit_transform(imageLabels)"
      ]
    },
    {
      "cell_type": "code",
      "execution_count": null,
      "id": "de8d4612",
      "metadata": {
        "id": "de8d4612"
      },
      "outputs": [],
      "source": [
        "classNames = [pt.split(os.path.sep)[1] for pt in imagePaths]\n",
        "classNames = [str(x) for x in np.unique(classNames)]"
      ]
    },
    {
      "cell_type": "code",
      "execution_count": null,
      "id": "04833539",
      "metadata": {
        "id": "04833539",
        "outputId": "cbf55ca4-6a33-49c5-f82c-8c749845f1fb"
      },
      "outputs": [
        {
          "data": {
            "text/plain": [
              "['Mali_archive', 'ethiopia_archive', 'malawi_archive', 'nigeria_archive']"
            ]
          },
          "execution_count": 14,
          "metadata": {},
          "output_type": "execute_result"
        }
      ],
      "source": [
        "classNames"
      ]
    },
    {
      "cell_type": "code",
      "execution_count": null,
      "id": "0a295d8a",
      "metadata": {
        "id": "0a295d8a",
        "outputId": "7b375d69-d7f8-456f-deab-251c82568b8c"
      },
      "outputs": [
        {
          "data": {
            "text/plain": [
              "array([0, 1, 2, 3], dtype=int64)"
            ]
          },
          "execution_count": 15,
          "metadata": {},
          "output_type": "execute_result"
        }
      ],
      "source": [
        "np.unique(imageLabels)"
      ]
    },
    {
      "cell_type": "code",
      "execution_count": null,
      "id": "25c8e341",
      "metadata": {
        "id": "25c8e341"
      },
      "outputs": [],
      "source": [
        "imageLabels = to_categorical(imageLabels, len(classNames))"
      ]
    },
    {
      "cell_type": "code",
      "execution_count": null,
      "id": "618a98ae",
      "metadata": {
        "id": "618a98ae",
        "outputId": "a0af68b2-5fc7-44ef-8c04-82e4867f2126"
      },
      "outputs": [
        {
          "data": {
            "text/plain": [
              "array([[0., 1., 0., 0.],\n",
              "       [0., 0., 1., 0.],\n",
              "       [0., 0., 1., 0.],\n",
              "       ...,\n",
              "       [0., 1., 0., 0.],\n",
              "       [0., 1., 0., 0.],\n",
              "       [1., 0., 0., 0.]], dtype=float32)"
            ]
          },
          "execution_count": 17,
          "metadata": {},
          "output_type": "execute_result"
        }
      ],
      "source": [
        "imageLabels"
      ]
    },
    {
      "cell_type": "code",
      "execution_count": null,
      "id": "cc43d61c",
      "metadata": {
        "id": "cc43d61c"
      },
      "outputs": [],
      "source": [
        "# perform stratified sampling from the training set to build the\n",
        " # testing split from the training data\n",
        "split = train_test_split(imagePaths, imageLabels,\n",
        "                         test_size=0.10, stratify=imageLabels,  random_state=42)\n",
        "\n",
        "(trainPaths, testPaths, trainLabels, testLabels) = split\n",
        "\n",
        "# perform another stratified sampling, this time to build the\n",
        "# validation data\n",
        "split = train_test_split(trainPaths, trainLabels,\n",
        "                         test_size=0.15, stratify=trainLabels,random_state=42)\n",
        "\n",
        "(trainPaths, valPaths, trainLabels, valLabels) = split"
      ]
    },
    {
      "cell_type": "code",
      "execution_count": null,
      "id": "670df829",
      "metadata": {
        "id": "670df829"
      },
      "outputs": [],
      "source": [
        "# construct a list pairing the training, validation, and testing\n",
        "# image paths along with their corresponding labels and output HDF5\n",
        "# files\n",
        "datasets = [(\"train\", trainPaths, trainLabels, train_hdf5),\n",
        "            (\"val\", valPaths, valLabels, val_hdf5),\n",
        "            (\"test\", testPaths, testLabels, test_hdf5)]"
      ]
    },
    {
      "cell_type": "code",
      "execution_count": null,
      "id": "09ce3e46",
      "metadata": {
        "id": "09ce3e46"
      },
      "outputs": [],
      "source": [
        "# loop over the dataset tuples\n",
        "for (dType, paths, labels, outputPath) in datasets:\n",
        "    # create HDF5 writer\n",
        "    print(\"[INFO] building {}...\".format(outputPath))\n",
        "    writer = HDF5DatasetWriter((len(paths), 256, 256, 3), outputPath)\n",
        "\n",
        "    # initialize the progress bar\n",
        "    widgets = [\"Building Dataset: \", progressbar.Percentage(), \" \",\n",
        "               progressbar.Bar(), \" \", progressbar.ETA()]\n",
        "    pbar = progressbar.ProgressBar(maxval=len(paths),\n",
        "                                   widgets=widgets).start()\n",
        "\n",
        "    # loop over the image paths\n",
        "    for (i, (path, label)) in enumerate(zip(paths, labels)):\n",
        "        # load the image and process it\n",
        "        image = cv2.imread(path)\n",
        "        image = image.astype('float')/255.0\n",
        "\n",
        "        # add the image and label # to the HDF5 dataset\n",
        "        writer.add([image], [label])\n",
        "        pbar.update(i)\n",
        "\n",
        "    # close the HDF5 writer\n",
        "    pbar.finish()\n",
        "    writer.close()\n",
        ""
      ]
    },
    {
      "cell_type": "code",
      "execution_count": null,
      "id": "ea6b4f10",
      "metadata": {
        "id": "ea6b4f10"
      },
      "outputs": [],
      "source": [
        "def read_hdf5(dir):\n",
        "    db = h5py.File(dir, mode='r')\n",
        "\n",
        "    return db"
      ]
    },
    {
      "cell_type": "code",
      "execution_count": null,
      "id": "8c1c97e2",
      "metadata": {
        "id": "8c1c97e2"
      },
      "outputs": [],
      "source": [
        "train_data = read_hdf5(train_hdf5)"
      ]
    },
    {
      "cell_type": "code",
      "execution_count": null,
      "id": "08e4930b",
      "metadata": {
        "id": "08e4930b"
      },
      "outputs": [],
      "source": [
        "list(train_data.keys())"
      ]
    },
    {
      "cell_type": "code",
      "execution_count": null,
      "id": "63f5c876",
      "metadata": {
        "id": "63f5c876"
      },
      "outputs": [],
      "source": [
        "train_data['images'].shape"
      ]
    },
    {
      "cell_type": "code",
      "execution_count": null,
      "id": "3790c4ac",
      "metadata": {
        "id": "3790c4ac"
      },
      "outputs": [],
      "source": [
        "train_data['labels'].shape"
      ]
    },
    {
      "cell_type": "code",
      "execution_count": null,
      "id": "5ae12e5c",
      "metadata": {
        "id": "5ae12e5c"
      },
      "outputs": [],
      "source": [
        "val_data = read_hdf5(val_hdf5)"
      ]
    },
    {
      "cell_type": "code",
      "execution_count": null,
      "id": "b257de88",
      "metadata": {
        "id": "b257de88"
      },
      "outputs": [],
      "source": [
        "test_data = read_hdf5(test_hdf5)"
      ]
    },
    {
      "cell_type": "code",
      "execution_count": null,
      "id": "7dace882",
      "metadata": {
        "id": "7dace882"
      },
      "outputs": [],
      "source": [
        "train_data['images'][0:32].shape\n"
      ]
    },
    {
      "cell_type": "code",
      "execution_count": null,
      "id": "0198c213",
      "metadata": {
        "id": "0198c213"
      },
      "outputs": [],
      "source": [
        "class HDF5DatasetGenerator:\n",
        "\n",
        "    def __init__(self, dbPath, batchSize):\n",
        "\n",
        "        # store the batch size, preprocessors, and data augmentor,\n",
        "        # whether or not the labels should be binarized, along with\n",
        "        # the total number of classes\n",
        "        self.batchSize = batchSize\n",
        "\n",
        "\n",
        "        # open the HDF5 database for reading and determine the total\n",
        "        # number of entries in the database\n",
        "        self.db = h5py.File(dbPath, mode='r')\n",
        "        self.numImages = self.db[\"labels\"].shape[0]\n",
        "\n",
        "\n",
        "    def generator(self, passes=np.inf):\n",
        "        # initialize the epoch count\n",
        "        epochs = 0\n",
        "\n",
        "        # keep looping infinitely -- the model will stop once we have\n",
        "        # reach the desired number of epochs\n",
        "        while epochs < passes:\n",
        "            # loop over the HDF5 dataset\n",
        "            for i in np.arange(0, self.numImages, self.batchSize):\n",
        "                # extract the images and labels from the HDF dataset\n",
        "                images = self.db[\"images\"][i: i + self.batchSize]\n",
        "                labels = self.db[\"labels\"][i: i + self.batchSize]\n",
        "\n",
        "                # yield a tuple of images and labels\n",
        "                yield (images, labels)\n",
        "\n",
        "    def close(self):\n",
        "        # close the database\n",
        "        self.db.close()"
      ]
    },
    {
      "cell_type": "code",
      "execution_count": null,
      "id": "d53cca4f",
      "metadata": {
        "id": "d53cca4f"
      },
      "outputs": [],
      "source": [
        "# initialize the training and validation dataset generators\n",
        "trainGen = HDF5DatasetGenerator(train_hdf5, 8)\n",
        "valGen = HDF5DatasetGenerator(val_hdf5, 8)\n",
        "testGen = HDF5DatasetGenerator(test_hdf5, 8)"
      ]
    },
    {
      "cell_type": "code",
      "execution_count": null,
      "id": "94e0a5b5",
      "metadata": {
        "id": "94e0a5b5"
      },
      "outputs": [],
      "source": []
    },
    {
      "cell_type": "code",
      "execution_count": null,
      "id": "954abc06",
      "metadata": {
        "id": "954abc06"
      },
      "outputs": [],
      "source": []
    },
    {
      "cell_type": "markdown",
      "id": "e61a5a9a",
      "metadata": {
        "id": "e61a5a9a"
      },
      "source": [
        "### RESNET MODEL - 1"
      ]
    },
    {
      "cell_type": "code",
      "execution_count": null,
      "id": "6fe951e5",
      "metadata": {
        "id": "6fe951e5"
      },
      "outputs": [],
      "source": [
        "from tensorflow.keras.layers import AveragePooling2D\n",
        "from tensorflow.keras.layers import Dropout\n",
        "from tensorflow.keras.layers import Flatten\n",
        "from tensorflow.keras.layers import Dense\n",
        "from tensorflow.keras.layers import Input\n",
        "from tensorflow.keras.models import Model\n",
        "from tensorflow.keras.optimizers import Adam\n",
        "from tensorflow.keras.applications import ResNet50\n",
        "from tensorflow.keras.callbacks import ModelCheckpoint\n",
        "from tensorflow.keras.callbacks import CSVLogger\n",
        "from tensorflow.keras.callbacks import EarlyStopping\n"
      ]
    },
    {
      "cell_type": "code",
      "execution_count": null,
      "id": "3cf96a62",
      "metadata": {
        "id": "3cf96a62",
        "outputId": "f13d643d-38e5-4b0c-8c18-1558d6ffaabd"
      },
      "outputs": [
        {
          "name": "stdout",
          "output_type": "stream",
          "text": [
            "[INFO] preparing model...\n"
          ]
        }
      ],
      "source": [
        "# off\n",
        "print(\"[INFO] preparing model...\")\n",
        "baseModel = ResNet50(weights=\"imagenet\", include_top=False,\n",
        "\tinput_tensor=Input(shape=(256, 256, 3)))\n",
        "# construct the head of the model that will be placed on top of the\n",
        "# the base model\n",
        "headModel = baseModel.output\n",
        "headModel = AveragePooling2D(pool_size=(7, 7))(headModel)\n",
        "headModel = Flatten(name=\"flatten\")(headModel)\n",
        "headModel = Dense(4096, activation=\"relu\")(headModel)\n",
        "headModel = Dropout(0.5)(headModel)\n",
        "headModel = Dense(2048, activation=\"relu\")(headModel)\n",
        "headModel = Dropout(0.5)(headModel)\n",
        "headModel = Dense(1024, activation=\"relu\")(headModel)\n",
        "headModel = Dropout(0.5)(headModel)\n",
        "headModel = Dense(len(classNames), activation=\"softmax\")(headModel)\n",
        "# place the head FC model on top of the base model (this will become\n",
        "# the actual model we will train)\n",
        "model = Model(inputs=baseModel.input, outputs=headModel)\n",
        "# loop over all layers in the base model and freeze them so they will\n",
        "# *not* be updated during the training process\n",
        "for layer in baseModel.layers:\n",
        "\tlayer.trainable = False\n",
        "\n"
      ]
    },
    {
      "cell_type": "code",
      "execution_count": null,
      "id": "f53ef025",
      "metadata": {
        "id": "f53ef025"
      },
      "outputs": [],
      "source": [
        "# compile the model\n",
        "epochs = 200\n",
        "lr = 1e-4\n",
        "opt = Adam(lr=lr, decay=lr / epochs)\n",
        "model.compile(loss=\"categorical_crossentropy\", optimizer=opt,\n",
        "              metrics=[\"accuracy\"])"
      ]
    },
    {
      "cell_type": "code",
      "execution_count": null,
      "id": "0f46a1b4",
      "metadata": {
        "id": "0f46a1b4"
      },
      "outputs": [],
      "source": [
        "es = [EarlyStopping(monitor='val_loss', mode='min', verbose=1, patience=10, restore_best_weights=True)]"
      ]
    },
    {
      "cell_type": "code",
      "execution_count": null,
      "id": "46040be1",
      "metadata": {
        "id": "46040be1"
      },
      "outputs": [],
      "source": [
        "mcp = ModelCheckpoint(filepath='satelitte_models/weights/resnetmodel_weight.h5', save_weights_only=True,\n",
        "                     monitor=\"val_loss\",  verbose=1)"
      ]
    },
    {
      "cell_type": "code",
      "execution_count": null,
      "id": "126923c3",
      "metadata": {
        "id": "126923c3"
      },
      "outputs": [],
      "source": [
        "csv_log = CSVLogger('satelitte_models/train_log/resnet_training.csv', separator=',',append=True)"
      ]
    },
    {
      "cell_type": "code",
      "execution_count": null,
      "id": "96e85b83",
      "metadata": {
        "id": "96e85b83",
        "outputId": "5d9de1f6-b80f-4c62-f9ca-6d971b4bbf23"
      },
      "outputs": [
        {
          "data": {
            "text/plain": [
              "42962"
            ]
          },
          "execution_count": 31,
          "metadata": {},
          "output_type": "execute_result"
        }
      ],
      "source": [
        "trainGen.numImages"
      ]
    },
    {
      "cell_type": "code",
      "execution_count": null,
      "id": "ce40a9af",
      "metadata": {
        "id": "ce40a9af",
        "outputId": "7afe1394-de71-4ce5-c6cd-4d9494d7bfa1"
      },
      "outputs": [
        {
          "name": "stdout",
          "output_type": "stream",
          "text": [
            "[INFO] training network...\n",
            "Epoch 1/200\n",
            "5370/5370 [==============================] - 684s 126ms/step - loss: 1.4504 - accuracy: 0.2894 - val_loss: 1.3188 - val_accuracy: 0.3576\n",
            "\n",
            "Epoch 00001: saving model to satelitte_models/weights\\resnetmodel_weight.h5\n",
            "Epoch 2/200\n",
            "5370/5370 [==============================] - 733s 136ms/step - loss: 1.3284 - accuracy: 0.3566 - val_loss: 1.3075 - val_accuracy: 0.3739\n",
            "\n",
            "Epoch 00002: saving model to satelitte_models/weights\\resnetmodel_weight.h5\n",
            "Epoch 3/200\n",
            "5370/5370 [==============================] - 774s 144ms/step - loss: 1.3128 - accuracy: 0.3633 - val_loss: 1.3104 - val_accuracy: 0.3663\n",
            "\n",
            "Epoch 00003: saving model to satelitte_models/weights\\resnetmodel_weight.h5\n",
            "Epoch 4/200\n",
            "5370/5370 [==============================] - 730s 136ms/step - loss: 1.3057 - accuracy: 0.3655 - val_loss: 1.3230 - val_accuracy: 0.3634\n",
            "\n",
            "Epoch 00004: saving model to satelitte_models/weights\\resnetmodel_weight.h5\n",
            "Epoch 5/200\n",
            "5370/5370 [==============================] - 705s 131ms/step - loss: 1.3066 - accuracy: 0.3677 - val_loss: 1.2984 - val_accuracy: 0.3799\n",
            "\n",
            "Epoch 00005: saving model to satelitte_models/weights\\resnetmodel_weight.h5\n",
            "Epoch 6/200\n",
            "5370/5370 [==============================] - 720s 134ms/step - loss: 1.3002 - accuracy: 0.3745 - val_loss: 1.3074 - val_accuracy: 0.3753\n",
            "\n",
            "Epoch 00006: saving model to satelitte_models/weights\\resnetmodel_weight.h5\n",
            "Epoch 7/200\n",
            "5370/5370 [==============================] - 712s 133ms/step - loss: 1.2986 - accuracy: 0.3706 - val_loss: 1.3038 - val_accuracy: 0.3728\n",
            "\n",
            "Epoch 00007: saving model to satelitte_models/weights\\resnetmodel_weight.h5\n",
            "Epoch 8/200\n",
            "5370/5370 [==============================] - 714s 133ms/step - loss: 1.2982 - accuracy: 0.3738 - val_loss: 1.3272 - val_accuracy: 0.3643\n",
            "\n",
            "Epoch 00008: saving model to satelitte_models/weights\\resnetmodel_weight.h5\n",
            "Epoch 9/200\n",
            "5370/5370 [==============================] - 725s 135ms/step - loss: 1.2950 - accuracy: 0.3735 - val_loss: 1.2976 - val_accuracy: 0.3784\n",
            "\n",
            "Epoch 00009: saving model to satelitte_models/weights\\resnetmodel_weight.h5\n",
            "Epoch 10/200\n",
            "5370/5370 [==============================] - 708s 132ms/step - loss: 1.2921 - accuracy: 0.3806 - val_loss: 1.2990 - val_accuracy: 0.3788\n",
            "\n",
            "Epoch 00010: saving model to satelitte_models/weights\\resnetmodel_weight.h5\n",
            "Epoch 11/200\n",
            "5370/5370 [==============================] - 692s 129ms/step - loss: 1.2920 - accuracy: 0.3765 - val_loss: 1.3029 - val_accuracy: 0.3761\n",
            "\n",
            "Epoch 00011: saving model to satelitte_models/weights\\resnetmodel_weight.h5\n",
            "Epoch 12/200\n",
            "5370/5370 [==============================] - 712s 133ms/step - loss: 1.2888 - accuracy: 0.3777 - val_loss: 1.3040 - val_accuracy: 0.3799\n",
            "\n",
            "Epoch 00012: saving model to satelitte_models/weights\\resnetmodel_weight.h5\n",
            "Epoch 13/200\n",
            "5370/5370 [==============================] - 698s 130ms/step - loss: 1.2865 - accuracy: 0.3805 - val_loss: 1.3086 - val_accuracy: 0.3712\n",
            "\n",
            "Epoch 00013: saving model to satelitte_models/weights\\resnetmodel_weight.h5\n",
            "Epoch 14/200\n",
            "5370/5370 [==============================] - 692s 129ms/step - loss: 1.2861 - accuracy: 0.3810 - val_loss: 1.2981 - val_accuracy: 0.3819\n",
            "\n",
            "Epoch 00014: saving model to satelitte_models/weights\\resnetmodel_weight.h5\n",
            "Epoch 15/200\n",
            "5370/5370 [==============================] - 682s 127ms/step - loss: 1.2832 - accuracy: 0.3845 - val_loss: 1.2965 - val_accuracy: 0.3812\n",
            "\n",
            "Epoch 00015: saving model to satelitte_models/weights\\resnetmodel_weight.h5\n",
            "Epoch 16/200\n",
            "5370/5370 [==============================] - 685s 127ms/step - loss: 1.2824 - accuracy: 0.3850 - val_loss: 1.3139 - val_accuracy: 0.3735\n",
            "\n",
            "Epoch 00016: saving model to satelitte_models/weights\\resnetmodel_weight.h5\n",
            "Epoch 17/200\n",
            "5370/5370 [==============================] - 691s 129ms/step - loss: 1.2809 - accuracy: 0.3880 - val_loss: 1.2911 - val_accuracy: 0.3836\n",
            "\n",
            "Epoch 00017: saving model to satelitte_models/weights\\resnetmodel_weight.h5\n",
            "Epoch 18/200\n",
            "5370/5370 [==============================] - 680s 127ms/step - loss: 1.2778 - accuracy: 0.3852 - val_loss: 1.2889 - val_accuracy: 0.3899\n",
            "\n",
            "Epoch 00018: saving model to satelitte_models/weights\\resnetmodel_weight.h5\n",
            "Epoch 19/200\n",
            "5370/5370 [==============================] - 699s 130ms/step - loss: 1.2771 - accuracy: 0.3864 - val_loss: 1.2934 - val_accuracy: 0.3861\n",
            "\n",
            "Epoch 00019: saving model to satelitte_models/weights\\resnetmodel_weight.h5\n",
            "Epoch 20/200\n",
            "5370/5370 [==============================] - 684s 127ms/step - loss: 1.2798 - accuracy: 0.3865 - val_loss: 1.2781 - val_accuracy: 0.3977\n",
            "\n",
            "Epoch 00020: saving model to satelitte_models/weights\\resnetmodel_weight.h5\n",
            "Epoch 21/200\n",
            "5370/5370 [==============================] - 680s 127ms/step - loss: 1.2748 - accuracy: 0.3903 - val_loss: 1.2968 - val_accuracy: 0.3875\n",
            "\n",
            "Epoch 00021: saving model to satelitte_models/weights\\resnetmodel_weight.h5\n",
            "Epoch 22/200\n",
            "5370/5370 [==============================] - 690s 128ms/step - loss: 1.2708 - accuracy: 0.3914 - val_loss: 1.2877 - val_accuracy: 0.3898\n",
            "\n",
            "Epoch 00022: saving model to satelitte_models/weights\\resnetmodel_weight.h5\n",
            "Epoch 23/200\n",
            "5370/5370 [==============================] - 684s 127ms/step - loss: 1.2697 - accuracy: 0.3912 - val_loss: 1.2894 - val_accuracy: 0.3923\n",
            "\n",
            "Epoch 00023: saving model to satelitte_models/weights\\resnetmodel_weight.h5\n",
            "Epoch 24/200\n",
            "5370/5370 [==============================] - 688s 128ms/step - loss: 1.2703 - accuracy: 0.3930 - val_loss: 1.2906 - val_accuracy: 0.3969\n",
            "\n",
            "Epoch 00024: saving model to satelitte_models/weights\\resnetmodel_weight.h5\n",
            "Epoch 25/200\n",
            "5370/5370 [==============================] - 684s 127ms/step - loss: 1.2709 - accuracy: 0.3918 - val_loss: 1.2919 - val_accuracy: 0.3956\n",
            "\n",
            "Epoch 00025: saving model to satelitte_models/weights\\resnetmodel_weight.h5\n",
            "Epoch 26/200\n",
            "5370/5370 [==============================] - 681s 127ms/step - loss: 1.2725 - accuracy: 0.3892 - val_loss: 1.2824 - val_accuracy: 0.4027\n",
            "\n",
            "Epoch 00026: saving model to satelitte_models/weights\\resnetmodel_weight.h5\n",
            "Epoch 27/200\n",
            "5370/5370 [==============================] - 696s 130ms/step - loss: 1.2682 - accuracy: 0.3912 - val_loss: 1.2888 - val_accuracy: 0.3924\n",
            "\n",
            "Epoch 00027: saving model to satelitte_models/weights\\resnetmodel_weight.h5\n",
            "Epoch 28/200\n",
            "5370/5370 [==============================] - 681s 127ms/step - loss: 1.2648 - accuracy: 0.3927 - val_loss: 1.2811 - val_accuracy: 0.4092\n",
            "\n",
            "Epoch 00028: saving model to satelitte_models/weights\\resnetmodel_weight.h5\n",
            "Epoch 29/200\n",
            "5370/5370 [==============================] - 747s 139ms/step - loss: 1.2633 - accuracy: 0.3981 - val_loss: 1.2816 - val_accuracy: 0.4195\n",
            "\n",
            "Epoch 00029: saving model to satelitte_models/weights\\resnetmodel_weight.h5\n",
            "Epoch 30/200\n",
            "5370/5370 [==============================] - 773s 144ms/step - loss: 1.2607 - accuracy: 0.3943 - val_loss: 1.2964 - val_accuracy: 0.4241\n",
            "Restoring model weights from the end of the best epoch.\n",
            "\n",
            "Epoch 00030: saving model to satelitte_models/weights\\resnetmodel_weight.h5\n",
            "Epoch 00030: early stopping\n"
          ]
        }
      ],
      "source": [
        "# train the network\n",
        "print(\"[INFO] training network...\")\n",
        "H = model.fit(x = trainGen.generator(),\n",
        "              validation_data=valGen.generator(),\n",
        "              steps_per_epoch=trainGen.numImages // 8,\n",
        "              validation_steps=valGen.numImages // 8,\n",
        "              epochs=epochs, callbacks=[es, mcp, csv_log], verbose=1)"
      ]
    },
    {
      "cell_type": "code",
      "execution_count": null,
      "id": "579071cd",
      "metadata": {
        "id": "579071cd"
      },
      "outputs": [],
      "source": [
        "model.load_weights('satelitte_models/weights/resnetmodel_weight.h5')"
      ]
    },
    {
      "cell_type": "code",
      "execution_count": null,
      "id": "11de05af",
      "metadata": {
        "id": "11de05af"
      },
      "outputs": [],
      "source": [
        "mcp = ModelCheckpoint(filepath='satelitte_models/weights/resnetmodel_weight.h5', save_weights_only=True,\n",
        "                     monitor=\"val_loss\",  verbose=1)"
      ]
    },
    {
      "cell_type": "code",
      "execution_count": null,
      "id": "bf0b839c",
      "metadata": {
        "id": "bf0b839c"
      },
      "outputs": [],
      "source": [
        "es = EarlyStopping(monitor='val_loss', mode='min', verbose=1, patience=10, restore_best_weights=True)"
      ]
    },
    {
      "cell_type": "code",
      "execution_count": null,
      "id": "c9cea8ab",
      "metadata": {
        "id": "c9cea8ab"
      },
      "outputs": [],
      "source": [
        "csv_log = CSVLogger('satelitte_models/train_log/resnet_training.csv', separator=',',append=True)"
      ]
    },
    {
      "cell_type": "code",
      "execution_count": null,
      "id": "cb3a079c",
      "metadata": {
        "id": "cb3a079c"
      },
      "outputs": [],
      "source": [
        "import pandas as pd"
      ]
    },
    {
      "cell_type": "code",
      "execution_count": null,
      "id": "6b45c5a8",
      "metadata": {
        "id": "6b45c5a8"
      },
      "outputs": [],
      "source": [
        "history = pd.read_csv('satelitte_models/train_log/resnet_training.csv')"
      ]
    },
    {
      "cell_type": "code",
      "execution_count": null,
      "id": "ac0bc354",
      "metadata": {
        "id": "ac0bc354",
        "outputId": "cb88f630-61bc-4a70-e75b-91877f1183c4"
      },
      "outputs": [
        {
          "data": {
            "text/html": [
              "<div>\n",
              "<style scoped>\n",
              "    .dataframe tbody tr th:only-of-type {\n",
              "        vertical-align: middle;\n",
              "    }\n",
              "\n",
              "    .dataframe tbody tr th {\n",
              "        vertical-align: top;\n",
              "    }\n",
              "\n",
              "    .dataframe thead th {\n",
              "        text-align: right;\n",
              "    }\n",
              "</style>\n",
              "<table border=\"1\" class=\"dataframe\">\n",
              "  <thead>\n",
              "    <tr style=\"text-align: right;\">\n",
              "      <th></th>\n",
              "      <th>epoch</th>\n",
              "      <th>accuracy</th>\n",
              "      <th>loss</th>\n",
              "      <th>val_accuracy</th>\n",
              "      <th>val_loss</th>\n",
              "    </tr>\n",
              "  </thead>\n",
              "  <tbody>\n",
              "    <tr>\n",
              "      <th>0</th>\n",
              "      <td>0</td>\n",
              "      <td>0.316131</td>\n",
              "      <td>1.377736</td>\n",
              "      <td>0.357577</td>\n",
              "      <td>1.318803</td>\n",
              "    </tr>\n",
              "    <tr>\n",
              "      <th>1</th>\n",
              "      <td>1</td>\n",
              "      <td>0.357615</td>\n",
              "      <td>1.323699</td>\n",
              "      <td>0.373944</td>\n",
              "      <td>1.307464</td>\n",
              "    </tr>\n",
              "    <tr>\n",
              "      <th>2</th>\n",
              "      <td>2</td>\n",
              "      <td>0.364716</td>\n",
              "      <td>1.310695</td>\n",
              "      <td>0.366288</td>\n",
              "      <td>1.310398</td>\n",
              "    </tr>\n",
              "    <tr>\n",
              "      <th>3</th>\n",
              "      <td>3</td>\n",
              "      <td>0.366415</td>\n",
              "      <td>1.304842</td>\n",
              "      <td>0.363384</td>\n",
              "      <td>1.322955</td>\n",
              "    </tr>\n",
              "    <tr>\n",
              "      <th>4</th>\n",
              "      <td>4</td>\n",
              "      <td>0.369046</td>\n",
              "      <td>1.305263</td>\n",
              "      <td>0.379884</td>\n",
              "      <td>1.298449</td>\n",
              "    </tr>\n",
              "    <tr>\n",
              "      <th>5</th>\n",
              "      <td>5</td>\n",
              "      <td>0.372352</td>\n",
              "      <td>1.299313</td>\n",
              "      <td>0.375264</td>\n",
              "      <td>1.307386</td>\n",
              "    </tr>\n",
              "    <tr>\n",
              "      <th>6</th>\n",
              "      <td>6</td>\n",
              "      <td>0.371351</td>\n",
              "      <td>1.297134</td>\n",
              "      <td>0.372756</td>\n",
              "      <td>1.303775</td>\n",
              "    </tr>\n",
              "    <tr>\n",
              "      <th>7</th>\n",
              "      <td>7</td>\n",
              "      <td>0.373004</td>\n",
              "      <td>1.296518</td>\n",
              "      <td>0.364308</td>\n",
              "      <td>1.327159</td>\n",
              "    </tr>\n",
              "    <tr>\n",
              "      <th>8</th>\n",
              "      <td>8</td>\n",
              "      <td>0.373493</td>\n",
              "      <td>1.293504</td>\n",
              "      <td>0.378432</td>\n",
              "      <td>1.297606</td>\n",
              "    </tr>\n",
              "    <tr>\n",
              "      <th>9</th>\n",
              "      <td>9</td>\n",
              "      <td>0.377543</td>\n",
              "      <td>1.291904</td>\n",
              "      <td>0.378828</td>\n",
              "      <td>1.298951</td>\n",
              "    </tr>\n",
              "    <tr>\n",
              "      <th>10</th>\n",
              "      <td>10</td>\n",
              "      <td>0.376496</td>\n",
              "      <td>1.291322</td>\n",
              "      <td>0.376056</td>\n",
              "      <td>1.302859</td>\n",
              "    </tr>\n",
              "    <tr>\n",
              "      <th>11</th>\n",
              "      <td>11</td>\n",
              "      <td>0.380919</td>\n",
              "      <td>1.288036</td>\n",
              "      <td>0.379884</td>\n",
              "      <td>1.303976</td>\n",
              "    </tr>\n",
              "    <tr>\n",
              "      <th>12</th>\n",
              "      <td>12</td>\n",
              "      <td>0.381129</td>\n",
              "      <td>1.286199</td>\n",
              "      <td>0.371172</td>\n",
              "      <td>1.308648</td>\n",
              "    </tr>\n",
              "    <tr>\n",
              "      <th>13</th>\n",
              "      <td>13</td>\n",
              "      <td>0.381804</td>\n",
              "      <td>1.285090</td>\n",
              "      <td>0.381864</td>\n",
              "      <td>1.298137</td>\n",
              "    </tr>\n",
              "    <tr>\n",
              "      <th>14</th>\n",
              "      <td>14</td>\n",
              "      <td>0.384830</td>\n",
              "      <td>1.282957</td>\n",
              "      <td>0.381204</td>\n",
              "      <td>1.296466</td>\n",
              "    </tr>\n",
              "    <tr>\n",
              "      <th>15</th>\n",
              "      <td>15</td>\n",
              "      <td>0.384178</td>\n",
              "      <td>1.281483</td>\n",
              "      <td>0.373548</td>\n",
              "      <td>1.313945</td>\n",
              "    </tr>\n",
              "    <tr>\n",
              "      <th>16</th>\n",
              "      <td>16</td>\n",
              "      <td>0.385785</td>\n",
              "      <td>1.279034</td>\n",
              "      <td>0.383580</td>\n",
              "      <td>1.291057</td>\n",
              "    </tr>\n",
              "    <tr>\n",
              "      <th>17</th>\n",
              "      <td>17</td>\n",
              "      <td>0.384528</td>\n",
              "      <td>1.277282</td>\n",
              "      <td>0.389916</td>\n",
              "      <td>1.288936</td>\n",
              "    </tr>\n",
              "    <tr>\n",
              "      <th>18</th>\n",
              "      <td>18</td>\n",
              "      <td>0.386693</td>\n",
              "      <td>1.275332</td>\n",
              "      <td>0.386088</td>\n",
              "      <td>1.293400</td>\n",
              "    </tr>\n",
              "    <tr>\n",
              "      <th>19</th>\n",
              "      <td>19</td>\n",
              "      <td>0.387321</td>\n",
              "      <td>1.276704</td>\n",
              "      <td>0.397703</td>\n",
              "      <td>1.278138</td>\n",
              "    </tr>\n",
              "    <tr>\n",
              "      <th>20</th>\n",
              "      <td>20</td>\n",
              "      <td>0.389533</td>\n",
              "      <td>1.273214</td>\n",
              "      <td>0.387540</td>\n",
              "      <td>1.296794</td>\n",
              "    </tr>\n",
              "    <tr>\n",
              "      <th>21</th>\n",
              "      <td>21</td>\n",
              "      <td>0.390325</td>\n",
              "      <td>1.270761</td>\n",
              "      <td>0.389784</td>\n",
              "      <td>1.287716</td>\n",
              "    </tr>\n",
              "    <tr>\n",
              "      <th>22</th>\n",
              "      <td>22</td>\n",
              "      <td>0.389580</td>\n",
              "      <td>1.269026</td>\n",
              "      <td>0.392291</td>\n",
              "      <td>1.289400</td>\n",
              "    </tr>\n",
              "    <tr>\n",
              "      <th>23</th>\n",
              "      <td>23</td>\n",
              "      <td>0.392210</td>\n",
              "      <td>1.269276</td>\n",
              "      <td>0.396911</td>\n",
              "      <td>1.290629</td>\n",
              "    </tr>\n",
              "    <tr>\n",
              "      <th>24</th>\n",
              "      <td>24</td>\n",
              "      <td>0.390930</td>\n",
              "      <td>1.271029</td>\n",
              "      <td>0.395591</td>\n",
              "      <td>1.291944</td>\n",
              "    </tr>\n",
              "    <tr>\n",
              "      <th>25</th>\n",
              "      <td>25</td>\n",
              "      <td>0.391070</td>\n",
              "      <td>1.270519</td>\n",
              "      <td>0.402719</td>\n",
              "      <td>1.282376</td>\n",
              "    </tr>\n",
              "    <tr>\n",
              "      <th>26</th>\n",
              "      <td>26</td>\n",
              "      <td>0.392536</td>\n",
              "      <td>1.266423</td>\n",
              "      <td>0.392423</td>\n",
              "      <td>1.288841</td>\n",
              "    </tr>\n",
              "    <tr>\n",
              "      <th>27</th>\n",
              "      <td>27</td>\n",
              "      <td>0.395167</td>\n",
              "      <td>1.264097</td>\n",
              "      <td>0.409187</td>\n",
              "      <td>1.281129</td>\n",
              "    </tr>\n",
              "    <tr>\n",
              "      <th>28</th>\n",
              "      <td>28</td>\n",
              "      <td>0.398589</td>\n",
              "      <td>1.261534</td>\n",
              "      <td>0.419483</td>\n",
              "      <td>1.281642</td>\n",
              "    </tr>\n",
              "    <tr>\n",
              "      <th>29</th>\n",
              "      <td>29</td>\n",
              "      <td>0.396191</td>\n",
              "      <td>1.260942</td>\n",
              "      <td>0.424102</td>\n",
              "      <td>1.296394</td>\n",
              "    </tr>\n",
              "  </tbody>\n",
              "</table>\n",
              "</div>"
            ],
            "text/plain": [
              "    epoch  accuracy      loss  val_accuracy  val_loss\n",
              "0       0  0.316131  1.377736      0.357577  1.318803\n",
              "1       1  0.357615  1.323699      0.373944  1.307464\n",
              "2       2  0.364716  1.310695      0.366288  1.310398\n",
              "3       3  0.366415  1.304842      0.363384  1.322955\n",
              "4       4  0.369046  1.305263      0.379884  1.298449\n",
              "5       5  0.372352  1.299313      0.375264  1.307386\n",
              "6       6  0.371351  1.297134      0.372756  1.303775\n",
              "7       7  0.373004  1.296518      0.364308  1.327159\n",
              "8       8  0.373493  1.293504      0.378432  1.297606\n",
              "9       9  0.377543  1.291904      0.378828  1.298951\n",
              "10     10  0.376496  1.291322      0.376056  1.302859\n",
              "11     11  0.380919  1.288036      0.379884  1.303976\n",
              "12     12  0.381129  1.286199      0.371172  1.308648\n",
              "13     13  0.381804  1.285090      0.381864  1.298137\n",
              "14     14  0.384830  1.282957      0.381204  1.296466\n",
              "15     15  0.384178  1.281483      0.373548  1.313945\n",
              "16     16  0.385785  1.279034      0.383580  1.291057\n",
              "17     17  0.384528  1.277282      0.389916  1.288936\n",
              "18     18  0.386693  1.275332      0.386088  1.293400\n",
              "19     19  0.387321  1.276704      0.397703  1.278138\n",
              "20     20  0.389533  1.273214      0.387540  1.296794\n",
              "21     21  0.390325  1.270761      0.389784  1.287716\n",
              "22     22  0.389580  1.269026      0.392291  1.289400\n",
              "23     23  0.392210  1.269276      0.396911  1.290629\n",
              "24     24  0.390930  1.271029      0.395591  1.291944\n",
              "25     25  0.391070  1.270519      0.402719  1.282376\n",
              "26     26  0.392536  1.266423      0.392423  1.288841\n",
              "27     27  0.395167  1.264097      0.409187  1.281129\n",
              "28     28  0.398589  1.261534      0.419483  1.281642\n",
              "29     29  0.396191  1.260942      0.424102  1.296394"
            ]
          },
          "execution_count": 36,
          "metadata": {},
          "output_type": "execute_result"
        }
      ],
      "source": [
        "history"
      ]
    },
    {
      "cell_type": "code",
      "execution_count": null,
      "id": "81b7b32e",
      "metadata": {
        "id": "81b7b32e"
      },
      "outputs": [],
      "source": [
        "ResNetHist = history.to_dict('list')"
      ]
    },
    {
      "cell_type": "code",
      "execution_count": null,
      "id": "30ae6f3f",
      "metadata": {
        "id": "30ae6f3f"
      },
      "outputs": [],
      "source": []
    },
    {
      "cell_type": "code",
      "execution_count": null,
      "id": "c61257b7",
      "metadata": {
        "id": "c61257b7"
      },
      "outputs": [],
      "source": []
    },
    {
      "cell_type": "code",
      "execution_count": null,
      "id": "0a2333ca",
      "metadata": {
        "id": "0a2333ca"
      },
      "outputs": [],
      "source": [
        "# saving model\n",
        "model.save('satelitte_models/resnet_model_satelitte.h5')"
      ]
    },
    {
      "cell_type": "code",
      "execution_count": null,
      "id": "70bc960b",
      "metadata": {
        "id": "70bc960b",
        "outputId": "88859610-a96d-450d-fca2-e241f6585850"
      },
      "outputs": [
        {
          "data": {
            "text/plain": [
              "<matplotlib.legend.Legend at 0x192d9315370>"
            ]
          },
          "execution_count": 38,
          "metadata": {},
          "output_type": "execute_result"
        },
        {
          "data": {
            "image/png": "[encoded data removed]",
            "text/plain": [
              "<Figure size 432x288 with 1 Axes>"
            ]
          },
          "metadata": {},
          "output_type": "display_data"
        }
      ],
      "source": [
        "# plot the training loss and accuracy\n",
        "plt.style.use(\"ggplot\")\n",
        "plt.figure()\n",
        "plt.plot(ResNetHist[\"loss\"], label=\"train_loss\")\n",
        "plt.plot(ResNetHist[\"val_loss\"], label=\"val_loss\")\n",
        "plt.plot(ResNetHist[\"accuracy\"], label=\"train_acc\")\n",
        "plt.plot(ResNetHist[\"val_accuracy\"], label=\"val_acc\")\n",
        "plt.title(\"Training Loss and Accuracy on Satelitte Images for Poverty Prediction\")\n",
        "plt.xlabel(\"Epoch #\")\n",
        "plt.ylabel(\"Loss/Accuracy\")\n",
        "plt.legend()"
      ]
    },
    {
      "cell_type": "code",
      "execution_count": null,
      "id": "d2bce36a",
      "metadata": {
        "id": "d2bce36a"
      },
      "outputs": [],
      "source": [
        "testGen.numImages"
      ]
    },
    {
      "cell_type": "code",
      "execution_count": null,
      "id": "cd64d332",
      "metadata": {
        "id": "cd64d332",
        "outputId": "3d8aaa99-3e3e-470e-8744-6a49597a333b"
      },
      "outputs": [
        {
          "data": {
            "text/plain": [
              "5616"
            ]
          },
          "execution_count": 39,
          "metadata": {},
          "output_type": "execute_result"
        }
      ],
      "source": [
        "num_pred = (testGen.numImages // 8) * 8\n",
        "num_pred"
      ]
    },
    {
      "cell_type": "code",
      "execution_count": null,
      "id": "78f74ea4",
      "metadata": {
        "id": "78f74ea4",
        "outputId": "e52f5ecd-bc88-46e5-d075-a13c85fa46a2"
      },
      "outputs": [
        {
          "name": "stdout",
          "output_type": "stream",
          "text": [
            "[INFO] evaluating network...\n",
            "                  precision    recall  f1-score   support\n",
            "\n",
            "    Mali_archive       0.33      0.61      0.43      1475\n",
            "ethiopia_archive       0.51      0.68      0.58      1717\n",
            "  malawi_archive       0.27      0.12      0.17      1270\n",
            " nigeria_archive       0.00      0.00      0.00      1154\n",
            "\n",
            "        accuracy                           0.40      5616\n",
            "       macro avg       0.28      0.35      0.29      5616\n",
            "    weighted avg       0.30      0.40      0.33      5616\n",
            "\n"
          ]
        },
        {
          "name": "stderr",
          "output_type": "stream",
          "text": [
            "C:\\anaconda\\envs\\workspace\\lib\\site-packages\\sklearn\\metrics\\_classification.py:1248: UndefinedMetricWarning: Precision and F-score are ill-defined and being set to 0.0 in labels with no predicted samples. Use `zero_division` parameter to control this behavior.\n",
            "  _warn_prf(average, modifier, msg_start, len(result))\n",
            "C:\\anaconda\\envs\\workspace\\lib\\site-packages\\sklearn\\metrics\\_classification.py:1248: UndefinedMetricWarning: Precision and F-score are ill-defined and being set to 0.0 in labels with no predicted samples. Use `zero_division` parameter to control this behavior.\n",
            "  _warn_prf(average, modifier, msg_start, len(result))\n",
            "C:\\anaconda\\envs\\workspace\\lib\\site-packages\\sklearn\\metrics\\_classification.py:1248: UndefinedMetricWarning: Precision and F-score are ill-defined and being set to 0.0 in labels with no predicted samples. Use `zero_division` parameter to control this behavior.\n",
            "  _warn_prf(average, modifier, msg_start, len(result))\n"
          ]
        }
      ],
      "source": [
        "# evaluate the network\n",
        "print(\"[INFO] evaluating network...\")\n",
        "num_pred = (testGen.numImages // 8) * 8\n",
        "predictions = model.predict(testGen.generator(passes=1),\n",
        "                                      steps=testGen.numImages // 8)\n",
        "y_pred = predictions.argmax(axis=-1)\n",
        "y_true = test_data['labels'][...].argmax(axis=-1)[:num_pred]\n",
        "print(classification_report(y_true, y_pred,\n",
        "                            target_names=classNames))\n",
        "#predictions = model.predict(testX, batch_size=32)\n",
        "#print(classification_report(testY.argmax(axis=1),\n",
        "                            #predictions.argmax(axis=1), target_names=classNames))"
      ]
    },
    {
      "cell_type": "markdown",
      "id": "fc668054",
      "metadata": {
        "id": "fc668054"
      },
      "source": [
        "## UNFREZZING FINAL SET OF CONV LAYERS IN RESNET MODEL - 1"
      ]
    },
    {
      "cell_type": "code",
      "execution_count": null,
      "id": "8a784b1d",
      "metadata": {
        "id": "8a784b1d"
      },
      "outputs": [],
      "source": [
        "# now that the head FC layers have been trained/initialized, lets\n",
        "# unfreeze the final set of CONV layers and make them trainable\n",
        "for layer in baseModel.layers[171:]:\n",
        "    layer.trainable = True"
      ]
    },
    {
      "cell_type": "code",
      "execution_count": null,
      "id": "4efd9a2a",
      "metadata": {
        "id": "4efd9a2a"
      },
      "outputs": [],
      "source": [
        "# compile the model\n",
        "epochs = 200\n",
        "lr = 1e-5\n",
        "opt = Adam(lr=lr, decay=lr / epochs)\n",
        "model.compile(loss=\"categorical_crossentropy\", optimizer=opt,\n",
        "              metrics=[\"accuracy\"])"
      ]
    },
    {
      "cell_type": "code",
      "execution_count": null,
      "id": "92d41671",
      "metadata": {
        "id": "92d41671"
      },
      "outputs": [],
      "source": [
        "mcp = ModelCheckpoint(filepath='satelitte_models/weights/resnetmodel_weight1.h5', save_weights_only=True,\n",
        "                     monitor=\"val_loss\",  verbose=1)"
      ]
    },
    {
      "cell_type": "code",
      "execution_count": null,
      "id": "8c7db298",
      "metadata": {
        "id": "8c7db298"
      },
      "outputs": [],
      "source": [
        "es = [EarlyStopping(monitor='val_loss', mode='min', verbose=1, patience=10, restore_best_weights=True)]"
      ]
    },
    {
      "cell_type": "code",
      "execution_count": null,
      "id": "b074798a",
      "metadata": {
        "id": "b074798a"
      },
      "outputs": [],
      "source": [
        "csv_log = CSVLogger('satelitte_models/train_log/resnet_training1.csv', separator=',',append=True)"
      ]
    },
    {
      "cell_type": "code",
      "execution_count": null,
      "id": "b19e7095",
      "metadata": {
        "id": "b19e7095",
        "outputId": "f8c22711-41ee-4e80-b489-140d4e82cb23"
      },
      "outputs": [
        {
          "data": {
            "text/plain": [
              "42962"
            ]
          },
          "execution_count": 38,
          "metadata": {},
          "output_type": "execute_result"
        }
      ],
      "source": [
        "trainGen.numImages"
      ]
    },
    {
      "cell_type": "code",
      "execution_count": null,
      "id": "4507cc53",
      "metadata": {
        "id": "4507cc53",
        "outputId": "1d8ea49d-9f21-4fb7-baf7-958d9d51813b"
      },
      "outputs": [
        {
          "name": "stdout",
          "output_type": "stream",
          "text": [
            "[INFO] training network...\n",
            "Epoch 1/200\n",
            "5370/5370 [==============================] - 766s 141ms/step - loss: 1.3164 - accuracy: 0.3600 - val_loss: 1.2630 - val_accuracy: 0.3819\n",
            "\n",
            "Epoch 00001: saving model to satelitte_models/weights\\resnetmodel_weight1.h5\n",
            "Epoch 2/200\n",
            "5370/5370 [==============================] - 702s 130ms/step - loss: 1.2449 - accuracy: 0.4029 - val_loss: 1.2196 - val_accuracy: 0.4238\n",
            "\n",
            "Epoch 00002: saving model to satelitte_models/weights\\resnetmodel_weight1.h5\n",
            "Epoch 3/200\n",
            "5370/5370 [==============================] - 697s 130ms/step - loss: 1.2104 - accuracy: 0.4297 - val_loss: 1.1823 - val_accuracy: 0.4496\n",
            "\n",
            "Epoch 00003: saving model to satelitte_models/weights\\resnetmodel_weight1.h5\n",
            "Epoch 4/200\n",
            "5370/5370 [==============================] - 715s 133ms/step - loss: 1.1896 - accuracy: 0.4436 - val_loss: 1.1959 - val_accuracy: 0.4381\n",
            "\n",
            "Epoch 00004: saving model to satelitte_models/weights\\resnetmodel_weight1.h5\n",
            "Epoch 5/200\n",
            "5370/5370 [==============================] - 750s 140ms/step - loss: 1.1754 - accuracy: 0.4518 - val_loss: 1.1826 - val_accuracy: 0.4473\n",
            "\n",
            "Epoch 00005: saving model to satelitte_models/weights\\resnetmodel_weight1.h5\n",
            "Epoch 6/200\n",
            "5370/5370 [==============================] - 721s 134ms/step - loss: 1.1575 - accuracy: 0.4649 - val_loss: 1.2035 - val_accuracy: 0.4339\n",
            "\n",
            "Epoch 00006: saving model to satelitte_models/weights\\resnetmodel_weight1.h5\n",
            "Epoch 7/200\n",
            "5370/5370 [==============================] - 772s 144ms/step - loss: 1.1428 - accuracy: 0.4743 - val_loss: 1.2203 - val_accuracy: 0.4395\n",
            "\n",
            "Epoch 00007: saving model to satelitte_models/weights\\resnetmodel_weight1.h5\n",
            "Epoch 8/200\n",
            "5370/5370 [==============================] - 733s 136ms/step - loss: 1.1283 - accuracy: 0.4817 - val_loss: 1.1907 - val_accuracy: 0.4530\n",
            "\n",
            "Epoch 00008: saving model to satelitte_models/weights\\resnetmodel_weight1.h5\n",
            "Epoch 9/200\n",
            "5370/5370 [==============================] - 722s 134ms/step - loss: 1.1160 - accuracy: 0.4926 - val_loss: 1.2064 - val_accuracy: 0.4512\n",
            "\n",
            "Epoch 00009: saving model to satelitte_models/weights\\resnetmodel_weight1.h5\n",
            "Epoch 10/200\n",
            "5370/5370 [==============================] - 701s 131ms/step - loss: 1.1023 - accuracy: 0.4984 - val_loss: 1.1718 - val_accuracy: 0.4708\n",
            "\n",
            "Epoch 00010: saving model to satelitte_models/weights\\resnetmodel_weight1.h5\n",
            "Epoch 11/200\n",
            "5370/5370 [==============================] - 708s 132ms/step - loss: 1.0943 - accuracy: 0.5100 - val_loss: 1.1510 - val_accuracy: 0.4744\n",
            "\n",
            "Epoch 00011: saving model to satelitte_models/weights\\resnetmodel_weight1.h5\n",
            "Epoch 12/200\n",
            "5370/5370 [==============================] - 697s 130ms/step - loss: 1.0872 - accuracy: 0.5175 - val_loss: 1.1434 - val_accuracy: 0.4974\n",
            "\n",
            "Epoch 00012: saving model to satelitte_models/weights\\resnetmodel_weight1.h5\n",
            "Epoch 13/200\n",
            "5370/5370 [==============================] - 704s 131ms/step - loss: 1.0742 - accuracy: 0.5224 - val_loss: 1.2039 - val_accuracy: 0.4696\n",
            "\n",
            "Epoch 00013: saving model to satelitte_models/weights\\resnetmodel_weight1.h5\n",
            "Epoch 14/200\n",
            "5370/5370 [==============================] - 680s 127ms/step - loss: 1.0664 - accuracy: 0.5263 - val_loss: 1.2267 - val_accuracy: 0.4529\n",
            "\n",
            "Epoch 00014: saving model to satelitte_models/weights\\resnetmodel_weight1.h5\n",
            "Epoch 15/200\n",
            "5370/5370 [==============================] - 669s 125ms/step - loss: 1.0614 - accuracy: 0.5327 - val_loss: 1.1490 - val_accuracy: 0.4962\n",
            "\n",
            "Epoch 00015: saving model to satelitte_models/weights\\resnetmodel_weight1.h5\n",
            "Epoch 16/200\n",
            "5370/5370 [==============================] - 693s 129ms/step - loss: 1.0559 - accuracy: 0.5326 - val_loss: 1.1748 - val_accuracy: 0.4724\n",
            "\n",
            "Epoch 00016: saving model to satelitte_models/weights\\resnetmodel_weight1.h5\n",
            "Epoch 17/200\n",
            "5370/5370 [==============================] - 694s 129ms/step - loss: 1.0475 - accuracy: 0.5385 - val_loss: 1.0900 - val_accuracy: 0.5302\n",
            "\n",
            "Epoch 00017: saving model to satelitte_models/weights\\resnetmodel_weight1.h5\n",
            "Epoch 18/200\n",
            "5370/5370 [==============================] - 675s 126ms/step - loss: 1.0425 - accuracy: 0.5440 - val_loss: 1.0939 - val_accuracy: 0.5197\n",
            "\n",
            "Epoch 00018: saving model to satelitte_models/weights\\resnetmodel_weight1.h5\n",
            "Epoch 19/200\n",
            "5370/5370 [==============================] - 703s 131ms/step - loss: 1.0368 - accuracy: 0.5477 - val_loss: 1.1827 - val_accuracy: 0.4798\n",
            "\n",
            "Epoch 00019: saving model to satelitte_models/weights\\resnetmodel_weight1.h5\n",
            "Epoch 20/200\n",
            "5370/5370 [==============================] - 674s 125ms/step - loss: 1.0296 - accuracy: 0.5481 - val_loss: 1.1170 - val_accuracy: 0.5119\n",
            "\n",
            "Epoch 00020: saving model to satelitte_models/weights\\resnetmodel_weight1.h5\n",
            "Epoch 21/200\n",
            "5370/5370 [==============================] - 671s 125ms/step - loss: 1.0279 - accuracy: 0.5525 - val_loss: 1.1451 - val_accuracy: 0.5028\n",
            "\n",
            "Epoch 00021: saving model to satelitte_models/weights\\resnetmodel_weight1.h5\n",
            "Epoch 22/200\n",
            "5370/5370 [==============================] - 683s 127ms/step - loss: 1.0235 - accuracy: 0.5560 - val_loss: 1.0712 - val_accuracy: 0.5209\n",
            "\n",
            "Epoch 00022: saving model to satelitte_models/weights\\resnetmodel_weight1.h5\n",
            "Epoch 23/200\n",
            "5370/5370 [==============================] - 669s 125ms/step - loss: 1.0194 - accuracy: 0.5578 - val_loss: 1.1868 - val_accuracy: 0.4729\n",
            "\n",
            "Epoch 00023: saving model to satelitte_models/weights\\resnetmodel_weight1.h5\n",
            "Epoch 24/200\n",
            "5370/5370 [==============================] - 666s 124ms/step - loss: 1.0130 - accuracy: 0.5632 - val_loss: 1.1419 - val_accuracy: 0.4979\n",
            "\n",
            "Epoch 00024: saving model to satelitte_models/weights\\resnetmodel_weight1.h5\n",
            "Epoch 25/200\n",
            "5370/5370 [==============================] - 680s 127ms/step - loss: 1.0105 - accuracy: 0.5607 - val_loss: 1.1487 - val_accuracy: 0.4970\n",
            "\n",
            "Epoch 00025: saving model to satelitte_models/weights\\resnetmodel_weight1.h5\n",
            "Epoch 26/200\n",
            "5370/5370 [==============================] - 668s 124ms/step - loss: 1.0087 - accuracy: 0.5625 - val_loss: 1.0855 - val_accuracy: 0.5181\n",
            "\n",
            "Epoch 00026: saving model to satelitte_models/weights\\resnetmodel_weight1.h5\n",
            "Epoch 27/200\n",
            "5370/5370 [==============================] - 665s 124ms/step - loss: 1.0040 - accuracy: 0.5662 - val_loss: 1.0427 - val_accuracy: 0.5425\n",
            "\n",
            "Epoch 00027: saving model to satelitte_models/weights\\resnetmodel_weight1.h5\n",
            "Epoch 28/200\n",
            "5370/5370 [==============================] - 674s 126ms/step - loss: 1.0013 - accuracy: 0.5685 - val_loss: 0.9870 - val_accuracy: 0.5648\n",
            "\n",
            "Epoch 00028: saving model to satelitte_models/weights\\resnetmodel_weight1.h5\n",
            "Epoch 29/200\n",
            "5370/5370 [==============================] - 667s 124ms/step - loss: 0.9973 - accuracy: 0.5720 - val_loss: 1.0914 - val_accuracy: 0.5121\n",
            "\n",
            "Epoch 00029: saving model to satelitte_models/weights\\resnetmodel_weight1.h5\n",
            "Epoch 30/200\n",
            "5370/5370 [==============================] - 685s 128ms/step - loss: 0.9950 - accuracy: 0.5724 - val_loss: 1.0023 - val_accuracy: 0.5480\n",
            "\n",
            "Epoch 00030: saving model to satelitte_models/weights\\resnetmodel_weight1.h5\n",
            "Epoch 31/200\n",
            "5370/5370 [==============================] - 687s 128ms/step - loss: 0.9880 - accuracy: 0.5761 - val_loss: 0.9680 - val_accuracy: 0.5841\n",
            "\n",
            "Epoch 00031: saving model to satelitte_models/weights\\resnetmodel_weight1.h5\n",
            "Epoch 32/200\n",
            "5370/5370 [==============================] - 680s 127ms/step - loss: 0.9858 - accuracy: 0.5740 - val_loss: 1.0212 - val_accuracy: 0.5471\n",
            "\n",
            "Epoch 00032: saving model to satelitte_models/weights\\resnetmodel_weight1.h5\n",
            "Epoch 33/200\n",
            "5370/5370 [==============================] - 676s 126ms/step - loss: 0.9815 - accuracy: 0.5769 - val_loss: 1.0021 - val_accuracy: 0.5445\n",
            "\n",
            "Epoch 00033: saving model to satelitte_models/weights\\resnetmodel_weight1.h5\n",
            "Epoch 34/200\n",
            "5370/5370 [==============================] - 668s 124ms/step - loss: 0.9815 - accuracy: 0.5782 - val_loss: 1.0171 - val_accuracy: 0.5500\n",
            "\n",
            "Epoch 00034: saving model to satelitte_models/weights\\resnetmodel_weight1.h5\n",
            "Epoch 35/200\n",
            "5370/5370 [==============================] - 669s 125ms/step - loss: 0.9756 - accuracy: 0.5805 - val_loss: 0.9673 - val_accuracy: 0.5791\n",
            "\n",
            "Epoch 00035: saving model to satelitte_models/weights\\resnetmodel_weight1.h5\n",
            "Epoch 36/200\n",
            "5370/5370 [==============================] - 690s 128ms/step - loss: 0.9716 - accuracy: 0.5819 - val_loss: 0.9551 - val_accuracy: 0.5891\n",
            "\n",
            "Epoch 00036: saving model to satelitte_models/weights\\resnetmodel_weight1.h5\n"
          ]
        },
        {
          "name": "stdout",
          "output_type": "stream",
          "text": [
            "Epoch 37/200\n",
            "5370/5370 [==============================] - 685s 128ms/step - loss: 0.9697 - accuracy: 0.5855 - val_loss: 1.0250 - val_accuracy: 0.5544\n",
            "\n",
            "Epoch 00037: saving model to satelitte_models/weights\\resnetmodel_weight1.h5\n",
            "Epoch 38/200\n",
            "5370/5370 [==============================] - 678s 126ms/step - loss: 0.9661 - accuracy: 0.5895 - val_loss: 1.0058 - val_accuracy: 0.5396\n",
            "\n",
            "Epoch 00038: saving model to satelitte_models/weights\\resnetmodel_weight1.h5\n",
            "Epoch 39/200\n",
            "5370/5370 [==============================] - 669s 125ms/step - loss: 0.9634 - accuracy: 0.5887 - val_loss: 0.9593 - val_accuracy: 0.5911\n",
            "\n",
            "Epoch 00039: saving model to satelitte_models/weights\\resnetmodel_weight1.h5\n",
            "Epoch 40/200\n",
            "5370/5370 [==============================] - 675s 126ms/step - loss: 0.9576 - accuracy: 0.5929 - val_loss: 1.0133 - val_accuracy: 0.5417\n",
            "\n",
            "Epoch 00040: saving model to satelitte_models/weights\\resnetmodel_weight1.h5\n",
            "Epoch 41/200\n",
            "5370/5370 [==============================] - 709s 132ms/step - loss: 0.9556 - accuracy: 0.5933 - val_loss: 0.9741 - val_accuracy: 0.5686\n",
            "\n",
            "Epoch 00041: saving model to satelitte_models/weights\\resnetmodel_weight1.h5\n",
            "Epoch 42/200\n",
            "5370/5370 [==============================] - 681s 127ms/step - loss: 0.9531 - accuracy: 0.5959 - val_loss: 0.9491 - val_accuracy: 0.6052\n",
            "\n",
            "Epoch 00042: saving model to satelitte_models/weights\\resnetmodel_weight1.h5\n",
            "Epoch 43/200\n",
            "5370/5370 [==============================] - 690s 129ms/step - loss: 0.9503 - accuracy: 0.5979 - val_loss: 0.9210 - val_accuracy: 0.6184\n",
            "\n",
            "Epoch 00043: saving model to satelitte_models/weights\\resnetmodel_weight1.h5\n",
            "Epoch 44/200\n",
            "5370/5370 [==============================] - 679s 126ms/step - loss: 0.9486 - accuracy: 0.5949 - val_loss: 0.9416 - val_accuracy: 0.6130\n",
            "\n",
            "Epoch 00044: saving model to satelitte_models/weights\\resnetmodel_weight1.h5\n",
            "Epoch 45/200\n",
            "5370/5370 [==============================] - 720s 134ms/step - loss: 0.9425 - accuracy: 0.6001 - val_loss: 0.9413 - val_accuracy: 0.6078\n",
            "\n",
            "Epoch 00045: saving model to satelitte_models/weights\\resnetmodel_weight1.h5\n",
            "Epoch 46/200\n",
            "5370/5370 [==============================] - 692s 129ms/step - loss: 0.9398 - accuracy: 0.6037 - val_loss: 0.9613 - val_accuracy: 0.5985\n",
            "\n",
            "Epoch 00046: saving model to satelitte_models/weights\\resnetmodel_weight1.h5\n",
            "Epoch 47/200\n",
            "5370/5370 [==============================] - 679s 126ms/step - loss: 0.9379 - accuracy: 0.6050 - val_loss: 0.9809 - val_accuracy: 0.5946\n",
            "\n",
            "Epoch 00047: saving model to satelitte_models/weights\\resnetmodel_weight1.h5\n",
            "Epoch 48/200\n",
            "5370/5370 [==============================] - 668s 124ms/step - loss: 0.9339 - accuracy: 0.6066 - val_loss: 1.0459 - val_accuracy: 0.5520\n",
            "\n",
            "Epoch 00048: saving model to satelitte_models/weights\\resnetmodel_weight1.h5\n",
            "Epoch 49/200\n",
            "5370/5370 [==============================] - 686s 128ms/step - loss: 0.9317 - accuracy: 0.6075 - val_loss: 0.9192 - val_accuracy: 0.6206\n",
            "\n",
            "Epoch 00049: saving model to satelitte_models/weights\\resnetmodel_weight1.h5\n",
            "Epoch 50/200\n",
            "5370/5370 [==============================] - 691s 129ms/step - loss: 0.9286 - accuracy: 0.6081 - val_loss: 1.0490 - val_accuracy: 0.5459\n",
            "\n",
            "Epoch 00050: saving model to satelitte_models/weights\\resnetmodel_weight1.h5\n",
            "Epoch 51/200\n",
            "5370/5370 [==============================] - 685s 128ms/step - loss: 0.9284 - accuracy: 0.6101 - val_loss: 1.0509 - val_accuracy: 0.5360\n",
            "\n",
            "Epoch 00051: saving model to satelitte_models/weights\\resnetmodel_weight1.h5\n",
            "Epoch 52/200\n",
            "5370/5370 [==============================] - 672s 125ms/step - loss: 0.9232 - accuracy: 0.6125 - val_loss: 0.9582 - val_accuracy: 0.5950\n",
            "\n",
            "Epoch 00052: saving model to satelitte_models/weights\\resnetmodel_weight1.h5\n",
            "Epoch 53/200\n",
            "5370/5370 [==============================] - 688s 128ms/step - loss: 0.9215 - accuracy: 0.6107 - val_loss: 0.9885 - val_accuracy: 0.5800\n",
            "\n",
            "Epoch 00053: saving model to satelitte_models/weights\\resnetmodel_weight1.h5\n",
            "Epoch 54/200\n",
            "5370/5370 [==============================] - 672s 125ms/step - loss: 0.9164 - accuracy: 0.6148 - val_loss: 1.0391 - val_accuracy: 0.5403\n",
            "\n",
            "Epoch 00054: saving model to satelitte_models/weights\\resnetmodel_weight1.h5\n",
            "Epoch 55/200\n",
            "5370/5370 [==============================] - 667s 124ms/step - loss: 0.9140 - accuracy: 0.6143 - val_loss: 1.0759 - val_accuracy: 0.5289\n",
            "\n",
            "Epoch 00055: saving model to satelitte_models/weights\\resnetmodel_weight1.h5\n",
            "Epoch 56/200\n",
            "5370/5370 [==============================] - 666s 124ms/step - loss: 0.9138 - accuracy: 0.6148 - val_loss: 0.9969 - val_accuracy: 0.5750\n",
            "\n",
            "Epoch 00056: saving model to satelitte_models/weights\\resnetmodel_weight1.h5\n",
            "Epoch 57/200\n",
            "5370/5370 [==============================] - 676s 126ms/step - loss: 0.9091 - accuracy: 0.6170 - val_loss: 1.0236 - val_accuracy: 0.5705\n",
            "\n",
            "Epoch 00057: saving model to satelitte_models/weights\\resnetmodel_weight1.h5\n",
            "Epoch 58/200\n",
            "5370/5370 [==============================] - 681s 127ms/step - loss: 0.9084 - accuracy: 0.6189 - val_loss: 0.9653 - val_accuracy: 0.5874\n",
            "\n",
            "Epoch 00058: saving model to satelitte_models/weights\\resnetmodel_weight1.h5\n",
            "Epoch 59/200\n",
            "5370/5370 [==============================] - 679s 127ms/step - loss: 0.9055 - accuracy: 0.6200 - val_loss: 1.0162 - val_accuracy: 0.5594\n",
            "Restoring model weights from the end of the best epoch.\n",
            "\n",
            "Epoch 00059: saving model to satelitte_models/weights\\resnetmodel_weight1.h5\n",
            "Epoch 00059: early stopping\n"
          ]
        }
      ],
      "source": [
        "\n",
        "# train the network\n",
        "print(\"[INFO] training network...\")\n",
        "H = model.fit(x = trainGen.generator(),\n",
        "              validation_data=valGen.generator(),\n",
        "              steps_per_epoch=trainGen.numImages // 8,\n",
        "              validation_steps=valGen.numImages // 8,\n",
        "              epochs=epochs, callbacks=[es, mcp, csv_log], verbose=1)"
      ]
    },
    {
      "cell_type": "code",
      "execution_count": null,
      "id": "75180cf8",
      "metadata": {
        "id": "75180cf8"
      },
      "outputs": [],
      "source": [
        "# saving model\n",
        "model.save('satelitte_models/resnet_model_satelitte1.h5')"
      ]
    },
    {
      "cell_type": "code",
      "execution_count": null,
      "id": "05e3844e",
      "metadata": {
        "id": "05e3844e",
        "outputId": "bf2a4d02-3309-481f-c09b-ef4cd41ee076"
      },
      "outputs": [
        {
          "data": {
            "text/plain": [
              "<matplotlib.legend.Legend at 0x1df3991b3d0>"
            ]
          },
          "execution_count": 40,
          "metadata": {},
          "output_type": "execute_result"
        },
        {
          "data": {
            "image/png": "[encoded data removed]",
            "text/plain": [
              "<Figure size 432x288 with 1 Axes>"
            ]
          },
          "metadata": {},
          "output_type": "display_data"
        }
      ],
      "source": [
        "# plot the training loss and accuracy\n",
        "plt.style.use(\"ggplot\")\n",
        "plt.figure()\n",
        "plt.plot(H.history[\"loss\"], label=\"train_loss\")\n",
        "plt.plot(H.history[\"val_loss\"], label=\"val_loss\")\n",
        "plt.plot(H.history[\"accuracy\"], label=\"train_acc\")\n",
        "plt.plot(H.history[\"val_accuracy\"], label=\"val_acc\")\n",
        "plt.title(\"Training Loss and Accuracy on Satelitte Images for Poverty Prediction\")\n",
        "plt.xlabel(\"Epoch #\")\n",
        "plt.ylabel(\"Loss/Accuracy\")\n",
        "plt.legend()"
      ]
    },
    {
      "cell_type": "code",
      "execution_count": null,
      "id": "37d624e6",
      "metadata": {
        "id": "37d624e6",
        "outputId": "b790583c-62ea-4c16-f5e3-62b199ff63d3"
      },
      "outputs": [
        {
          "data": {
            "text/plain": [
              "5616"
            ]
          },
          "execution_count": 41,
          "metadata": {},
          "output_type": "execute_result"
        }
      ],
      "source": [
        "testGen.numImages"
      ]
    },
    {
      "cell_type": "code",
      "execution_count": null,
      "id": "156e644e",
      "metadata": {
        "id": "156e644e"
      },
      "outputs": [],
      "source": [
        "num_pred = (testGen.numImages // 8) * 8\n",
        "num_pred"
      ]
    },
    {
      "cell_type": "code",
      "execution_count": null,
      "id": "f02e4a49",
      "metadata": {
        "id": "f02e4a49",
        "outputId": "9e05c027-c8de-4cf0-e272-4ff039879dc3"
      },
      "outputs": [
        {
          "name": "stdout",
          "output_type": "stream",
          "text": [
            "[INFO] evaluating network...\n",
            "                  precision    recall  f1-score   support\n",
            "\n",
            "    Mali_archive       0.64      0.65      0.64      1475\n",
            "ethiopia_archive       0.74      0.66      0.70      1717\n",
            "  malawi_archive       0.56      0.59      0.57      1270\n",
            " nigeria_archive       0.53      0.59      0.56      1154\n",
            "\n",
            "        accuracy                           0.62      5616\n",
            "       macro avg       0.62      0.62      0.62      5616\n",
            "    weighted avg       0.63      0.62      0.63      5616\n",
            "\n"
          ]
        }
      ],
      "source": [
        "# evaluate the network\n",
        "print(\"[INFO] evaluating network...\")\n",
        "num_pred = (testGen.numImages // 8) * 8\n",
        "predictions = model.predict(testGen.generator(passes=1),\n",
        "                                      steps=testGen.numImages // 8)\n",
        "y_pred = predictions.argmax(axis=-1)\n",
        "y_true = test_data['labels'][...].argmax(axis=-1)[:num_pred]\n",
        "print(classification_report(y_true, y_pred,\n",
        "                            target_names=classNames))\n",
        "#predictions = model.predict(testX, batch_size=32)\n",
        "#print(classification_report(testY.argmax(axis=1),\n",
        "                            #predictions.argmax(axis=1), target_names=classNames))"
      ]
    },
    {
      "cell_type": "code",
      "execution_count": null,
      "id": "6d338a02",
      "metadata": {
        "id": "6d338a02"
      },
      "outputs": [],
      "source": []
    },
    {
      "cell_type": "code",
      "execution_count": null,
      "id": "6b363360",
      "metadata": {
        "id": "6b363360"
      },
      "outputs": [],
      "source": []
    },
    {
      "cell_type": "code",
      "execution_count": null,
      "id": "58f67a85",
      "metadata": {
        "id": "58f67a85"
      },
      "outputs": [],
      "source": []
    },
    {
      "cell_type": "code",
      "execution_count": null,
      "id": "c09b3c6c",
      "metadata": {
        "id": "c09b3c6c"
      },
      "outputs": [],
      "source": [
        "import cv2\n",
        "import matplotlib.pyplot as plt"
      ]
    },
    {
      "cell_type": "code",
      "execution_count": null,
      "id": "c5552c14",
      "metadata": {
        "id": "c5552c14"
      },
      "outputs": [],
      "source": [
        "img = cv2.cvtColor(cv2.imread(imagePaths[0]), cv2.COLOR_BGR2RGB)"
      ]
    },
    {
      "cell_type": "code",
      "execution_count": null,
      "id": "fb963851",
      "metadata": {
        "id": "fb963851"
      },
      "outputs": [],
      "source": [
        "plt.imshow(img)"
      ]
    },
    {
      "cell_type": "code",
      "execution_count": null,
      "id": "f9bb39a5",
      "metadata": {
        "id": "f9bb39a5"
      },
      "outputs": [],
      "source": [
        "categories = []\n",
        "\n",
        "mali = 0\n",
        "etho = 0\n",
        "malawi = 0\n",
        "nig = 0\n",
        "for cat in imagePaths:\n",
        "  category = cat.split('\\\\')[-3]\n",
        "\n",
        "  if category == 'Mali_archive':\n",
        "    mali = mali+1\n",
        "  elif category == 'ethiopia_archive':\n",
        "    etho = etho+1\n",
        "  elif category == 'malawi_archive':\n",
        "    malawi = malawi+1\n",
        "  elif category == 'nigeria_archive':\n",
        "    nig = nig +1\n",
        "\n",
        "print('Mali image count {}'.format(mali))\n",
        "print('Etho image count {}'.format(etho))\n",
        "print('Malawi image count {}'.format(malawi))\n",
        "print('NIg image count {}'.format(nig))"
      ]
    },
    {
      "cell_type": "code",
      "execution_count": null,
      "id": "d29ee68f",
      "metadata": {
        "id": "d29ee68f"
      },
      "outputs": [],
      "source": [
        "imagePaths[:5]"
      ]
    },
    {
      "cell_type": "code",
      "execution_count": null,
      "id": "e9babe1c",
      "metadata": {
        "id": "e9babe1c"
      },
      "outputs": [],
      "source": [
        "imagePaths[80].split(os.path.sep)[1]"
      ]
    },
    {
      "cell_type": "code",
      "execution_count": null,
      "id": "a9f21d6a",
      "metadata": {
        "id": "a9f21d6a"
      },
      "outputs": [],
      "source": [
        "def load_data(imagePaths, verbose=1000):\n",
        "    # initialize the list of features and labels\n",
        "    data = []\n",
        "    labels = []\n",
        "    # loop over the input images\n",
        "    for (i, imagePath) in enumerate(imagePaths):\n",
        "        # load the image and extract the class label assuming\n",
        "        # that our path has the following format:\n",
        "        # /path/to/dataset/{class}/{image}.jpg\n",
        "        image = cv2.imread(imagePath)\n",
        "        image = image.astype('float')/255.0\n",
        "        label = imagePath.split(os.path.sep)[1]\n",
        "        # treat our processed image as a \"feature vector\"\n",
        "        # by updating the data list followed by the labels\n",
        "        data.append(image)\n",
        "        labels.append(label)\n",
        "\n",
        "      # show an update every `verbose` images\n",
        "        if (i + 1) % verbose == 0:\n",
        "            print(\"[INFO] processed {}/{}\".format(i + 1,\n",
        "                                          len(imagePaths)))\n",
        "\n",
        "    # return a tuple of the data and labels\n",
        "    return (np.array(data), np.array(labels))\n"
      ]
    },
    {
      "cell_type": "code",
      "execution_count": null,
      "id": "3f3058d1",
      "metadata": {
        "id": "3f3058d1",
        "scrolled": true
      },
      "outputs": [],
      "source": [
        "(data, labels) = load_data(imagePaths[:32], verbose=25000)"
      ]
    },
    {
      "cell_type": "code",
      "execution_count": null,
      "id": "d76430f8",
      "metadata": {
        "id": "d76430f8"
      },
      "outputs": [],
      "source": [
        "np.unique(labels)"
      ]
    },
    {
      "cell_type": "code",
      "execution_count": null,
      "id": "dcb5397a",
      "metadata": {
        "id": "dcb5397a"
      },
      "outputs": [],
      "source": [
        "data.shape"
      ]
    },
    {
      "cell_type": "code",
      "execution_count": null,
      "id": "a1fc9555",
      "metadata": {
        "id": "a1fc9555"
      },
      "outputs": [],
      "source": [
        "data.dtype"
      ]
    },
    {
      "cell_type": "code",
      "execution_count": null,
      "id": "f88fd020",
      "metadata": {
        "id": "f88fd020"
      },
      "outputs": [],
      "source": [
        "data[0:8,:,:,:] = data[0:8,:,:,:].astype('float')"
      ]
    },
    {
      "cell_type": "code",
      "execution_count": null,
      "id": "53e63815",
      "metadata": {
        "id": "53e63815"
      },
      "outputs": [],
      "source": [
        "data[0] = data[0].astype('float')"
      ]
    },
    {
      "cell_type": "code",
      "execution_count": null,
      "id": "8cf68fbb",
      "metadata": {
        "id": "8cf68fbb"
      },
      "outputs": [],
      "source": [
        "data =data/255.0"
      ]
    },
    {
      "cell_type": "code",
      "execution_count": null,
      "id": "2ebacb34",
      "metadata": {
        "id": "2ebacb34"
      },
      "outputs": [],
      "source": [
        "data.dtype"
      ]
    },
    {
      "cell_type": "code",
      "execution_count": null,
      "id": "f2055ce6",
      "metadata": {
        "id": "f2055ce6"
      },
      "outputs": [],
      "source": [
        "bs = 8\n",
        "\n",
        "for i in range(0, data.shape[0], bs):\n",
        "  data[i:i+bs,:,:,:] = data[i:i+bs,:,:,:]/255.0"
      ]
    },
    {
      "cell_type": "code",
      "execution_count": null,
      "id": "7156549f",
      "metadata": {
        "id": "7156549f"
      },
      "outputs": [],
      "source": [
        "data"
      ]
    },
    {
      "cell_type": "code",
      "execution_count": null,
      "id": "93898ac1",
      "metadata": {
        "id": "93898ac1"
      },
      "outputs": [],
      "source": []
    },
    {
      "cell_type": "code",
      "execution_count": null,
      "id": "ecb6292c",
      "metadata": {
        "id": "ecb6292c"
      },
      "outputs": [],
      "source": []
    },
    {
      "cell_type": "code",
      "execution_count": null,
      "id": "56f4d109",
      "metadata": {
        "id": "56f4d109"
      },
      "outputs": [],
      "source": []
    },
    {
      "cell_type": "code",
      "execution_count": null,
      "id": "4e5ff8ff",
      "metadata": {
        "id": "4e5ff8ff"
      },
      "outputs": [],
      "source": []
    }
  ],
  "metadata": {
    "kernelspec": {
      "display_name": "workspace",
      "language": "python",
      "name": "workspace"
    },
    "language_info": {
      "codemirror_mode": {
        "name": "ipython",
        "version": 3
      },
      "file_extension": ".py",
      "mimetype": "text/x-python",
      "name": "python",
      "nbconvert_exporter": "python",
      "pygments_lexer": "ipython3",
      "version": "3.8.11"
    },
    "colab": {
      "provenance": [],
      "include_colab_link": true
    }
  },
  "nbformat": 4,
  "nbformat_minor": 5
}