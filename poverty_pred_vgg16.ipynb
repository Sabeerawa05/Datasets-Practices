{
  "cells": [
    {
      "cell_type": "markdown",
      "metadata": {
        "id": "view-in-github",
        "colab_type": "text"
      },
      "source": [
        "<a href=\"https://colab.research.google.com/github/Sabeerawa05/Datasets-Practices/blob/main/poverty_pred_vgg16.ipynb\" target=\"_parent\"><img src=\"https://colab.research.google.com/assets/colab-badge.svg\" alt=\"Open In Colab\"/></a>"
      ]
    },
    {
      "cell_type": "code",
      "execution_count": null,
      "id": "3044806a",
      "metadata": {
        "id": "3044806a"
      },
      "outputs": [],
      "source": [
        "import numpy as np\n",
        "import cv2\n",
        "import os\n",
        "from imutils import paths\n",
        "import random\n",
        "import h5py\n",
        "from sklearn.preprocessing import LabelEncoder\n",
        "from sklearn.model_selection import train_test_split\n",
        "from sklearn.metrics import classification_report\n",
        "from keras.utils import to_categorical\n",
        "import progressbar\n",
        "import matplotlib.pyplot as plt"
      ]
    },
    {
      "cell_type": "code",
      "execution_count": null,
      "id": "046ed08c",
      "metadata": {
        "id": "046ed08c"
      },
      "outputs": [],
      "source": [
        "import tensorflow as tf\n",
        "\n",
        "config = tf.compat.v1.ConfigProto()\n",
        "config.gpu_options.allow_growth = True"
      ]
    },
    {
      "cell_type": "code",
      "execution_count": null,
      "id": "370539fc",
      "metadata": {
        "id": "370539fc"
      },
      "outputs": [],
      "source": [
        "class HDF5DatasetWriter:\n",
        "    def __init__(self, dims, outputPath, dataKey=\"images\",bufSize=1000):\n",
        "        # check to see if the output path exists, and if so, raise\n",
        "        # an exception\n",
        "        if os.path.exists(outputPath):\n",
        "            raise ValueError(\"The supplied ‘outputPath‘ already \"\n",
        "                             \"exists and cannot be overwritten. Manually delete \"\n",
        "                             \"the file before continuing.\", outputPath)\n",
        "\n",
        "        # open the HDF5 database for writing and create two datasets:\n",
        "        # one to store the images/features and another to store the\n",
        "        # class labels\n",
        "        self.db = h5py.File(outputPath, \"w\")\n",
        "        self.data = self.db.create_dataset(dataKey, dims,\n",
        "                                           dtype=\"float\")\n",
        "        self.labels = self.db.create_dataset(\"labels\", (dims[0], 4),\n",
        "                                             dtype=\"float\")\n",
        "\n",
        "        # store the buffer size, then initialize the buffer itself\n",
        "        # along with the index into the datasets\n",
        "        self.bufSize = bufSize\n",
        "        self.buffer = {\"data\": [], \"labels\": []}\n",
        "        self.idx = 0\n",
        "\n",
        "    def add(self, rows, labels):\n",
        "        # add the rows and labels to the buffer\n",
        "        self.buffer[\"data\"].extend(rows)\n",
        "        self.buffer[\"labels\"].extend(labels)\n",
        "\n",
        "        # check to see if the buffer needs to be flushed to disk\n",
        "        if len(self.buffer[\"data\"]) >= self.bufSize:\n",
        "            self.flush()\n",
        "\n",
        "    def flush(self):\n",
        "        # write the buffers to disk then reset the buffer\n",
        "        i = self.idx + len(self.buffer[\"data\"])\n",
        "        self.data[self.idx:i] = self.buffer[\"data\"]\n",
        "        self.labels[self.idx:i] = self.buffer[\"labels\"]\n",
        "        self.idx = i\n",
        "        self.buffer = {\"data\": [], \"labels\": []}\n",
        "\n",
        "    def storeClassLabels(self, classLabels):\n",
        "        # create a dataset to store the actual class label names,\n",
        "        # then store the class labels\n",
        "        dt = h5py.special_dtype(vlen=str)\n",
        "        labelSet = self.db.create_dataset(\"label_names\",\n",
        "                                          (len(classLabels),), dtype=dt)\n",
        "        labelSet[:] = classLabels\n",
        "\n",
        "    def close(self):\n",
        "        # check to see if there are any other entries in the buffer\n",
        "        # that need to be flushed to disk\n",
        "        if len(self.buffer[\"data\"]) > 0:\n",
        "            self.flush()\n",
        "\n",
        "        # close the dataset\n",
        "        self.db.close()"
      ]
    },
    {
      "cell_type": "code",
      "execution_count": null,
      "id": "6de14a02",
      "metadata": {
        "id": "6de14a02"
      },
      "outputs": [],
      "source": [
        "#data_path = '/content/drive/MyDrive/archive'"
      ]
    },
    {
      "cell_type": "code",
      "execution_count": null,
      "id": "fc2890ab",
      "metadata": {
        "id": "fc2890ab"
      },
      "outputs": [],
      "source": [
        "data_path = 'satelitte_images'\n",
        "train_hdf5 = 'satelitte_images/hdf5/train.hdf5'\n",
        "val_hdf5 =  'satelitte_images/hdf5/val.hdf5'\n",
        "test_hdf5 =  'satelitte_images/hdf5/test.hdf5'"
      ]
    },
    {
      "cell_type": "code",
      "execution_count": null,
      "id": "b601a40a",
      "metadata": {
        "id": "b601a40a"
      },
      "outputs": [],
      "source": [
        "imagePaths = list(paths.list_images(data_path))"
      ]
    },
    {
      "cell_type": "code",
      "execution_count": null,
      "id": "b0077496",
      "metadata": {
        "colab": {
          "base_uri": "https://localhost:8080/"
        },
        "id": "b0077496",
        "outputId": "c46708c7-11ac-4f08-b973-08996fdbca29"
      },
      "outputs": [
        {
          "data": {
            "text/plain": [
              "['satelitte_images\\\\ethiopia_archive\\\\images\\\\10.001614493498009_38.21928274979602_10.0165864149_38.2492265926.png',\n",
              " 'satelitte_images\\\\ethiopia_archive\\\\images\\\\10.006878190821991_37.647636949694025_9.99190626942_37.6925527139.png',\n",
              " 'satelitte_images\\\\ethiopia_archive\\\\images\\\\10.009539116998008_39.16824952909403_10.0245110384_39.2131652933.png',\n",
              " 'satelitte_images\\\\ethiopia_archive\\\\images\\\\10.009539116998008_39.18322145049602_10.0245110384_39.2131652933.png',\n",
              " 'satelitte_images\\\\ethiopia_archive\\\\images\\\\10.009539116998008_39.2131652933_10.0245110384_39.2131652933.png']"
            ]
          },
          "execution_count": 7,
          "metadata": {},
          "output_type": "execute_result"
        }
      ],
      "source": [
        "imagePaths[:5]"
      ]
    },
    {
      "cell_type": "code",
      "execution_count": null,
      "id": "2d14c818",
      "metadata": {
        "colab": {
          "base_uri": "https://localhost:8080/"
        },
        "id": "2d14c818",
        "outputId": "c62e1aa7-43eb-4594-87e2-bec24c6b07ba"
      },
      "outputs": [
        {
          "data": {
            "text/plain": [
              "56160"
            ]
          },
          "execution_count": 8,
          "metadata": {},
          "output_type": "execute_result"
        }
      ],
      "source": [
        "len(imagePaths)"
      ]
    },
    {
      "cell_type": "code",
      "execution_count": null,
      "id": "fe502f06",
      "metadata": {
        "id": "fe502f06"
      },
      "outputs": [],
      "source": [
        "random.seed(42)\n",
        "random.shuffle(imagePaths)"
      ]
    },
    {
      "cell_type": "code",
      "execution_count": null,
      "id": "e022c1ab",
      "metadata": {
        "id": "e022c1ab",
        "outputId": "330f6d9c-024a-46f0-b131-7893a1b76fb2"
      },
      "outputs": [
        {
          "data": {
            "text/plain": [
              "['satelitte_images\\\\ethiopia_archive\\\\images\\\\8.103335065686016_38.193701130798004_8.13327890849_38.2086730522.png',\n",
              " 'satelitte_images\\\\malawi_archive\\\\images\\\\-10.739254078598007_33.55225392140199_-10.754226_33.537282.png',\n",
              " 'satelitte_images\\\\malawi_archive\\\\images\\\\-15.781865235794024_35.142495764205975_-15.826781_35.09758.png',\n",
              " 'satelitte_images\\\\malawi_archive\\\\images\\\\-15.735151842803985_35.136095078598004_-15.705208_35.151067.png',\n",
              " 'satelitte_images\\\\ethiopia_archive\\\\images\\\\ethiopia_Images\\\\8.563866629893985_39.223355202794025_8.53392278709_39.268270967.png']"
            ]
          },
          "execution_count": 10,
          "metadata": {},
          "output_type": "execute_result"
        }
      ],
      "source": [
        "imagePaths[:5]"
      ]
    },
    {
      "cell_type": "code",
      "execution_count": null,
      "id": "3f4fc826",
      "metadata": {
        "id": "3f4fc826"
      },
      "outputs": [],
      "source": [
        "imageLabels = [p.split(os.path.sep)[1] for p in imagePaths]"
      ]
    },
    {
      "cell_type": "code",
      "execution_count": null,
      "id": "3d8dc7b4",
      "metadata": {
        "id": "3d8dc7b4",
        "outputId": "4be81d9a-67f6-4502-e491-b0c714b4fc40"
      },
      "outputs": [
        {
          "data": {
            "text/plain": [
              "56160"
            ]
          },
          "execution_count": 12,
          "metadata": {},
          "output_type": "execute_result"
        }
      ],
      "source": [
        "len(imageLabels)"
      ]
    },
    {
      "cell_type": "code",
      "execution_count": null,
      "id": "2e4bce27",
      "metadata": {
        "id": "2e4bce27"
      },
      "outputs": [],
      "source": [
        "le = LabelEncoder()\n",
        "imageLabels = le.fit_transform(imageLabels)"
      ]
    },
    {
      "cell_type": "code",
      "execution_count": null,
      "id": "87383ad2",
      "metadata": {
        "id": "87383ad2"
      },
      "outputs": [],
      "source": [
        "classNames = [pt.split(os.path.sep)[1] for pt in imagePaths]\n",
        "classNames = [str(x) for x in np.unique(classNames)]"
      ]
    },
    {
      "cell_type": "code",
      "execution_count": null,
      "id": "8d0accc1",
      "metadata": {
        "id": "8d0accc1",
        "outputId": "08546cf0-5a3b-4b9d-9fcf-c87820043527"
      },
      "outputs": [
        {
          "data": {
            "text/plain": [
              "['Mali_archive', 'ethiopia_archive', 'malawi_archive', 'nigeria_archive']"
            ]
          },
          "execution_count": 15,
          "metadata": {},
          "output_type": "execute_result"
        }
      ],
      "source": [
        "classNames"
      ]
    },
    {
      "cell_type": "code",
      "execution_count": null,
      "id": "f4826f9f",
      "metadata": {
        "id": "f4826f9f",
        "outputId": "b736e157-766b-42af-daa2-f2d81a685d8e"
      },
      "outputs": [
        {
          "data": {
            "text/plain": [
              "array([0, 1, 2, 3], dtype=int64)"
            ]
          },
          "execution_count": 16,
          "metadata": {},
          "output_type": "execute_result"
        }
      ],
      "source": [
        "np.unique(imageLabels)"
      ]
    },
    {
      "cell_type": "code",
      "execution_count": null,
      "id": "e2aa3ac1",
      "metadata": {
        "id": "e2aa3ac1"
      },
      "outputs": [],
      "source": [
        "imageLabels = to_categorical(imageLabels, len(classNames))"
      ]
    },
    {
      "cell_type": "code",
      "execution_count": null,
      "id": "03de0e92",
      "metadata": {
        "id": "03de0e92",
        "outputId": "d76a54e3-4bcb-4131-db28-63d3618e8ec2"
      },
      "outputs": [
        {
          "data": {
            "text/plain": [
              "array([[0., 1., 0., 0.],\n",
              "       [0., 0., 1., 0.],\n",
              "       [0., 0., 1., 0.],\n",
              "       ...,\n",
              "       [0., 1., 0., 0.],\n",
              "       [0., 1., 0., 0.],\n",
              "       [1., 0., 0., 0.]], dtype=float32)"
            ]
          },
          "execution_count": 18,
          "metadata": {},
          "output_type": "execute_result"
        }
      ],
      "source": [
        "imageLabels"
      ]
    },
    {
      "cell_type": "code",
      "execution_count": null,
      "id": "e7ead9cd",
      "metadata": {
        "id": "e7ead9cd"
      },
      "outputs": [],
      "source": [
        "# perform stratified sampling from the training set to build the\n",
        " # testing split from the training data\n",
        "split = train_test_split(imagePaths, imageLabels,\n",
        "                         test_size=0.10, stratify=imageLabels,  random_state=42)\n",
        "\n",
        "(trainPaths, testPaths, trainLabels, testLabels) = split\n",
        "\n",
        "# perform another stratified sampling, this time to build the\n",
        "# validation data\n",
        "split = train_test_split(trainPaths, trainLabels,\n",
        "                         test_size=0.15, stratify=trainLabels,random_state=42)\n",
        "\n",
        "(trainPaths, valPaths, trainLabels, valLabels) = split"
      ]
    },
    {
      "cell_type": "code",
      "execution_count": null,
      "id": "22397521",
      "metadata": {
        "id": "22397521"
      },
      "outputs": [],
      "source": [
        "# construct a list pairing the training, validation, and testing\n",
        "# image paths along with their corresponding labels and output HDF5\n",
        "# files\n",
        "datasets = [(\"train\", trainPaths, trainLabels, train_hdf5),\n",
        "            (\"val\", valPaths, valLabels, val_hdf5),\n",
        "            (\"test\", testPaths, testLabels, test_hdf5)]"
      ]
    },
    {
      "cell_type": "code",
      "execution_count": null,
      "id": "4327936c",
      "metadata": {
        "id": "4327936c",
        "outputId": "99673aa6-8e15-407e-d899-cc4d65f0b0a8"
      },
      "outputs": [
        {
          "name": "stderr",
          "output_type": "stream",
          "text": [
            "Building Dataset:   0% |                                       | ETA:  --:--:--\r"
          ]
        },
        {
          "name": "stdout",
          "output_type": "stream",
          "text": [
            "[INFO] building satelitte_images/hdf5/train_224.hdf5...\n"
          ]
        },
        {
          "name": "stderr",
          "output_type": "stream",
          "text": [
            "Building Dataset: 100% |########################################| Time: 0:27:25\n",
            "Building Dataset:   0% |                                       | ETA:  --:--:--\r"
          ]
        },
        {
          "name": "stdout",
          "output_type": "stream",
          "text": [
            "[INFO] building satelitte_images/hdf5/val_224.hdf5...\n"
          ]
        },
        {
          "name": "stderr",
          "output_type": "stream",
          "text": [
            "Building Dataset: 100% |########################################| Time: 0:04:13\n",
            "Building Dataset:   0% |                                       | ETA:  --:--:--\r"
          ]
        },
        {
          "name": "stdout",
          "output_type": "stream",
          "text": [
            "[INFO] building satelitte_images/hdf5/test_224.hdf5...\n"
          ]
        },
        {
          "name": "stderr",
          "output_type": "stream",
          "text": [
            "Building Dataset: 100% |########################################| Time: 0:03:02\n"
          ]
        }
      ],
      "source": [
        "# loop over the dataset tuples\n",
        "for (dType, paths, labels, outputPath) in datasets:\n",
        "    # create HDF5 writer\n",
        "    print(\"[INFO] building {}...\".format(outputPath))\n",
        "    writer = HDF5DatasetWriter((len(paths), 224, 224, 3), outputPath)\n",
        "\n",
        "    # initialize the progress bar\n",
        "    widgets = [\"Building Dataset: \", progressbar.Percentage(), \" \",\n",
        "               progressbar.Bar(), \" \", progressbar.ETA()]\n",
        "    pbar = progressbar.ProgressBar(maxval=len(paths),\n",
        "                                   widgets=widgets).start()\n",
        "\n",
        "    # loop over the image paths\n",
        "    for (i, (path, label)) in enumerate(zip(paths, labels)):\n",
        "        # load the image and process it\n",
        "        image = cv2.imread(path)\n",
        "        #image = cv2.resize(image, (256, 256),\n",
        "                         interpolation=cv2.INTER_AREA)\n",
        "\n",
        "        image = image.astype('float')/255.0\n",
        "\n",
        "        # add the image and label # to the HDF5 dataset\n",
        "        writer.add([image], [label])\n",
        "        pbar.update(i)\n",
        "\n",
        "    # close the HDF5 writer\n",
        "    pbar.finish()\n",
        "    writer.close()\n",
        ""
      ]
    },
    {
      "cell_type": "code",
      "execution_count": null,
      "id": "3c8ec825",
      "metadata": {
        "id": "3c8ec825"
      },
      "outputs": [],
      "source": [
        "def read_hdf5(dir):\n",
        "    db = h5py.File(dir, mode='r')\n",
        "\n",
        "    return db"
      ]
    },
    {
      "cell_type": "code",
      "execution_count": null,
      "id": "ad6db996",
      "metadata": {
        "id": "ad6db996"
      },
      "outputs": [],
      "source": [
        "train_data = read_hdf5(train_hdf5)"
      ]
    },
    {
      "cell_type": "code",
      "execution_count": null,
      "id": "2b3b8259",
      "metadata": {
        "id": "2b3b8259",
        "outputId": "b916a296-46ba-4d60-b01c-349de8e2ef3b"
      },
      "outputs": [
        {
          "data": {
            "text/plain": [
              "['images', 'labels']"
            ]
          },
          "execution_count": 30,
          "metadata": {},
          "output_type": "execute_result"
        }
      ],
      "source": [
        "list(train_data.keys())"
      ]
    },
    {
      "cell_type": "code",
      "execution_count": null,
      "id": "11fa74e9",
      "metadata": {
        "id": "11fa74e9",
        "outputId": "ea87c051-61dc-463c-d54f-c947f6ec28a3"
      },
      "outputs": [
        {
          "data": {
            "text/plain": [
              "(42962, 224, 224, 3)"
            ]
          },
          "execution_count": 31,
          "metadata": {},
          "output_type": "execute_result"
        }
      ],
      "source": [
        "train_data['images'].shape"
      ]
    },
    {
      "cell_type": "code",
      "execution_count": null,
      "id": "e658c013",
      "metadata": {
        "id": "e658c013",
        "outputId": "5451ab42-5a49-4a18-b88b-0541ca7e493f"
      },
      "outputs": [
        {
          "data": {
            "text/plain": [
              "(42962, 4)"
            ]
          },
          "execution_count": 24,
          "metadata": {},
          "output_type": "execute_result"
        }
      ],
      "source": [
        "train_data['labels'].shape"
      ]
    },
    {
      "cell_type": "code",
      "execution_count": null,
      "id": "8554ec62",
      "metadata": {
        "id": "8554ec62"
      },
      "outputs": [],
      "source": [
        "val_data = read_hdf5(val_hdf5)"
      ]
    },
    {
      "cell_type": "code",
      "execution_count": null,
      "id": "a0f3fc08",
      "metadata": {
        "id": "a0f3fc08"
      },
      "outputs": [],
      "source": [
        "test_data = read_hdf5(test_hdf5)"
      ]
    },
    {
      "cell_type": "code",
      "execution_count": null,
      "id": "54f7eba9",
      "metadata": {
        "id": "54f7eba9",
        "outputId": "665e7fe1-e2a9-4848-bcec-ab75b0705342"
      },
      "outputs": [
        {
          "data": {
            "text/plain": [
              "(32, 256, 256, 3)"
            ]
          },
          "execution_count": 27,
          "metadata": {},
          "output_type": "execute_result"
        }
      ],
      "source": [
        "train_data['images'][0:32].shape\n"
      ]
    },
    {
      "cell_type": "code",
      "execution_count": null,
      "id": "78f722c0",
      "metadata": {
        "id": "78f722c0"
      },
      "outputs": [],
      "source": [
        "class HDF5DatasetGenerator:\n",
        "\n",
        "    def __init__(self, dbPath, batchSize):\n",
        "\n",
        "        # store the batch size, preprocessors, and data augmentor,\n",
        "        # whether or not the labels should be binarized, along with\n",
        "        # the total number of classes\n",
        "        self.batchSize = batchSize\n",
        "\n",
        "\n",
        "        # open the HDF5 database for reading and determine the total\n",
        "        # number of entries in the database\n",
        "        self.db = h5py.File(dbPath, mode='r')\n",
        "        self.numImages = self.db[\"labels\"].shape[0]\n",
        "\n",
        "\n",
        "    def generator(self, passes=np.inf):\n",
        "        # initialize the epoch count\n",
        "        epochs = 0\n",
        "\n",
        "        # keep looping infinitely -- the model will stop once we have\n",
        "        # reach the desired number of epochs\n",
        "        while epochs < passes:\n",
        "            # loop over the HDF5 dataset\n",
        "            for i in np.arange(0, self.numImages, self.batchSize):\n",
        "                # extract the images and labels from the HDF dataset\n",
        "                images = self.db[\"images\"][i: i + self.batchSize]\n",
        "                labels = self.db[\"labels\"][i: i + self.batchSize]\n",
        "\n",
        "                # yield a tuple of images and labels\n",
        "                yield (images, labels)\n",
        "\n",
        "    def close(self):\n",
        "        # close the database\n",
        "        self.db.close()"
      ]
    },
    {
      "cell_type": "code",
      "execution_count": null,
      "id": "fefde0df",
      "metadata": {
        "id": "fefde0df"
      },
      "outputs": [],
      "source": [
        "# initialize the training and validation dataset generators\n",
        "trainGen = HDF5DatasetGenerator(train_hdf5, 8)\n",
        "valGen = HDF5DatasetGenerator(val_hdf5, 8)\n",
        "testGen = HDF5DatasetGenerator(test_hdf5, 8)"
      ]
    },
    {
      "cell_type": "code",
      "execution_count": null,
      "id": "c26b480a",
      "metadata": {
        "id": "c26b480a"
      },
      "outputs": [],
      "source": []
    },
    {
      "cell_type": "markdown",
      "id": "df896e77",
      "metadata": {
        "id": "df896e77"
      },
      "source": [
        "## VGG16 Model"
      ]
    },
    {
      "cell_type": "code",
      "execution_count": null,
      "id": "7698951f",
      "metadata": {
        "id": "7698951f"
      },
      "outputs": [],
      "source": [
        "from keras.layers import Input\n",
        "from keras.models import Model\n",
        "from keras.applications import VGG16\n",
        "from keras.optimizers import RMSprop\n",
        "from keras.optimizers import SGD\n",
        "from keras.optimizers import Adam\n",
        "from keras.models import load_model\n",
        "from keras.layers.core import Dropout\n",
        "from keras.layers.core import Flatten\n",
        "from tensorflow.keras.callbacks import EarlyStopping\n",
        "from keras.layers.core import Dense\n",
        "from tensorflow.keras.callbacks import ModelCheckpoint\n",
        "from tensorflow.keras.callbacks import CSVLogger\n",
        "from tensorflow.keras.layers import AveragePooling2D\n",
        "from keras.models import load_model"
      ]
    },
    {
      "cell_type": "code",
      "execution_count": null,
      "id": "18b3daa0",
      "metadata": {
        "id": "18b3daa0"
      },
      "outputs": [],
      "source": [
        "# load VGG16, ensuring the head FC layer sets are left off, while at\n",
        "# the same time adjusting the size of the input image tensor to the\n",
        "# network\n",
        "# load the VGG16 network, ensuring the head FC layer sets are left\n",
        "# off\n",
        "baseModel = VGG16(weights=\"imagenet\", include_top=False,\n",
        "                  input_tensor=Input(shape=(256, 256, 3)))\n",
        "#print(baseModel.summary())"
      ]
    },
    {
      "cell_type": "code",
      "execution_count": null,
      "id": "0980ee65",
      "metadata": {
        "id": "0980ee65"
      },
      "outputs": [],
      "source": [
        "# construct the head of the model that will be placed on top of the\n",
        "# the base model\n",
        "headModel = baseModel.output\n",
        "headModel = AveragePooling2D(pool_size=(4, 4))(headModel)\n",
        "headModel = Flatten(name=\"flatten\")(headModel)\n",
        "headModel = Dense(4096, activation=\"relu\")(headModel)\n",
        "headModel = Dropout(0.5)(headModel)\n",
        "headModel = Dense(len(classNames), activation=\"softmax\")(headModel)\n",
        "# place the head FC model on top of the base model (this will become\n",
        "# the actual model we will train)\n",
        "VGGModel = Model(inputs=baseModel.input, outputs=headModel)\n"
      ]
    },
    {
      "cell_type": "code",
      "execution_count": null,
      "id": "a7789b5c",
      "metadata": {
        "id": "a7789b5c"
      },
      "outputs": [],
      "source": [
        "# loop over all layers in the base model and freeze them so they will\n",
        "# *not* be updated during the first training process\n",
        "for layer in baseModel.layers:\n",
        "    layer.trainable = False"
      ]
    },
    {
      "cell_type": "code",
      "execution_count": null,
      "id": "40687532",
      "metadata": {
        "id": "40687532"
      },
      "outputs": [],
      "source": [
        "#VGGModel.summary()"
      ]
    },
    {
      "cell_type": "code",
      "execution_count": null,
      "id": "1d3888f0",
      "metadata": {
        "id": "1d3888f0",
        "outputId": "62f77c14-757d-4341-e52e-516056ac8f7b"
      },
      "outputs": [
        {
          "name": "stdout",
          "output_type": "stream",
          "text": [
            "[INFO] compiling model...\n"
          ]
        }
      ],
      "source": [
        "# compile our model (this needs to be done after our setting our\n",
        "# layers to being non-trainable\n",
        "print(\"[INFO] compiling model...\")\n",
        "\n",
        "# compile the model\n",
        "epochs = 200\n",
        "lr = 1e-4\n",
        "opt = Adam(lr=lr, decay=lr / epochs)\n",
        "VGGModel.compile(loss=\"categorical_crossentropy\", optimizer=opt,\n",
        "              metrics=[\"accuracy\"])\n"
      ]
    },
    {
      "cell_type": "code",
      "execution_count": null,
      "id": "3c863c7f",
      "metadata": {
        "id": "3c863c7f"
      },
      "outputs": [],
      "source": [
        "mcp = ModelCheckpoint(filepath='satelitte_models/weights/vggmodel_weight.h5', save_weights_only=True,\n",
        "                     monitor=\"val_loss\",  verbose=1)"
      ]
    },
    {
      "cell_type": "code",
      "execution_count": null,
      "id": "625b3b3f",
      "metadata": {
        "id": "625b3b3f"
      },
      "outputs": [],
      "source": [
        "es = EarlyStopping(monitor='val_loss', mode='min', verbose=1, patience=10, restore_best_weights=True)"
      ]
    },
    {
      "cell_type": "code",
      "execution_count": null,
      "id": "0cba99f3",
      "metadata": {
        "id": "0cba99f3"
      },
      "outputs": [],
      "source": [
        "csv_log = CSVLogger('satelitte_models/train_log/vgg_training.csv', separator=',',append=True)"
      ]
    },
    {
      "cell_type": "code",
      "execution_count": null,
      "id": "d095819b",
      "metadata": {
        "scrolled": true,
        "id": "d095819b",
        "outputId": "18028651-1bf1-4cdd-cc4e-11dbcaa08eb0"
      },
      "outputs": [
        {
          "data": {
            "text/plain": [
              "42962"
            ]
          },
          "execution_count": 34,
          "metadata": {},
          "output_type": "execute_result"
        }
      ],
      "source": [
        "trainGen.numImages"
      ]
    },
    {
      "cell_type": "code",
      "execution_count": null,
      "id": "26189e2d",
      "metadata": {
        "id": "26189e2d",
        "outputId": "a65ea3ab-4d40-4f8f-eedb-86ca57d26e48"
      },
      "outputs": [
        {
          "name": "stdout",
          "output_type": "stream",
          "text": [
            "[INFO] training head...\n",
            "Epoch 1/200\n",
            "5370/5370 [==============================] - 727s 135ms/step - loss: 0.9666 - accuracy: 0.6032 - val_loss: 0.8848 - val_accuracy: 0.6465\n",
            "\n",
            "Epoch 00001: saving model to satelitte_models/weights\\vggmodel_weight.h5\n",
            "Epoch 2/200\n",
            "5370/5370 [==============================] - 725s 135ms/step - loss: 0.8933 - accuracy: 0.6372 - val_loss: 0.8410 - val_accuracy: 0.6641\n",
            "\n",
            "Epoch 00002: saving model to satelitte_models/weights\\vggmodel_weight.h5\n",
            "Epoch 3/200\n",
            "5370/5370 [==============================] - 721s 134ms/step - loss: 0.8423 - accuracy: 0.6626 - val_loss: 0.7965 - val_accuracy: 0.6899\n",
            "\n",
            "Epoch 00003: saving model to satelitte_models/weights\\vggmodel_weight.h5\n",
            "Epoch 4/200\n",
            "5370/5370 [==============================] - 747s 139ms/step - loss: 0.8042 - accuracy: 0.6810 - val_loss: 0.7881 - val_accuracy: 0.6827\n",
            "\n",
            "Epoch 00004: saving model to satelitte_models/weights\\vggmodel_weight.h5\n",
            "Epoch 5/200\n",
            "5370/5370 [==============================] - 736s 137ms/step - loss: 0.7773 - accuracy: 0.6914 - val_loss: 0.7726 - val_accuracy: 0.6919\n",
            "\n",
            "Epoch 00005: saving model to satelitte_models/weights\\vggmodel_weight.h5\n",
            "Epoch 6/200\n",
            "5370/5370 [==============================] - 730s 136ms/step - loss: 0.7439 - accuracy: 0.7078 - val_loss: 0.7389 - val_accuracy: 0.7095\n",
            "\n",
            "Epoch 00006: saving model to satelitte_models/weights\\vggmodel_weight.h5\n",
            "Epoch 7/200\n",
            "5370/5370 [==============================] - 719s 134ms/step - loss: 0.7210 - accuracy: 0.7180 - val_loss: 0.7278 - val_accuracy: 0.7126\n",
            "\n",
            "Epoch 00007: saving model to satelitte_models/weights\\vggmodel_weight.h5\n",
            "Epoch 8/200\n",
            "5370/5370 [==============================] - 733s 137ms/step - loss: 0.7008 - accuracy: 0.7275 - val_loss: 0.7365 - val_accuracy: 0.7092\n",
            "\n",
            "Epoch 00008: saving model to satelitte_models/weights\\vggmodel_weight.h5\n",
            "Epoch 9/200\n",
            "5370/5370 [==============================] - 765s 142ms/step - loss: 0.6830 - accuracy: 0.7325 - val_loss: 0.6942 - val_accuracy: 0.7290\n",
            "\n",
            "Epoch 00009: saving model to satelitte_models/weights\\vggmodel_weight.h5\n",
            "Epoch 10/200\n",
            "5370/5370 [==============================] - 759s 141ms/step - loss: 0.6657 - accuracy: 0.7388 - val_loss: 0.6619 - val_accuracy: 0.7404\n",
            "\n",
            "Epoch 00010: saving model to satelitte_models/weights\\vggmodel_weight.h5\n",
            "Epoch 11/200\n",
            "5370/5370 [==============================] - 801s 149ms/step - loss: 0.6497 - accuracy: 0.7439 - val_loss: 0.6368 - val_accuracy: 0.7518\n",
            "\n",
            "Epoch 00011: saving model to satelitte_models/weights\\vggmodel_weight.h5\n",
            "Epoch 12/200\n",
            "5370/5370 [==============================] - 792s 147ms/step - loss: 0.6334 - accuracy: 0.7541 - val_loss: 0.6410 - val_accuracy: 0.7492\n",
            "\n",
            "Epoch 00012: saving model to satelitte_models/weights\\vggmodel_weight.h5\n",
            "Epoch 13/200\n",
            "5370/5370 [==============================] - 809s 151ms/step - loss: 0.6180 - accuracy: 0.7588 - val_loss: 0.6227 - val_accuracy: 0.7628\n",
            "\n",
            "Epoch 00013: saving model to satelitte_models/weights\\vggmodel_weight.h5\n",
            "Epoch 14/200\n",
            "5370/5370 [==============================] - 826s 154ms/step - loss: 0.6086 - accuracy: 0.7622 - val_loss: 0.6320 - val_accuracy: 0.7619\n",
            "\n",
            "Epoch 00014: saving model to satelitte_models/weights\\vggmodel_weight.h5\n",
            "Epoch 15/200\n",
            "5370/5370 [==============================] - 867s 161ms/step - loss: 0.5920 - accuracy: 0.7699 - val_loss: 0.6004 - val_accuracy: 0.7687\n",
            "\n",
            "Epoch 00015: saving model to satelitte_models/weights\\vggmodel_weight.h5\n",
            "Epoch 16/200\n",
            "1470/5370 [=======>......................] - ETA: 8:52 - loss: 0.5805 - accuracy: 0.7763"
          ]
        }
      ],
      "source": [
        "# train the head of the network for a few epochs (all other\n",
        "# layers are frozen)\n",
        "print(\"[INFO] training head...\")\n",
        "H = VGGModel.fit(x = trainGen.generator(),\n",
        "                 validation_data=valGen.generator(),\n",
        "                 steps_per_epoch=trainGen.numImages // 8,\n",
        "                 validation_steps=valGen.numImages // 8,\n",
        "                 batch_size=8,\n",
        "                 epochs=epochs, callbacks=[es, mcp, csv_log], verbose=1)"
      ]
    },
    {
      "cell_type": "code",
      "execution_count": null,
      "id": "871b3ce3",
      "metadata": {
        "id": "871b3ce3",
        "outputId": "5dd6e5e1-381f-4a91-c1f3-aecb69af81a3"
      },
      "outputs": [
        {
          "name": "stdout",
          "output_type": "stream",
          "text": [
            "[INFO] compiling model...\n"
          ]
        }
      ],
      "source": [
        "# compile our model (this needs to be done after our setting our\n",
        "# layers to being non-trainable\n",
        "print(\"[INFO] compiling model...\")\n",
        "\n",
        "# compile the model\n",
        "epochs = 100\n",
        "lr = 1e-4\n",
        "opt = Adam(lr=lr, decay=lr / epochs)\n",
        "VGGModel.compile(loss=\"categorical_crossentropy\", optimizer=opt,\n",
        "              metrics=[\"accuracy\"])"
      ]
    },
    {
      "cell_type": "code",
      "execution_count": null,
      "id": "d4b2195b",
      "metadata": {
        "id": "d4b2195b"
      },
      "outputs": [],
      "source": [
        "VGGModel.load_weights('satelitte_models/weights/vggmodel_weight.h5')"
      ]
    },
    {
      "cell_type": "code",
      "execution_count": null,
      "id": "46040be1",
      "metadata": {
        "id": "46040be1"
      },
      "outputs": [],
      "source": [
        "mcp = ModelCheckpoint(filepath='satelitte_models/weights/vggmodel_weight.h5', save_weights_only=True,\n",
        "                     monitor=\"val_loss\",  verbose=1)"
      ]
    },
    {
      "cell_type": "code",
      "execution_count": null,
      "id": "bf0b839c",
      "metadata": {
        "id": "bf0b839c"
      },
      "outputs": [],
      "source": [
        "es = EarlyStopping(monitor='val_loss', mode='min', verbose=1, patience=5, restore_best_weights=True)"
      ]
    },
    {
      "cell_type": "code",
      "execution_count": null,
      "id": "126923c3",
      "metadata": {
        "id": "126923c3"
      },
      "outputs": [],
      "source": [
        "csv_log = CSVLogger('satelitte_models/train_log/vgg_training.csv', separator=',',append=True)"
      ]
    },
    {
      "cell_type": "code",
      "execution_count": null,
      "id": "cb3a079c",
      "metadata": {
        "id": "cb3a079c"
      },
      "outputs": [],
      "source": [
        "import pandas as pd"
      ]
    },
    {
      "cell_type": "code",
      "execution_count": null,
      "id": "6b45c5a8",
      "metadata": {
        "id": "6b45c5a8"
      },
      "outputs": [],
      "source": [
        "history = pd.read_csv('satelitte_models/train_log/vgg_training.csv')"
      ]
    },
    {
      "cell_type": "code",
      "execution_count": null,
      "id": "ac0bc354",
      "metadata": {
        "id": "ac0bc354",
        "outputId": "e657d7ef-faeb-4989-d426-044f881a83d8"
      },
      "outputs": [
        {
          "data": {
            "text/html": [
              "<div>\n",
              "<style scoped>\n",
              "    .dataframe tbody tr th:only-of-type {\n",
              "        vertical-align: middle;\n",
              "    }\n",
              "\n",
              "    .dataframe tbody tr th {\n",
              "        vertical-align: top;\n",
              "    }\n",
              "\n",
              "    .dataframe thead th {\n",
              "        text-align: right;\n",
              "    }\n",
              "</style>\n",
              "<table border=\"1\" class=\"dataframe\">\n",
              "  <thead>\n",
              "    <tr style=\"text-align: right;\">\n",
              "      <th></th>\n",
              "      <th>epoch</th>\n",
              "      <th>accuracy</th>\n",
              "      <th>loss</th>\n",
              "      <th>val_accuracy</th>\n",
              "      <th>val_loss</th>\n",
              "    </tr>\n",
              "  </thead>\n",
              "  <tbody>\n",
              "    <tr>\n",
              "      <th>0</th>\n",
              "      <td>0</td>\n",
              "      <td>0.613385</td>\n",
              "      <td>0.946528</td>\n",
              "      <td>0.646515</td>\n",
              "      <td>0.884753</td>\n",
              "    </tr>\n",
              "    <tr>\n",
              "      <th>1</th>\n",
              "      <td>1</td>\n",
              "      <td>0.642804</td>\n",
              "      <td>0.880817</td>\n",
              "      <td>0.664071</td>\n",
              "      <td>0.841020</td>\n",
              "    </tr>\n",
              "    <tr>\n",
              "      <th>2</th>\n",
              "      <td>2</td>\n",
              "      <td>0.664711</td>\n",
              "      <td>0.834268</td>\n",
              "      <td>0.689942</td>\n",
              "      <td>0.796501</td>\n",
              "    </tr>\n",
              "    <tr>\n",
              "      <th>3</th>\n",
              "      <td>3</td>\n",
              "      <td>0.682055</td>\n",
              "      <td>0.797741</td>\n",
              "      <td>0.682682</td>\n",
              "      <td>0.788103</td>\n",
              "    </tr>\n",
              "    <tr>\n",
              "      <th>4</th>\n",
              "      <td>4</td>\n",
              "      <td>0.694604</td>\n",
              "      <td>0.769662</td>\n",
              "      <td>0.691922</td>\n",
              "      <td>0.772582</td>\n",
              "    </tr>\n",
              "    <tr>\n",
              "      <th>...</th>\n",
              "      <td>...</td>\n",
              "      <td>...</td>\n",
              "      <td>...</td>\n",
              "      <td>...</td>\n",
              "      <td>...</td>\n",
              "    </tr>\n",
              "    <tr>\n",
              "      <th>90</th>\n",
              "      <td>90</td>\n",
              "      <td>0.900941</td>\n",
              "      <td>0.252816</td>\n",
              "      <td>0.866948</td>\n",
              "      <td>0.442470</td>\n",
              "    </tr>\n",
              "    <tr>\n",
              "      <th>91</th>\n",
              "      <td>91</td>\n",
              "      <td>0.902850</td>\n",
              "      <td>0.250037</td>\n",
              "      <td>0.859953</td>\n",
              "      <td>0.452306</td>\n",
              "    </tr>\n",
              "    <tr>\n",
              "      <th>92</th>\n",
              "      <td>92</td>\n",
              "      <td>0.904456</td>\n",
              "      <td>0.249095</td>\n",
              "      <td>0.860744</td>\n",
              "      <td>0.449079</td>\n",
              "    </tr>\n",
              "    <tr>\n",
              "      <th>93</th>\n",
              "      <td>93</td>\n",
              "      <td>0.903175</td>\n",
              "      <td>0.247544</td>\n",
              "      <td>0.857709</td>\n",
              "      <td>0.467973</td>\n",
              "    </tr>\n",
              "    <tr>\n",
              "      <th>94</th>\n",
              "      <td>94</td>\n",
              "      <td>0.903595</td>\n",
              "      <td>0.246743</td>\n",
              "      <td>0.866288</td>\n",
              "      <td>0.445537</td>\n",
              "    </tr>\n",
              "  </tbody>\n",
              "</table>\n",
              "<p>95 rows × 5 columns</p>\n",
              "</div>"
            ],
            "text/plain": [
              "    epoch  accuracy      loss  val_accuracy  val_loss\n",
              "0       0  0.613385  0.946528      0.646515  0.884753\n",
              "1       1  0.642804  0.880817      0.664071  0.841020\n",
              "2       2  0.664711  0.834268      0.689942  0.796501\n",
              "3       3  0.682055  0.797741      0.682682  0.788103\n",
              "4       4  0.694604  0.769662      0.691922  0.772582\n",
              "..    ...       ...       ...           ...       ...\n",
              "90     90  0.900941  0.252816      0.866948  0.442470\n",
              "91     91  0.902850  0.250037      0.859953  0.452306\n",
              "92     92  0.904456  0.249095      0.860744  0.449079\n",
              "93     93  0.903175  0.247544      0.857709  0.467973\n",
              "94     94  0.903595  0.246743      0.866288  0.445537\n",
              "\n",
              "[95 rows x 5 columns]"
            ]
          },
          "execution_count": 40,
          "metadata": {},
          "output_type": "execute_result"
        }
      ],
      "source": [
        "history"
      ]
    },
    {
      "cell_type": "code",
      "execution_count": null,
      "id": "41446e64",
      "metadata": {
        "id": "41446e64"
      },
      "outputs": [],
      "source": [
        "#history.to_dict('list')"
      ]
    },
    {
      "cell_type": "code",
      "execution_count": null,
      "id": "39d5cfc1",
      "metadata": {
        "id": "39d5cfc1"
      },
      "outputs": [],
      "source": []
    },
    {
      "cell_type": "code",
      "execution_count": null,
      "id": "29ad3472",
      "metadata": {
        "id": "29ad3472",
        "outputId": "1bf9199f-6a51-4431-87d3-669227d6e92e"
      },
      "outputs": [
        {
          "name": "stdout",
          "output_type": "stream",
          "text": [
            "[INFO] training head...\n",
            "Epoch 96/100\n",
            "5370/5370 [==============================] - 759s 139ms/step - loss: 0.2475 - accuracy: 0.9048 - val_loss: 0.5006 - val_accuracy: 0.8444\n",
            "\n",
            "Epoch 00096: saving model to satelitte_models/weights\\vggmodel_weight.h5\n",
            "Epoch 97/100\n",
            "5370/5370 [==============================] - 719s 134ms/step - loss: 0.2506 - accuracy: 0.9009 - val_loss: 0.4518 - val_accuracy: 0.8654\n",
            "\n",
            "Epoch 00097: saving model to satelitte_models/weights\\vggmodel_weight.h5\n",
            "Epoch 98/100\n",
            "5370/5370 [==============================] - 720s 134ms/step - loss: 0.2470 - accuracy: 0.9026 - val_loss: 0.4760 - val_accuracy: 0.8543\n",
            "\n",
            "Epoch 00098: saving model to satelitte_models/weights\\vggmodel_weight.h5\n",
            "Epoch 99/100\n",
            "5370/5370 [==============================] - 708s 132ms/step - loss: 0.2415 - accuracy: 0.9075 - val_loss: 0.4807 - val_accuracy: 0.8561\n",
            "\n",
            "Epoch 00099: saving model to satelitte_models/weights\\vggmodel_weight.h5\n",
            "Epoch 100/100\n",
            "5370/5370 [==============================] - 726s 135ms/step - loss: 0.2426 - accuracy: 0.9048 - val_loss: 0.4796 - val_accuracy: 0.8560\n",
            "\n",
            "Epoch 00100: saving model to satelitte_models/weights\\vggmodel_weight.h5\n"
          ]
        }
      ],
      "source": [
        "# continue training the head of the network for a few epochs (all other\n",
        "# layers are frozen)\n",
        "print(\"[INFO] training head...\")\n",
        "H = VGGModel.fit(x = trainGen.generator(),\n",
        "                 validation_data=valGen.generator(),\n",
        "                 steps_per_epoch=trainGen.numImages // 8,\n",
        "                 validation_steps=valGen.numImages // 8,\n",
        "                 batch_size=8,\n",
        "                 epochs=epochs, initial_epoch= 95, callbacks=[es, mcp, csv_log], verbose=1)"
      ]
    },
    {
      "cell_type": "code",
      "execution_count": null,
      "id": "76fd715c",
      "metadata": {
        "id": "76fd715c"
      },
      "outputs": [],
      "source": [
        "# saving model\n",
        "VGGModel.save('satelitte_models/vgg_model_satelitte.h5')"
      ]
    },
    {
      "cell_type": "code",
      "execution_count": null,
      "id": "38461641",
      "metadata": {
        "id": "38461641",
        "outputId": "21c7b503-4e71-4a00-8544-529ef05bcccf"
      },
      "outputs": [
        {
          "name": "stdout",
          "output_type": "stream",
          "text": [
            "[INFO] training head...\n"
          ]
        },
        {
          "data": {
            "text/plain": [
              "'H = VGGModel.fit(x = trainGen.generator(),\\n                 validation_data=valGen.generator(),\\n                 steps_per_epoch=trainGen.numImages // 8,\\n                 validation_steps=valGen.numImages // 8,\\n                 batch_size=8,\\n                 epochs=epochs, callbacks=es, verbose=1)'"
            ]
          },
          "execution_count": 43,
          "metadata": {},
          "output_type": "execute_result"
        }
      ],
      "source": [
        "# train the head of the network for a few epochs (all other\n",
        "# layers are frozen)\n",
        "print(\"[INFO] training head...\")\n",
        "'''H = VGGModel.fit(x = trainGen.generator(),\n",
        "                 validation_data=valGen.generator(),\n",
        "                 steps_per_epoch=trainGen.numImages // 8,\n",
        "                 validation_steps=valGen.numImages // 8,\n",
        "                 batch_size=8,\n",
        "                 epochs=epochs, callbacks=es, verbose=1)'''"
      ]
    },
    {
      "cell_type": "code",
      "execution_count": null,
      "id": "0d2b3aea",
      "metadata": {
        "id": "0d2b3aea"
      },
      "outputs": [],
      "source": [
        "# saving model\n",
        "#VGGModel.save('satelitte_models/vgg_model_satelitte.h5')"
      ]
    },
    {
      "cell_type": "code",
      "execution_count": null,
      "id": "dc6e9a8c",
      "metadata": {
        "id": "dc6e9a8c"
      },
      "outputs": [],
      "source": [
        "history = pd.read_csv('satelitte_models/train_log/vgg_training.csv')"
      ]
    },
    {
      "cell_type": "code",
      "execution_count": null,
      "id": "5ae5c323",
      "metadata": {
        "id": "5ae5c323"
      },
      "outputs": [],
      "source": [
        "VGGHist = history.to_dict('list')"
      ]
    },
    {
      "cell_type": "code",
      "execution_count": null,
      "id": "c39260d7",
      "metadata": {
        "id": "c39260d7",
        "outputId": "d2e23503-353c-48df-b4c9-84400971916e"
      },
      "outputs": [
        {
          "data": {
            "text/plain": [
              "<matplotlib.legend.Legend at 0x1f55958e5e0>"
            ]
          },
          "execution_count": 49,
          "metadata": {},
          "output_type": "execute_result"
        },
        {
          "data": {
            "image/png": "[encoded data removed]",
            "text/plain": [
              "<Figure size 432x288 with 1 Axes>"
            ]
          },
          "metadata": {},
          "output_type": "display_data"
        }
      ],
      "source": [
        "# plot the training loss and accuracy\n",
        "plt.style.use(\"ggplot\")\n",
        "plt.figure()\n",
        "plt.plot(VGGHist[\"loss\"], label=\"train_loss\")\n",
        "plt.plot(VGGHist[\"val_loss\"], label=\"val_loss\")\n",
        "plt.plot(VGGHist[\"accuracy\"], label=\"train_acc\")\n",
        "plt.plot(VGGHist[\"val_accuracy\"], label=\"val_acc\")\n",
        "plt.title(\"Training Loss and Accuracy on Satelitte Images for Poverty Prediction\")\n",
        "plt.xlabel(\"Epoch #\")\n",
        "plt.ylabel(\"Loss/Accuracy\")\n",
        "plt.legend()"
      ]
    },
    {
      "cell_type": "code",
      "execution_count": null,
      "id": "0ae5731a",
      "metadata": {
        "id": "0ae5731a"
      },
      "outputs": [],
      "source": [
        "testGen.numImages"
      ]
    },
    {
      "cell_type": "code",
      "execution_count": null,
      "id": "1a6c3a05",
      "metadata": {
        "id": "1a6c3a05",
        "outputId": "39a37aa6-c4a3-4add-cf90-67b4b84e5103"
      },
      "outputs": [
        {
          "data": {
            "text/plain": [
              "5616"
            ]
          },
          "execution_count": 50,
          "metadata": {},
          "output_type": "execute_result"
        }
      ],
      "source": [
        "num_pred = (testGen.numImages // 8) * 8\n",
        "num_pred"
      ]
    },
    {
      "cell_type": "code",
      "execution_count": null,
      "id": "a10ec6a4",
      "metadata": {
        "id": "a10ec6a4",
        "outputId": "5514ff54-a2cc-4583-dc29-7fb6d6edd361"
      },
      "outputs": [
        {
          "name": "stdout",
          "output_type": "stream",
          "text": [
            "[INFO] evaluating network...\n",
            "                  precision    recall  f1-score   support\n",
            "\n",
            "    Mali_archive       0.79      0.91      0.85      1475\n",
            "ethiopia_archive       0.92      0.92      0.92      1717\n",
            "  malawi_archive       0.91      0.83      0.87      1270\n",
            " nigeria_archive       0.85      0.76      0.80      1154\n",
            "\n",
            "        accuracy                           0.87      5616\n",
            "       macro avg       0.87      0.86      0.86      5616\n",
            "    weighted avg       0.87      0.87      0.87      5616\n",
            "\n"
          ]
        }
      ],
      "source": [
        "# evaluate the network\n",
        "print(\"[INFO] evaluating network...\")\n",
        "num_pred = (testGen.numImages // 8) * 8\n",
        "predictions = VGGModel.predict(testGen.generator(passes=1),\n",
        "                                      steps=testGen.numImages // 8)\n",
        "y_pred = predictions.argmax(axis=-1)\n",
        "y_true = test_data['labels'][...].argmax(axis=-1)[:num_pred]\n",
        "print(classification_report(y_true, y_pred,\n",
        "                            target_names=classNames))\n",
        "#predictions = model.predict(testX, batch_size=32)\n",
        "#print(classification_report(testY.argmax(axis=1),\n",
        "                            #predictions.argmax(axis=1), target_names=classNames))"
      ]
    },
    {
      "cell_type": "code",
      "execution_count": null,
      "id": "f1d4be8d",
      "metadata": {
        "id": "f1d4be8d"
      },
      "outputs": [],
      "source": [
        "#VGGLoaded = load_model('satelitte_models/vgg_model_satelitte.h5')"
      ]
    },
    {
      "cell_type": "code",
      "execution_count": null,
      "id": "dda8d406",
      "metadata": {
        "id": "dda8d406"
      },
      "outputs": [],
      "source": [
        "VGGLoaded = load_model('satelitte_models/weights/vggmodel_weight_model1.h5')"
      ]
    },
    {
      "cell_type": "markdown",
      "id": "471308ae",
      "metadata": {
        "id": "471308ae"
      },
      "source": [
        "## UNFREZZING FINAL SET OF CONV LAYERS IN VGG16 MODEL - 1"
      ]
    },
    {
      "cell_type": "code",
      "execution_count": null,
      "id": "3cb1838a",
      "metadata": {
        "id": "3cb1838a"
      },
      "outputs": [],
      "source": [
        "# now that the head FC layers have been trained/initialized, lets\n",
        "# unfreeze the final set of CONV layers and make them trainable\n",
        "for layer in baseModel.layers[15:]:\n",
        "    layer.trainable = True"
      ]
    },
    {
      "cell_type": "code",
      "execution_count": null,
      "id": "95e377a8",
      "metadata": {
        "id": "95e377a8",
        "outputId": "f6b8e7b3-cb9c-4a28-e489-b47313341d47"
      },
      "outputs": [
        {
          "name": "stdout",
          "output_type": "stream",
          "text": [
            "[INFO] compiling model...\n"
          ]
        }
      ],
      "source": [
        "# compile our model (this needs to be done after our setting our\n",
        "# layers to being non-trainable\n",
        "print(\"[INFO] compiling model...\")\n",
        "\n",
        "# compile the model\n",
        "epochs = 100\n",
        "lr = 1e-4\n",
        "opt = Adam(lr=lr, decay=lr / epochs)\n",
        "VGGLoaded.compile(loss=\"categorical_crossentropy\", optimizer=opt,\n",
        "              metrics=[\"accuracy\"])"
      ]
    },
    {
      "cell_type": "code",
      "execution_count": null,
      "id": "12096171",
      "metadata": {
        "id": "12096171"
      },
      "outputs": [],
      "source": [
        "mcp = ModelCheckpoint(filepath='satelitte_models/weights/vggmodel_weight_model1.h5', save_best_only=True,\n",
        "                     monitor=\"val_loss\",  verbose=1)"
      ]
    },
    {
      "cell_type": "code",
      "execution_count": null,
      "id": "ed4438a1",
      "metadata": {
        "id": "ed4438a1"
      },
      "outputs": [],
      "source": [
        "es = EarlyStopping(monitor='val_loss', mode='min', verbose=1, patience=10, restore_best_weights=True)"
      ]
    },
    {
      "cell_type": "code",
      "execution_count": null,
      "id": "98bd4f70",
      "metadata": {
        "id": "98bd4f70"
      },
      "outputs": [],
      "source": [
        "csv_log = CSVLogger('satelitte_models/train_log/vgg_training1.csv', separator=',',append=True)"
      ]
    },
    {
      "cell_type": "code",
      "execution_count": null,
      "id": "5fce2c3f",
      "metadata": {
        "id": "5fce2c3f",
        "outputId": "2d67cee5-7dae-461e-e9b0-1e46f1c4b0ba"
      },
      "outputs": [
        {
          "data": {
            "text/plain": [
              "42962"
            ]
          },
          "execution_count": 56,
          "metadata": {},
          "output_type": "execute_result"
        }
      ],
      "source": [
        "trainGen.numImages"
      ]
    },
    {
      "cell_type": "code",
      "execution_count": null,
      "id": "5ef23e31",
      "metadata": {
        "id": "5ef23e31",
        "outputId": "20298522-19a4-4444-c473-3f9a39fb75cf"
      },
      "outputs": [
        {
          "name": "stdout",
          "output_type": "stream",
          "text": [
            "[INFO] training head and convollutional layer...\n",
            "Epoch 1/100\n",
            "5370/5370 [==============================] - 747s 139ms/step - loss: 0.2396 - accuracy: 0.9053 - val_loss: 0.4732 - val_accuracy: 0.8611\n",
            "\n",
            "Epoch 00001: val_loss improved from inf to 0.47324, saving model to satelitte_models/weights\\vggmodel_weight_model1.h5\n",
            "Epoch 2/100\n",
            "5370/5370 [==============================] - 737s 137ms/step - loss: 0.2333 - accuracy: 0.9089 - val_loss: 0.5031 - val_accuracy: 0.8516\n",
            "\n",
            "Epoch 00002: val_loss did not improve from 0.47324\n",
            "Epoch 3/100\n",
            "5370/5370 [==============================] - 713s 133ms/step - loss: 0.2347 - accuracy: 0.9084 - val_loss: 0.4484 - val_accuracy: 0.8644\n",
            "\n",
            "Epoch 00003: val_loss improved from 0.47324 to 0.44840, saving model to satelitte_models/weights\\vggmodel_weight_model1.h5\n",
            "Epoch 4/100\n",
            "5370/5370 [==============================] - 727s 135ms/step - loss: 0.2340 - accuracy: 0.9079 - val_loss: 0.4678 - val_accuracy: 0.8606\n",
            "\n",
            "Epoch 00004: val_loss did not improve from 0.44840\n",
            "Epoch 5/100\n",
            "5370/5370 [==============================] - 719s 134ms/step - loss: 0.2302 - accuracy: 0.9100 - val_loss: 0.4885 - val_accuracy: 0.8520\n",
            "\n",
            "Epoch 00005: val_loss did not improve from 0.44840\n",
            "Epoch 6/100\n",
            "5370/5370 [==============================] - 731s 136ms/step - loss: 0.2295 - accuracy: 0.9105 - val_loss: 0.4726 - val_accuracy: 0.8597\n",
            "\n",
            "Epoch 00006: val_loss did not improve from 0.44840\n",
            "Epoch 7/100\n",
            "5370/5370 [==============================] - 759s 141ms/step - loss: 0.2268 - accuracy: 0.9097 - val_loss: 0.4685 - val_accuracy: 0.8605\n",
            "\n",
            "Epoch 00007: val_loss did not improve from 0.44840\n",
            "Epoch 8/100\n",
            "5370/5370 [==============================] - 759s 141ms/step - loss: 0.2259 - accuracy: 0.9107 - val_loss: 0.4558 - val_accuracy: 0.8622\n",
            "\n",
            "Epoch 00008: val_loss did not improve from 0.44840\n",
            "Epoch 9/100\n",
            "5370/5370 [==============================] - 772s 144ms/step - loss: 0.2264 - accuracy: 0.9110 - val_loss: 0.4550 - val_accuracy: 0.8668\n",
            "\n",
            "Epoch 00009: val_loss did not improve from 0.44840\n",
            "Epoch 10/100\n",
            "5370/5370 [==============================] - 774s 144ms/step - loss: 0.2215 - accuracy: 0.9133 - val_loss: 0.4567 - val_accuracy: 0.8687\n",
            "\n",
            "Epoch 00010: val_loss did not improve from 0.44840\n",
            "Epoch 11/100\n",
            "5370/5370 [==============================] - 782s 146ms/step - loss: 0.2219 - accuracy: 0.9126 - val_loss: 0.4470 - val_accuracy: 0.8688\n",
            "\n",
            "Epoch 00011: val_loss improved from 0.44840 to 0.44702, saving model to satelitte_models/weights\\vggmodel_weight_model1.h5\n",
            "Epoch 12/100\n",
            "5370/5370 [==============================] - 791s 147ms/step - loss: 0.2242 - accuracy: 0.9116 - val_loss: 0.4657 - val_accuracy: 0.8636\n",
            "\n",
            "Epoch 00012: val_loss did not improve from 0.44702\n",
            "Epoch 13/100\n",
            "5370/5370 [==============================] - 834s 155ms/step - loss: 0.2179 - accuracy: 0.9143 - val_loss: 0.4511 - val_accuracy: 0.8741\n",
            "\n",
            "Epoch 00013: val_loss did not improve from 0.44702\n",
            "Epoch 14/100\n",
            "5370/5370 [==============================] - 813s 151ms/step - loss: 0.2176 - accuracy: 0.9146 - val_loss: 0.4688 - val_accuracy: 0.8646\n",
            "\n",
            "Epoch 00014: val_loss did not improve from 0.44702\n",
            "Epoch 15/100\n",
            "5370/5370 [==============================] - 829s 154ms/step - loss: 0.2148 - accuracy: 0.9153 - val_loss: 0.4633 - val_accuracy: 0.8697\n",
            "\n",
            "Epoch 00015: val_loss did not improve from 0.44702\n",
            "Epoch 16/100\n",
            "5370/5370 [==============================] - 871s 162ms/step - loss: 0.2127 - accuracy: 0.9175 - val_loss: 0.4683 - val_accuracy: 0.8721\n",
            "\n",
            "Epoch 00016: val_loss did not improve from 0.44702\n",
            "Epoch 17/100\n",
            "1253/5370 [======>.......................] - ETA: 9:47 - loss: 0.2224 - accuracy: 0.9129"
          ]
        }
      ],
      "source": [
        "# train the head of the network for a few epochs (all other\n",
        "# layers are frozen)\n",
        "print(\"[INFO] training head and convollutional layer...\")\n",
        "H = VGGLoaded.fit(x = trainGen.generator(),\n",
        "                 validation_data=valGen.generator(),\n",
        "                 steps_per_epoch=trainGen.numImages // 8,\n",
        "                 validation_steps=valGen.numImages // 8,\n",
        "                 batch_size=8,\n",
        "                 epochs=epochs, callbacks=[es, mcp, csv_log], verbose=1)"
      ]
    },
    {
      "cell_type": "code",
      "execution_count": null,
      "id": "be96bccf",
      "metadata": {
        "id": "be96bccf",
        "outputId": "4f9c6c7f-43e2-41a2-b3ea-cb15a4d8cae9"
      },
      "outputs": [
        {
          "name": "stdout",
          "output_type": "stream",
          "text": [
            "[INFO] compiling model...\n"
          ]
        }
      ],
      "source": [
        "# compile our model (this needs to be done after our setting our\n",
        "# layers to being non-trainable\n",
        "print(\"[INFO] compiling model...\")\n",
        "\n",
        "# compile the model\n",
        "epochs = 100\n",
        "lr = 1e-4\n",
        "opt = Adam(lr=lr, decay=lr / epochs)\n",
        "VGGModel.compile(loss=\"categorical_crossentropy\", optimizer=opt,\n",
        "              metrics=[\"accuracy\"])"
      ]
    },
    {
      "cell_type": "code",
      "execution_count": null,
      "id": "61429b57",
      "metadata": {
        "id": "61429b57"
      },
      "outputs": [],
      "source": [
        "VGGModel.load_weights('satelitte_models/weights/vggmodel_weight1.h5')"
      ]
    },
    {
      "cell_type": "code",
      "execution_count": null,
      "id": "a0901daf",
      "metadata": {
        "id": "a0901daf"
      },
      "outputs": [],
      "source": [
        "mcp = ModelCheckpoint(filepath='satelitte_models/weights/vggmodel_weight1.h5', save_weights_only=True,\n",
        "                     monitor=\"val_loss\",  verbose=1)"
      ]
    },
    {
      "cell_type": "code",
      "execution_count": null,
      "id": "b3de7d36",
      "metadata": {
        "id": "b3de7d36"
      },
      "outputs": [],
      "source": [
        "es = EarlyStopping(monitor='val_loss', mode='min', verbose=1, patience=5, restore_best_weights=True)"
      ]
    },
    {
      "cell_type": "code",
      "execution_count": null,
      "metadata": {
        "id": "dMzeUhPW5eoA"
      },
      "outputs": [],
      "source": [
        "csv_log = CSVLogger('satelitte_models/train_log/vgg_training1.csv', separator=',',append=True)"
      ],
      "id": "dMzeUhPW5eoA"
    },
    {
      "cell_type": "code",
      "execution_count": null,
      "metadata": {
        "id": "BTicW2U-5eoB"
      },
      "outputs": [],
      "source": [
        "import pandas as pd"
      ],
      "id": "BTicW2U-5eoB"
    },
    {
      "cell_type": "code",
      "execution_count": null,
      "metadata": {
        "id": "crLCVGOa5eoC"
      },
      "outputs": [],
      "source": [
        "history = pd.read_csv('satelitte_models/train_log/vgg_training1.csv')"
      ],
      "id": "crLCVGOa5eoC"
    },
    {
      "cell_type": "code",
      "execution_count": null,
      "metadata": {
        "id": "-NZj5kkv5eoC",
        "outputId": "8c44f28a-c4cb-4335-e280-06627d0a6b23"
      },
      "outputs": [
        {
          "data": {
            "text/html": [
              "<div>\n",
              "<style scoped>\n",
              "    .dataframe tbody tr th:only-of-type {\n",
              "        vertical-align: middle;\n",
              "    }\n",
              "\n",
              "    .dataframe tbody tr th {\n",
              "        vertical-align: top;\n",
              "    }\n",
              "\n",
              "    .dataframe thead th {\n",
              "        text-align: right;\n",
              "    }\n",
              "</style>\n",
              "<table border=\"1\" class=\"dataframe\">\n",
              "  <thead>\n",
              "    <tr style=\"text-align: right;\">\n",
              "      <th></th>\n",
              "      <th>epoch</th>\n",
              "      <th>accuracy</th>\n",
              "      <th>loss</th>\n",
              "      <th>val_accuracy</th>\n",
              "      <th>val_loss</th>\n",
              "    </tr>\n",
              "  </thead>\n",
              "  <tbody>\n",
              "    <tr>\n",
              "      <th>0</th>\n",
              "      <td>0</td>\n",
              "      <td>0.905261</td>\n",
              "      <td>0.239583</td>\n",
              "      <td>0.861140</td>\n",
              "      <td>0.473235</td>\n",
              "    </tr>\n",
              "    <tr>\n",
              "      <th>1</th>\n",
              "      <td>1</td>\n",
              "      <td>0.908903</td>\n",
              "      <td>0.233339</td>\n",
              "      <td>0.851637</td>\n",
              "      <td>0.503111</td>\n",
              "    </tr>\n",
              "    <tr>\n",
              "      <th>2</th>\n",
              "      <td>2</td>\n",
              "      <td>0.908390</td>\n",
              "      <td>0.234718</td>\n",
              "      <td>0.864440</td>\n",
              "      <td>0.448402</td>\n",
              "    </tr>\n",
              "    <tr>\n",
              "      <th>3</th>\n",
              "      <td>3</td>\n",
              "      <td>0.907948</td>\n",
              "      <td>0.233969</td>\n",
              "      <td>0.860612</td>\n",
              "      <td>0.467788</td>\n",
              "    </tr>\n",
              "    <tr>\n",
              "      <th>4</th>\n",
              "      <td>4</td>\n",
              "      <td>0.910020</td>\n",
              "      <td>0.230232</td>\n",
              "      <td>0.852033</td>\n",
              "      <td>0.488536</td>\n",
              "    </tr>\n",
              "    <tr>\n",
              "      <th>5</th>\n",
              "      <td>5</td>\n",
              "      <td>0.910509</td>\n",
              "      <td>0.229544</td>\n",
              "      <td>0.859688</td>\n",
              "      <td>0.472573</td>\n",
              "    </tr>\n",
              "    <tr>\n",
              "      <th>6</th>\n",
              "      <td>6</td>\n",
              "      <td>0.909717</td>\n",
              "      <td>0.226757</td>\n",
              "      <td>0.860480</td>\n",
              "      <td>0.468518</td>\n",
              "    </tr>\n",
              "    <tr>\n",
              "      <th>7</th>\n",
              "      <td>7</td>\n",
              "      <td>0.910742</td>\n",
              "      <td>0.225938</td>\n",
              "      <td>0.862196</td>\n",
              "      <td>0.455837</td>\n",
              "    </tr>\n",
              "    <tr>\n",
              "      <th>8</th>\n",
              "      <td>8</td>\n",
              "      <td>0.910975</td>\n",
              "      <td>0.226398</td>\n",
              "      <td>0.866816</td>\n",
              "      <td>0.455020</td>\n",
              "    </tr>\n",
              "    <tr>\n",
              "      <th>9</th>\n",
              "      <td>9</td>\n",
              "      <td>0.913349</td>\n",
              "      <td>0.221468</td>\n",
              "      <td>0.868664</td>\n",
              "      <td>0.456677</td>\n",
              "    </tr>\n",
              "    <tr>\n",
              "      <th>10</th>\n",
              "      <td>10</td>\n",
              "      <td>0.912627</td>\n",
              "      <td>0.221921</td>\n",
              "      <td>0.868796</td>\n",
              "      <td>0.447019</td>\n",
              "    </tr>\n",
              "    <tr>\n",
              "      <th>11</th>\n",
              "      <td>11</td>\n",
              "      <td>0.911650</td>\n",
              "      <td>0.224160</td>\n",
              "      <td>0.863648</td>\n",
              "      <td>0.465722</td>\n",
              "    </tr>\n",
              "    <tr>\n",
              "      <th>12</th>\n",
              "      <td>12</td>\n",
              "      <td>0.914327</td>\n",
              "      <td>0.217928</td>\n",
              "      <td>0.874076</td>\n",
              "      <td>0.451081</td>\n",
              "    </tr>\n",
              "    <tr>\n",
              "      <th>13</th>\n",
              "      <td>13</td>\n",
              "      <td>0.914606</td>\n",
              "      <td>0.217647</td>\n",
              "      <td>0.864572</td>\n",
              "      <td>0.468805</td>\n",
              "    </tr>\n",
              "    <tr>\n",
              "      <th>14</th>\n",
              "      <td>14</td>\n",
              "      <td>0.915328</td>\n",
              "      <td>0.214790</td>\n",
              "      <td>0.869720</td>\n",
              "      <td>0.463342</td>\n",
              "    </tr>\n",
              "    <tr>\n",
              "      <th>15</th>\n",
              "      <td>15</td>\n",
              "      <td>0.917493</td>\n",
              "      <td>0.212722</td>\n",
              "      <td>0.872096</td>\n",
              "      <td>0.468262</td>\n",
              "    </tr>\n",
              "  </tbody>\n",
              "</table>\n",
              "</div>"
            ],
            "text/plain": [
              "    epoch  accuracy      loss  val_accuracy  val_loss\n",
              "0       0  0.905261  0.239583      0.861140  0.473235\n",
              "1       1  0.908903  0.233339      0.851637  0.503111\n",
              "2       2  0.908390  0.234718      0.864440  0.448402\n",
              "3       3  0.907948  0.233969      0.860612  0.467788\n",
              "4       4  0.910020  0.230232      0.852033  0.488536\n",
              "5       5  0.910509  0.229544      0.859688  0.472573\n",
              "6       6  0.909717  0.226757      0.860480  0.468518\n",
              "7       7  0.910742  0.225938      0.862196  0.455837\n",
              "8       8  0.910975  0.226398      0.866816  0.455020\n",
              "9       9  0.913349  0.221468      0.868664  0.456677\n",
              "10     10  0.912627  0.221921      0.868796  0.447019\n",
              "11     11  0.911650  0.224160      0.863648  0.465722\n",
              "12     12  0.914327  0.217928      0.874076  0.451081\n",
              "13     13  0.914606  0.217647      0.864572  0.468805\n",
              "14     14  0.915328  0.214790      0.869720  0.463342\n",
              "15     15  0.917493  0.212722      0.872096  0.468262"
            ]
          },
          "execution_count": 33,
          "metadata": {},
          "output_type": "execute_result"
        }
      ],
      "source": [
        "history"
      ],
      "id": "-NZj5kkv5eoC"
    },
    {
      "cell_type": "code",
      "execution_count": null,
      "id": "6adfd7f3",
      "metadata": {
        "id": "6adfd7f3"
      },
      "outputs": [],
      "source": [
        "H = history.to_dict('list')"
      ]
    },
    {
      "cell_type": "code",
      "execution_count": null,
      "id": "b0788c85",
      "metadata": {
        "id": "b0788c85",
        "outputId": "ddcf3daa-5da0-4dc4-9183-58047904f5bd"
      },
      "outputs": [
        {
          "data": {
            "text/plain": [
              "<matplotlib.legend.Legend at 0x2a42dff4b50>"
            ]
          },
          "execution_count": 35,
          "metadata": {},
          "output_type": "execute_result"
        },
        {
          "data": {
            "image/png": "[encoded data removed]",
            "text/plain": [
              "<Figure size 432x288 with 1 Axes>"
            ]
          },
          "metadata": {},
          "output_type": "display_data"
        }
      ],
      "source": [
        "# plot the training loss and accuracy\n",
        "plt.style.use(\"ggplot\")\n",
        "plt.figure()\n",
        "plt.plot(H[\"loss\"], label=\"train_loss\")\n",
        "plt.plot(H[\"val_loss\"], label=\"val_loss\")\n",
        "plt.plot(H[\"accuracy\"], label=\"train_acc\")\n",
        "plt.plot(H[\"val_accuracy\"], label=\"val_acc\")\n",
        "plt.title(\"Training Loss and Accuracy on Satelitte Images for Poverty Prediction\")\n",
        "plt.xlabel(\"Epoch #\")\n",
        "plt.ylabel(\"Loss/Accuracy\")\n",
        "plt.legend()"
      ]
    },
    {
      "cell_type": "code",
      "execution_count": null,
      "id": "5bdac906",
      "metadata": {
        "id": "5bdac906"
      },
      "outputs": [],
      "source": [
        "testGen.numImages"
      ]
    },
    {
      "cell_type": "code",
      "execution_count": null,
      "id": "f6ee54c8",
      "metadata": {
        "id": "f6ee54c8"
      },
      "outputs": [],
      "source": [
        "num_pred = (testGen.numImages // 8) * 8\n",
        "num_pred"
      ]
    },
    {
      "cell_type": "code",
      "execution_count": null,
      "id": "b83232f2",
      "metadata": {
        "id": "b83232f2",
        "outputId": "ce9e1eee-3fab-47df-f2ea-3c8de3b5211c"
      },
      "outputs": [
        {
          "name": "stdout",
          "output_type": "stream",
          "text": [
            "[INFO] evaluating network...\n",
            "                  precision    recall  f1-score   support\n",
            "\n",
            "    Mali_archive       0.81      0.91      0.86      1475\n",
            "ethiopia_archive       0.93      0.92      0.92      1717\n",
            "  malawi_archive       0.88      0.88      0.88      1270\n",
            " nigeria_archive       0.87      0.77      0.82      1154\n",
            "\n",
            "        accuracy                           0.87      5616\n",
            "       macro avg       0.87      0.87      0.87      5616\n",
            "    weighted avg       0.88      0.87      0.87      5616\n",
            "\n"
          ]
        }
      ],
      "source": [
        "# evaluate the network\n",
        "print(\"[INFO] evaluating network...\")\n",
        "num_pred = (testGen.numImages // 8) * 8\n",
        "predictions =  VGGLoaded.predict(testGen.generator(passes=1),\n",
        "                                      steps=testGen.numImages // 8)\n",
        "y_pred = predictions.argmax(axis=-1)\n",
        "y_true = test_data['labels'][...].argmax(axis=-1)[:num_pred]\n",
        "print(classification_report(y_true, y_pred,\n",
        "                            target_names=classNames))\n",
        "#predictions = model.predict(testX, batch_size=32)\n",
        "#print(classification_report(testY.argmax(axis=1),\n",
        "                            #predictions.argmax(axis=1), target_names=classNames))"
      ]
    },
    {
      "cell_type": "code",
      "execution_count": null,
      "id": "ac36c1a5",
      "metadata": {
        "id": "ac36c1a5"
      },
      "outputs": [],
      "source": []
    }
  ],
  "metadata": {
    "kernelspec": {
      "display_name": "workspace",
      "language": "python",
      "name": "workspace"
    },
    "language_info": {
      "codemirror_mode": {
        "name": "ipython",
        "version": 3
      },
      "file_extension": ".py",
      "mimetype": "text/x-python",
      "name": "python",
      "nbconvert_exporter": "python",
      "pygments_lexer": "ipython3",
      "version": "3.8.11"
    },
    "colab": {
      "provenance": [],
      "include_colab_link": true
    }
  },
  "nbformat": 4,
  "nbformat_minor": 5
}